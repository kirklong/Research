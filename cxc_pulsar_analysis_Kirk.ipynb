{
 "cells": [
  {
   "cell_type": "code",
   "execution_count": 2,
   "metadata": {},
   "outputs": [],
   "source": [
    "using DataFrames, CSV, DelimitedFiles, Plots, FFTW"
   ]
  },
  {
   "cell_type": "markdown",
   "metadata": {},
   "source": [
    "Current Numbers:\n",
    "fft files - 11268 (fftable sources)\n",
    "total powers - 42380567\n",
    "approx 40000 independent freqs/src\n",
    "approx 4 powers above 10 per src by expected distribution\n",
    "\n",
    "widest possible delta f 2000 frequencies (high max, Pdot = 10^-2 s/yr)\n",
    "40 wide bins/src, one power above 10 every 10 bins\n",
    "\n",
    "update - \n",
    "  42380568   42380568 5049207291 cxc.fftinfo.all0\n",
    "    213078     213078   25160265 cxc.fftinfo.all5\n",
    "     76311      76311    9012632 cxc.fftinfo.all6\n",
    "     28384      28384    3353340 cxc.fftinfo.all7\n",
    "     11256      11256    1330623 cxc.fftinfo.all8\n",
    "      5346       5346     633635 cxc.fftinfo.all9\n",
    "      3127       3127     371801 cxc.fftinfo.all10\n",
    "      2242       2242     266489 cxc.fftinfo.all11\n",
    "      1858       1858     220749 cxc.fftinfo.all12\n",
    "      1630       1630     193543 cxc.fftinfo.all13\n",
    "\n",
    "julia> MathConstants.e^17.5\n",
    "3.982478439757623e7\n",
    "\n",
    "julia> MathConstants.e^9\n",
    "\n",
    "Note:   The following periods are characteristic periods for chandra data - 707 and 1000 seconds (acis dithering), harmonics of these up to 0.02 Hz, "
   ]
  },
  {
   "cell_type": "code",
   "execution_count": 4,
   "metadata": {},
   "outputs": [
    {
     "name": "stderr",
     "output_type": "stream",
     "text": [
      "WARNING: replacing module DJM.\n"
     ]
    },
    {
     "data": {
      "text/plain": [
       "Main.DJM"
      ]
     },
     "execution_count": 4,
     "metadata": {},
     "output_type": "execute_result"
    }
   ],
   "source": [
    "include(\"/home/kirk/Documents/research/CHANDRATest/DJM.jl\")\n",
    "#include(\"/home/djm/Programming/Julia/Utility.jl\")"
   ]
  },
  {
   "cell_type": "code",
   "execution_count": 5,
   "metadata": {},
   "outputs": [
    {
     "data": {
      "text/html": [
       "<table class=\"data-frame\"><thead><tr><th></th><th>obsid</th><th>srcnum</th><th>startdate</th><th>exptime</th><th>ra</th><th>dec</th><th>freq</th><th>power</th></tr><tr><th></th><th>Int64</th><th>Int64</th><th>Float64</th><th>Float64</th><th>Float64</th><th>Float64</th><th>Float64</th><th>Float64</th></tr></thead><tbody><p>11,255 rows × 8 columns</p><tr><th>1</th><td>1026</td><td>26</td><td>51833.8</td><td>6458.48</td><td>19.9382</td><td>-73.4501</td><td>0.00123975</td><td>13.2664</td></tr><tr><th>2</th><td>1026</td><td>8</td><td>51833.8</td><td>6458.48</td><td>19.5522</td><td>-73.6193</td><td>0.154427</td><td>9.16655</td></tr><tr><th>3</th><td>1027</td><td>107</td><td>51855.0</td><td>6133.27</td><td>18.8667</td><td>-73.3961</td><td>0.0185454</td><td>9.14431</td></tr><tr><th>4</th><td>1027</td><td>107</td><td>51855.0</td><td>6133.27</td><td>18.8667</td><td>-73.3961</td><td>0.144096</td><td>8.02378</td></tr><tr><th>5</th><td>1027</td><td>36</td><td>51855.0</td><td>6133.27</td><td>19.782</td><td>-73.5006</td><td>0.0813522</td><td>8.00401</td></tr><tr><th>6</th><td>1027</td><td>40</td><td>51855.0</td><td>6133.27</td><td>19.7033</td><td>-73.4917</td><td>0.0417401</td><td>8.04439</td></tr><tr><th>7</th><td>1027</td><td>54</td><td>51855.0</td><td>6133.27</td><td>19.5056</td><td>-73.4696</td><td>0.14484</td><td>8.14304</td></tr><tr><th>8</th><td>1027</td><td>58</td><td>51855.0</td><td>6133.27</td><td>19.4489</td><td>-73.4632</td><td>0.0598763</td><td>8.05626</td></tr><tr><th>9</th><td>1027</td><td>91</td><td>51855.0</td><td>6133.27</td><td>19.0827</td><td>-73.4213</td><td>0.0622972</td><td>8.75528</td></tr><tr><th>10</th><td>1028</td><td>100</td><td>51856.5</td><td>6324.74</td><td>19.0782</td><td>-73.419</td><td>0.00079317</td><td>9.37595</td></tr><tr><th>11</th><td>1028</td><td>103</td><td>51856.5</td><td>6324.74</td><td>19.0553</td><td>-73.416</td><td>0.000954257</td><td>8.29069</td></tr><tr><th>12</th><td>1028</td><td>104</td><td>51856.5</td><td>6324.74</td><td>19.0476</td><td>-73.4151</td><td>0.00079073</td><td>8.29263</td></tr><tr><th>13</th><td>1028</td><td>105</td><td>51856.5</td><td>6324.74</td><td>19.038</td><td>-73.414</td><td>0.000316292</td><td>13.824</td></tr><tr><th>14</th><td>1028</td><td>105</td><td>51856.5</td><td>6324.74</td><td>19.038</td><td>-73.414</td><td>0.00079073</td><td>8.05898</td></tr><tr><th>15</th><td>1028</td><td>108</td><td>51856.5</td><td>6324.74</td><td>18.9999</td><td>-73.4091</td><td>0.000316617</td><td>8.18139</td></tr><tr><th>16</th><td>1028</td><td>108</td><td>51856.5</td><td>6324.74</td><td>18.9999</td><td>-73.4091</td><td>0.000791542</td><td>10.9301</td></tr><tr><th>17</th><td>1028</td><td>109</td><td>51856.5</td><td>6324.74</td><td>18.9904</td><td>-73.4081</td><td>0.00094985</td><td>9.10865</td></tr><tr><th>18</th><td>1028</td><td>113</td><td>51856.5</td><td>6324.74</td><td>18.9547</td><td>-73.4035</td><td>0.00110873</td><td>31.303</td></tr><tr><th>19</th><td>1028</td><td>113</td><td>51856.5</td><td>6324.74</td><td>18.9547</td><td>-73.4035</td><td>0.00126712</td><td>12.1519</td></tr><tr><th>20</th><td>1028</td><td>124</td><td>51856.5</td><td>6324.74</td><td>18.6383</td><td>-73.3635</td><td>0.0284955</td><td>8.70218</td></tr><tr><th>21</th><td>1028</td><td>28</td><td>51856.5</td><td>6324.74</td><td>20.0354</td><td>-73.5351</td><td>0.000316454</td><td>8.19973</td></tr><tr><th>22</th><td>1028</td><td>29</td><td>51856.5</td><td>6324.74</td><td>20.0237</td><td>-73.5337</td><td>0.000317105</td><td>9.72711</td></tr><tr><th>23</th><td>1028</td><td>38</td><td>51856.5</td><td>6324.74</td><td>19.8812</td><td>-73.5169</td><td>0.00110816</td><td>21.5887</td></tr><tr><th>24</th><td>1028</td><td>38</td><td>51856.5</td><td>6324.74</td><td>19.8812</td><td>-73.5169</td><td>0.00126647</td><td>9.20985</td></tr><tr><th>25</th><td>1028</td><td>51</td><td>51856.5</td><td>6324.74</td><td>19.605</td><td>-73.4836</td><td>0.00142624</td><td>8.19243</td></tr><tr><th>26</th><td>1028</td><td>60</td><td>51856.5</td><td>6324.74</td><td>19.5003</td><td>-73.4708</td><td>0.0455461</td><td>8.09873</td></tr><tr><th>27</th><td>1028</td><td>69</td><td>51856.5</td><td>6324.74</td><td>19.3793</td><td>-73.4562</td><td>0.000475169</td><td>8.50385</td></tr><tr><th>28</th><td>1028</td><td>72</td><td>51856.5</td><td>6324.74</td><td>19.3407</td><td>-73.4515</td><td>0.000316779</td><td>8.79257</td></tr><tr><th>29</th><td>1028</td><td>72</td><td>51856.5</td><td>6324.74</td><td>19.3407</td><td>-73.4515</td><td>0.000791948</td><td>9.73286</td></tr><tr><th>30</th><td>1028</td><td>73</td><td>51856.5</td><td>6324.74</td><td>19.331</td><td>-73.4502</td><td>0.00079073</td><td>8.24599</td></tr><tr><th>&vellip;</th><td>&vellip;</td><td>&vellip;</td><td>&vellip;</td><td>&vellip;</td><td>&vellip;</td><td>&vellip;</td><td>&vellip;</td><td>&vellip;</td></tr></tbody></table>"
      ],
      "text/latex": [
       "\\begin{tabular}{r|cccccccc}\n",
       "\t& obsid & srcnum & startdate & exptime & ra & dec & freq & power\\\\\n",
       "\t\\hline\n",
       "\t& Int64 & Int64 & Float64 & Float64 & Float64 & Float64 & Float64 & Float64\\\\\n",
       "\t\\hline\n",
       "\t1 & 1026 & 26 & 51833.8 & 6458.48 & 19.9382 & -73.4501 & 0.00123975 & 13.2664 \\\\\n",
       "\t2 & 1026 & 8 & 51833.8 & 6458.48 & 19.5522 & -73.6193 & 0.154427 & 9.16655 \\\\\n",
       "\t3 & 1027 & 107 & 51855.0 & 6133.27 & 18.8667 & -73.3961 & 0.0185454 & 9.14431 \\\\\n",
       "\t4 & 1027 & 107 & 51855.0 & 6133.27 & 18.8667 & -73.3961 & 0.144096 & 8.02378 \\\\\n",
       "\t5 & 1027 & 36 & 51855.0 & 6133.27 & 19.782 & -73.5006 & 0.0813522 & 8.00401 \\\\\n",
       "\t6 & 1027 & 40 & 51855.0 & 6133.27 & 19.7033 & -73.4917 & 0.0417401 & 8.04439 \\\\\n",
       "\t7 & 1027 & 54 & 51855.0 & 6133.27 & 19.5056 & -73.4696 & 0.14484 & 8.14304 \\\\\n",
       "\t8 & 1027 & 58 & 51855.0 & 6133.27 & 19.4489 & -73.4632 & 0.0598763 & 8.05626 \\\\\n",
       "\t9 & 1027 & 91 & 51855.0 & 6133.27 & 19.0827 & -73.4213 & 0.0622972 & 8.75528 \\\\\n",
       "\t10 & 1028 & 100 & 51856.5 & 6324.74 & 19.0782 & -73.419 & 0.00079317 & 9.37595 \\\\\n",
       "\t11 & 1028 & 103 & 51856.5 & 6324.74 & 19.0553 & -73.416 & 0.000954257 & 8.29069 \\\\\n",
       "\t12 & 1028 & 104 & 51856.5 & 6324.74 & 19.0476 & -73.4151 & 0.00079073 & 8.29263 \\\\\n",
       "\t13 & 1028 & 105 & 51856.5 & 6324.74 & 19.038 & -73.414 & 0.000316292 & 13.824 \\\\\n",
       "\t14 & 1028 & 105 & 51856.5 & 6324.74 & 19.038 & -73.414 & 0.00079073 & 8.05898 \\\\\n",
       "\t15 & 1028 & 108 & 51856.5 & 6324.74 & 18.9999 & -73.4091 & 0.000316617 & 8.18139 \\\\\n",
       "\t16 & 1028 & 108 & 51856.5 & 6324.74 & 18.9999 & -73.4091 & 0.000791542 & 10.9301 \\\\\n",
       "\t17 & 1028 & 109 & 51856.5 & 6324.74 & 18.9904 & -73.4081 & 0.00094985 & 9.10865 \\\\\n",
       "\t18 & 1028 & 113 & 51856.5 & 6324.74 & 18.9547 & -73.4035 & 0.00110873 & 31.303 \\\\\n",
       "\t19 & 1028 & 113 & 51856.5 & 6324.74 & 18.9547 & -73.4035 & 0.00126712 & 12.1519 \\\\\n",
       "\t20 & 1028 & 124 & 51856.5 & 6324.74 & 18.6383 & -73.3635 & 0.0284955 & 8.70218 \\\\\n",
       "\t21 & 1028 & 28 & 51856.5 & 6324.74 & 20.0354 & -73.5351 & 0.000316454 & 8.19973 \\\\\n",
       "\t22 & 1028 & 29 & 51856.5 & 6324.74 & 20.0237 & -73.5337 & 0.000317105 & 9.72711 \\\\\n",
       "\t23 & 1028 & 38 & 51856.5 & 6324.74 & 19.8812 & -73.5169 & 0.00110816 & 21.5887 \\\\\n",
       "\t24 & 1028 & 38 & 51856.5 & 6324.74 & 19.8812 & -73.5169 & 0.00126647 & 9.20985 \\\\\n",
       "\t25 & 1028 & 51 & 51856.5 & 6324.74 & 19.605 & -73.4836 & 0.00142624 & 8.19243 \\\\\n",
       "\t26 & 1028 & 60 & 51856.5 & 6324.74 & 19.5003 & -73.4708 & 0.0455461 & 8.09873 \\\\\n",
       "\t27 & 1028 & 69 & 51856.5 & 6324.74 & 19.3793 & -73.4562 & 0.000475169 & 8.50385 \\\\\n",
       "\t28 & 1028 & 72 & 51856.5 & 6324.74 & 19.3407 & -73.4515 & 0.000316779 & 8.79257 \\\\\n",
       "\t29 & 1028 & 72 & 51856.5 & 6324.74 & 19.3407 & -73.4515 & 0.000791948 & 9.73286 \\\\\n",
       "\t30 & 1028 & 73 & 51856.5 & 6324.74 & 19.331 & -73.4502 & 0.00079073 & 8.24599 \\\\\n",
       "\t$\\dots$ & $\\dots$ & $\\dots$ & $\\dots$ & $\\dots$ & $\\dots$ & $\\dots$ & $\\dots$ & $\\dots$ \\\\\n",
       "\\end{tabular}\n"
      ],
      "text/plain": [
       "11255×8 DataFrame. Omitted printing of 2 columns\n",
       "│ Row   │ obsid │ srcnum │ startdate │ exptime │ ra      │ dec      │\n",
       "│       │ \u001b[90mInt64\u001b[39m │ \u001b[90mInt64\u001b[39m  │ \u001b[90mFloat64\u001b[39m   │ \u001b[90mFloat64\u001b[39m │ \u001b[90mFloat64\u001b[39m │ \u001b[90mFloat64\u001b[39m  │\n",
       "├───────┼───────┼────────┼───────────┼─────────┼─────────┼──────────┤\n",
       "│ 1     │ 1026  │ 26     │ 51833.8   │ 6458.48 │ 19.9382 │ -73.4501 │\n",
       "│ 2     │ 1026  │ 8      │ 51833.8   │ 6458.48 │ 19.5522 │ -73.6193 │\n",
       "│ 3     │ 1027  │ 107    │ 51855.0   │ 6133.27 │ 18.8667 │ -73.3961 │\n",
       "│ 4     │ 1027  │ 107    │ 51855.0   │ 6133.27 │ 18.8667 │ -73.3961 │\n",
       "│ 5     │ 1027  │ 36     │ 51855.0   │ 6133.27 │ 19.782  │ -73.5006 │\n",
       "│ 6     │ 1027  │ 40     │ 51855.0   │ 6133.27 │ 19.7033 │ -73.4917 │\n",
       "│ 7     │ 1027  │ 54     │ 51855.0   │ 6133.27 │ 19.5056 │ -73.4696 │\n",
       "│ 8     │ 1027  │ 58     │ 51855.0   │ 6133.27 │ 19.4489 │ -73.4632 │\n",
       "│ 9     │ 1027  │ 91     │ 51855.0   │ 6133.27 │ 19.0827 │ -73.4213 │\n",
       "│ 10    │ 1028  │ 100    │ 51856.5   │ 6324.74 │ 19.0782 │ -73.419  │\n",
       "⋮\n",
       "│ 11245 │ 9810  │ 8      │ 54495.4   │ 56530.7 │ 16.5087 │ -72.1176 │\n",
       "│ 11246 │ 9810  │ 8      │ 54495.4   │ 56530.7 │ 16.5087 │ -72.1176 │\n",
       "│ 11247 │ 9810  │ 8      │ 54495.4   │ 56530.7 │ 16.5087 │ -72.1176 │\n",
       "│ 11248 │ 9810  │ 8      │ 54495.4   │ 56530.7 │ 16.5087 │ -72.1176 │\n",
       "│ 11249 │ 9810  │ 8      │ 54495.4   │ 56530.7 │ 16.5087 │ -72.1176 │\n",
       "│ 11250 │ 9810  │ 8      │ 54495.4   │ 56530.7 │ 16.5087 │ -72.1176 │\n",
       "│ 11251 │ 9810  │ 8      │ 54495.4   │ 56530.7 │ 16.5087 │ -72.1176 │\n",
       "│ 11252 │ 9810  │ 8      │ 54495.4   │ 56530.7 │ 16.5087 │ -72.1176 │\n",
       "│ 11253 │ 9810  │ 9      │ 54495.4   │ 56530.7 │ 16.4584 │ -72.1089 │\n",
       "│ 11254 │ 9810  │ 9      │ 54495.4   │ 56530.7 │ 16.4584 │ -72.1089 │\n",
       "│ 11255 │ 9810  │ 9      │ 54495.4   │ 56530.7 │ 16.4584 │ -72.1089 │"
      ]
     },
     "execution_count": 5,
     "metadata": {},
     "output_type": "execute_result"
    }
   ],
   "source": [
    "pows8=CSV.read(\"cxc.fftinfo.all8\")\n",
    "#pows=CSV.read(\"cxc.fftinfo.all5\",types=[Int64,Int64,Float64,Float64,Float64,Float64,Float64,Float64])"
   ]
  },
  {
   "cell_type": "code",
   "execution_count": 6,
   "metadata": {},
   "outputs": [
    {
     "data": {
      "text/html": [
       "<table class=\"data-frame\"><thead><tr><th></th><th>obsid</th><th>srcnum</th><th>startdate</th><th>exptime</th><th>ra</th><th>dec</th><th>freq</th><th>power</th></tr><tr><th></th><th>Int64</th><th>Int64</th><th>Float64</th><th>Float64</th><th>Float64</th><th>Float64</th><th>Float64</th><th>Float64</th></tr></thead><tbody><p>11,255 rows × 8 columns</p><tr><th>1</th><td>1026</td><td>26</td><td>51833.8</td><td>6458.48</td><td>19.9382</td><td>-73.4501</td><td>0.00123975</td><td>13.2664</td></tr><tr><th>2</th><td>1026</td><td>8</td><td>51833.8</td><td>6458.48</td><td>19.5522</td><td>-73.6193</td><td>0.154427</td><td>9.16655</td></tr><tr><th>3</th><td>1027</td><td>107</td><td>51855.0</td><td>6133.27</td><td>18.8667</td><td>-73.3961</td><td>0.0185454</td><td>9.14431</td></tr><tr><th>4</th><td>1027</td><td>107</td><td>51855.0</td><td>6133.27</td><td>18.8667</td><td>-73.3961</td><td>0.144096</td><td>8.02378</td></tr><tr><th>5</th><td>1027</td><td>36</td><td>51855.0</td><td>6133.27</td><td>19.782</td><td>-73.5006</td><td>0.0813522</td><td>8.00401</td></tr><tr><th>6</th><td>1027</td><td>40</td><td>51855.0</td><td>6133.27</td><td>19.7033</td><td>-73.4917</td><td>0.0417401</td><td>8.04439</td></tr><tr><th>7</th><td>1027</td><td>54</td><td>51855.0</td><td>6133.27</td><td>19.5056</td><td>-73.4696</td><td>0.14484</td><td>8.14304</td></tr><tr><th>8</th><td>1027</td><td>58</td><td>51855.0</td><td>6133.27</td><td>19.4489</td><td>-73.4632</td><td>0.0598763</td><td>8.05626</td></tr><tr><th>9</th><td>1027</td><td>91</td><td>51855.0</td><td>6133.27</td><td>19.0827</td><td>-73.4213</td><td>0.0622972</td><td>8.75528</td></tr><tr><th>10</th><td>1028</td><td>100</td><td>51856.5</td><td>6324.74</td><td>19.0782</td><td>-73.419</td><td>0.00079317</td><td>9.37595</td></tr><tr><th>11</th><td>1028</td><td>103</td><td>51856.5</td><td>6324.74</td><td>19.0553</td><td>-73.416</td><td>0.000954257</td><td>8.29069</td></tr><tr><th>12</th><td>1028</td><td>104</td><td>51856.5</td><td>6324.74</td><td>19.0476</td><td>-73.4151</td><td>0.00079073</td><td>8.29263</td></tr><tr><th>13</th><td>1028</td><td>105</td><td>51856.5</td><td>6324.74</td><td>19.038</td><td>-73.414</td><td>0.000316292</td><td>13.824</td></tr><tr><th>14</th><td>1028</td><td>105</td><td>51856.5</td><td>6324.74</td><td>19.038</td><td>-73.414</td><td>0.00079073</td><td>8.05898</td></tr><tr><th>15</th><td>1028</td><td>108</td><td>51856.5</td><td>6324.74</td><td>18.9999</td><td>-73.4091</td><td>0.000316617</td><td>8.18139</td></tr><tr><th>16</th><td>1028</td><td>108</td><td>51856.5</td><td>6324.74</td><td>18.9999</td><td>-73.4091</td><td>0.000791542</td><td>10.9301</td></tr><tr><th>17</th><td>1028</td><td>109</td><td>51856.5</td><td>6324.74</td><td>18.9904</td><td>-73.4081</td><td>0.00094985</td><td>9.10865</td></tr><tr><th>18</th><td>1028</td><td>113</td><td>51856.5</td><td>6324.74</td><td>18.9547</td><td>-73.4035</td><td>0.00110873</td><td>31.303</td></tr><tr><th>19</th><td>1028</td><td>113</td><td>51856.5</td><td>6324.74</td><td>18.9547</td><td>-73.4035</td><td>0.00126712</td><td>12.1519</td></tr><tr><th>20</th><td>1028</td><td>124</td><td>51856.5</td><td>6324.74</td><td>18.6383</td><td>-73.3635</td><td>0.0284955</td><td>8.70218</td></tr><tr><th>21</th><td>1028</td><td>28</td><td>51856.5</td><td>6324.74</td><td>20.0354</td><td>-73.5351</td><td>0.000316454</td><td>8.19973</td></tr><tr><th>22</th><td>1028</td><td>29</td><td>51856.5</td><td>6324.74</td><td>20.0237</td><td>-73.5337</td><td>0.000317105</td><td>9.72711</td></tr><tr><th>23</th><td>1028</td><td>38</td><td>51856.5</td><td>6324.74</td><td>19.8812</td><td>-73.5169</td><td>0.00110816</td><td>21.5887</td></tr><tr><th>24</th><td>1028</td><td>38</td><td>51856.5</td><td>6324.74</td><td>19.8812</td><td>-73.5169</td><td>0.00126647</td><td>9.20985</td></tr><tr><th>25</th><td>1028</td><td>51</td><td>51856.5</td><td>6324.74</td><td>19.605</td><td>-73.4836</td><td>0.00142624</td><td>8.19243</td></tr><tr><th>26</th><td>1028</td><td>60</td><td>51856.5</td><td>6324.74</td><td>19.5003</td><td>-73.4708</td><td>0.0455461</td><td>8.09873</td></tr><tr><th>27</th><td>1028</td><td>69</td><td>51856.5</td><td>6324.74</td><td>19.3793</td><td>-73.4562</td><td>0.000475169</td><td>8.50385</td></tr><tr><th>28</th><td>1028</td><td>72</td><td>51856.5</td><td>6324.74</td><td>19.3407</td><td>-73.4515</td><td>0.000316779</td><td>8.79257</td></tr><tr><th>29</th><td>1028</td><td>72</td><td>51856.5</td><td>6324.74</td><td>19.3407</td><td>-73.4515</td><td>0.000791948</td><td>9.73286</td></tr><tr><th>30</th><td>1028</td><td>73</td><td>51856.5</td><td>6324.74</td><td>19.331</td><td>-73.4502</td><td>0.00079073</td><td>8.24599</td></tr><tr><th>&vellip;</th><td>&vellip;</td><td>&vellip;</td><td>&vellip;</td><td>&vellip;</td><td>&vellip;</td><td>&vellip;</td><td>&vellip;</td><td>&vellip;</td></tr></tbody></table>"
      ],
      "text/latex": [
       "\\begin{tabular}{r|cccccccc}\n",
       "\t& obsid & srcnum & startdate & exptime & ra & dec & freq & power\\\\\n",
       "\t\\hline\n",
       "\t& Int64 & Int64 & Float64 & Float64 & Float64 & Float64 & Float64 & Float64\\\\\n",
       "\t\\hline\n",
       "\t1 & 1026 & 26 & 51833.8 & 6458.48 & 19.9382 & -73.4501 & 0.00123975 & 13.2664 \\\\\n",
       "\t2 & 1026 & 8 & 51833.8 & 6458.48 & 19.5522 & -73.6193 & 0.154427 & 9.16655 \\\\\n",
       "\t3 & 1027 & 107 & 51855.0 & 6133.27 & 18.8667 & -73.3961 & 0.0185454 & 9.14431 \\\\\n",
       "\t4 & 1027 & 107 & 51855.0 & 6133.27 & 18.8667 & -73.3961 & 0.144096 & 8.02378 \\\\\n",
       "\t5 & 1027 & 36 & 51855.0 & 6133.27 & 19.782 & -73.5006 & 0.0813522 & 8.00401 \\\\\n",
       "\t6 & 1027 & 40 & 51855.0 & 6133.27 & 19.7033 & -73.4917 & 0.0417401 & 8.04439 \\\\\n",
       "\t7 & 1027 & 54 & 51855.0 & 6133.27 & 19.5056 & -73.4696 & 0.14484 & 8.14304 \\\\\n",
       "\t8 & 1027 & 58 & 51855.0 & 6133.27 & 19.4489 & -73.4632 & 0.0598763 & 8.05626 \\\\\n",
       "\t9 & 1027 & 91 & 51855.0 & 6133.27 & 19.0827 & -73.4213 & 0.0622972 & 8.75528 \\\\\n",
       "\t10 & 1028 & 100 & 51856.5 & 6324.74 & 19.0782 & -73.419 & 0.00079317 & 9.37595 \\\\\n",
       "\t11 & 1028 & 103 & 51856.5 & 6324.74 & 19.0553 & -73.416 & 0.000954257 & 8.29069 \\\\\n",
       "\t12 & 1028 & 104 & 51856.5 & 6324.74 & 19.0476 & -73.4151 & 0.00079073 & 8.29263 \\\\\n",
       "\t13 & 1028 & 105 & 51856.5 & 6324.74 & 19.038 & -73.414 & 0.000316292 & 13.824 \\\\\n",
       "\t14 & 1028 & 105 & 51856.5 & 6324.74 & 19.038 & -73.414 & 0.00079073 & 8.05898 \\\\\n",
       "\t15 & 1028 & 108 & 51856.5 & 6324.74 & 18.9999 & -73.4091 & 0.000316617 & 8.18139 \\\\\n",
       "\t16 & 1028 & 108 & 51856.5 & 6324.74 & 18.9999 & -73.4091 & 0.000791542 & 10.9301 \\\\\n",
       "\t17 & 1028 & 109 & 51856.5 & 6324.74 & 18.9904 & -73.4081 & 0.00094985 & 9.10865 \\\\\n",
       "\t18 & 1028 & 113 & 51856.5 & 6324.74 & 18.9547 & -73.4035 & 0.00110873 & 31.303 \\\\\n",
       "\t19 & 1028 & 113 & 51856.5 & 6324.74 & 18.9547 & -73.4035 & 0.00126712 & 12.1519 \\\\\n",
       "\t20 & 1028 & 124 & 51856.5 & 6324.74 & 18.6383 & -73.3635 & 0.0284955 & 8.70218 \\\\\n",
       "\t21 & 1028 & 28 & 51856.5 & 6324.74 & 20.0354 & -73.5351 & 0.000316454 & 8.19973 \\\\\n",
       "\t22 & 1028 & 29 & 51856.5 & 6324.74 & 20.0237 & -73.5337 & 0.000317105 & 9.72711 \\\\\n",
       "\t23 & 1028 & 38 & 51856.5 & 6324.74 & 19.8812 & -73.5169 & 0.00110816 & 21.5887 \\\\\n",
       "\t24 & 1028 & 38 & 51856.5 & 6324.74 & 19.8812 & -73.5169 & 0.00126647 & 9.20985 \\\\\n",
       "\t25 & 1028 & 51 & 51856.5 & 6324.74 & 19.605 & -73.4836 & 0.00142624 & 8.19243 \\\\\n",
       "\t26 & 1028 & 60 & 51856.5 & 6324.74 & 19.5003 & -73.4708 & 0.0455461 & 8.09873 \\\\\n",
       "\t27 & 1028 & 69 & 51856.5 & 6324.74 & 19.3793 & -73.4562 & 0.000475169 & 8.50385 \\\\\n",
       "\t28 & 1028 & 72 & 51856.5 & 6324.74 & 19.3407 & -73.4515 & 0.000316779 & 8.79257 \\\\\n",
       "\t29 & 1028 & 72 & 51856.5 & 6324.74 & 19.3407 & -73.4515 & 0.000791948 & 9.73286 \\\\\n",
       "\t30 & 1028 & 73 & 51856.5 & 6324.74 & 19.331 & -73.4502 & 0.00079073 & 8.24599 \\\\\n",
       "\t$\\dots$ & $\\dots$ & $\\dots$ & $\\dots$ & $\\dots$ & $\\dots$ & $\\dots$ & $\\dots$ & $\\dots$ \\\\\n",
       "\\end{tabular}\n"
      ],
      "text/plain": [
       "11255×8 DataFrame. Omitted printing of 2 columns\n",
       "│ Row   │ obsid │ srcnum │ startdate │ exptime │ ra      │ dec      │\n",
       "│       │ \u001b[90mInt64\u001b[39m │ \u001b[90mInt64\u001b[39m  │ \u001b[90mFloat64\u001b[39m   │ \u001b[90mFloat64\u001b[39m │ \u001b[90mFloat64\u001b[39m │ \u001b[90mFloat64\u001b[39m  │\n",
       "├───────┼───────┼────────┼───────────┼─────────┼─────────┼──────────┤\n",
       "│ 1     │ 1026  │ 26     │ 51833.8   │ 6458.48 │ 19.9382 │ -73.4501 │\n",
       "│ 2     │ 1026  │ 8      │ 51833.8   │ 6458.48 │ 19.5522 │ -73.6193 │\n",
       "│ 3     │ 1027  │ 107    │ 51855.0   │ 6133.27 │ 18.8667 │ -73.3961 │\n",
       "│ 4     │ 1027  │ 107    │ 51855.0   │ 6133.27 │ 18.8667 │ -73.3961 │\n",
       "│ 5     │ 1027  │ 36     │ 51855.0   │ 6133.27 │ 19.782  │ -73.5006 │\n",
       "│ 6     │ 1027  │ 40     │ 51855.0   │ 6133.27 │ 19.7033 │ -73.4917 │\n",
       "│ 7     │ 1027  │ 54     │ 51855.0   │ 6133.27 │ 19.5056 │ -73.4696 │\n",
       "│ 8     │ 1027  │ 58     │ 51855.0   │ 6133.27 │ 19.4489 │ -73.4632 │\n",
       "│ 9     │ 1027  │ 91     │ 51855.0   │ 6133.27 │ 19.0827 │ -73.4213 │\n",
       "│ 10    │ 1028  │ 100    │ 51856.5   │ 6324.74 │ 19.0782 │ -73.419  │\n",
       "⋮\n",
       "│ 11245 │ 9810  │ 8      │ 54495.4   │ 56530.7 │ 16.5087 │ -72.1176 │\n",
       "│ 11246 │ 9810  │ 8      │ 54495.4   │ 56530.7 │ 16.5087 │ -72.1176 │\n",
       "│ 11247 │ 9810  │ 8      │ 54495.4   │ 56530.7 │ 16.5087 │ -72.1176 │\n",
       "│ 11248 │ 9810  │ 8      │ 54495.4   │ 56530.7 │ 16.5087 │ -72.1176 │\n",
       "│ 11249 │ 9810  │ 8      │ 54495.4   │ 56530.7 │ 16.5087 │ -72.1176 │\n",
       "│ 11250 │ 9810  │ 8      │ 54495.4   │ 56530.7 │ 16.5087 │ -72.1176 │\n",
       "│ 11251 │ 9810  │ 8      │ 54495.4   │ 56530.7 │ 16.5087 │ -72.1176 │\n",
       "│ 11252 │ 9810  │ 8      │ 54495.4   │ 56530.7 │ 16.5087 │ -72.1176 │\n",
       "│ 11253 │ 9810  │ 9      │ 54495.4   │ 56530.7 │ 16.4584 │ -72.1089 │\n",
       "│ 11254 │ 9810  │ 9      │ 54495.4   │ 56530.7 │ 16.4584 │ -72.1089 │\n",
       "│ 11255 │ 9810  │ 9      │ 54495.4   │ 56530.7 │ 16.4584 │ -72.1089 │"
      ]
     },
     "execution_count": 6,
     "metadata": {},
     "output_type": "execute_result"
    }
   ],
   "source": [
    "pows8=CSV.read(\"cxc.fftinfo.all8\")"
   ]
  },
  {
   "cell_type": "code",
   "execution_count": 7,
   "metadata": {},
   "outputs": [
    {
     "data": {
      "text/plain": [
       "pdot (generic function with 1 method)"
      ]
     },
     "execution_count": 7,
     "metadata": {},
     "output_type": "execute_result"
    }
   ],
   "source": [
    "function pdot(f) #change in period due to accretion, serious estimating involved\n",
    "    Pdot2 = log10(0.01)  #seconds/year\n",
    "    Pdot1 = log10(0.00001)\n",
    "    P1 = log10(1.0)\n",
    "    P2 = log10(1000.0)\n",
    "    plog=log10(1/f)\n",
    "\n",
    "    dpdot = (Pdot2 - Pdot1)/(P2-P1)\n",
    "    logpdot = Pdot1 + (plog-P1)*dpdot\n",
    "    return(10^logpdot)\n",
    "end"
   ]
  },
  {
   "cell_type": "code",
   "execution_count": 12,
   "metadata": {},
   "outputs": [
    {
     "name": "stderr",
     "output_type": "stream",
     "text": [
      "┌ Warning: `getindex(df::DataFrame, col_ind::ColumnIndex)` is deprecated, use `df[!, col_ind]` instead.\n",
      "│   caller = top-level scope at In[12]:24\n",
      "└ @ Core ./In[12]:24\n",
      "┌ Warning: `getindex(df::DataFrame, col_ind::ColumnIndex)` is deprecated, use `df[!, col_ind]` instead.\n",
      "│   caller = top-level scope at In[12]:24\n",
      "└ @ Core ./In[12]:24\n",
      "┌ Warning: `getindex(df::DataFrame, col_ind::ColumnIndex)` is deprecated, use `df[!, col_ind]` instead.\n",
      "│   caller = top-level scope at In[12]:25\n",
      "└ @ Core ./In[12]:25\n",
      "┌ Warning: `getindex(df::DataFrame, col_ind::ColumnIndex)` is deprecated, use `df[!, col_ind]` instead.\n",
      "│   caller = top-level scope at In[12]:25\n",
      "└ @ Core ./In[12]:25\n",
      "┌ Warning: `getindex(df::DataFrame, col_ind::ColumnIndex)` is deprecated, use `df[!, col_ind]` instead.\n",
      "│   caller = top-level scope at In[12]:25\n",
      "└ @ Core ./In[12]:25\n",
      "┌ Warning: `getindex(df::DataFrame, col_ind::ColumnIndex)` is deprecated, use `df[!, col_ind]` instead.\n",
      "│   caller = top-level scope at In[12]:25\n",
      "└ @ Core ./In[12]:25\n",
      "┌ Warning: `getindex(df::DataFrame, col_ind::ColumnIndex)` is deprecated, use `df[!, col_ind]` instead.\n",
      "│   caller = top-level scope at In[12]:26\n",
      "└ @ Core ./In[12]:26\n",
      "┌ Warning: `getindex(df::DataFrame, col_ind::ColumnIndex)` is deprecated, use `df[!, col_ind]` instead.\n",
      "│   caller = top-level scope at In[12]:26\n",
      "└ @ Core ./In[12]:26\n",
      "┌ Warning: `getindex(df::DataFrame, col_ind::ColumnIndex)` is deprecated, use `df[!, col_ind]` instead.\n",
      "│   caller = top-level scope at In[12]:28\n",
      "└ @ Core ./In[12]:28\n",
      "┌ Warning: `getindex(df::DataFrame, col_ind::ColumnIndex)` is deprecated, use `df[!, col_ind]` instead.\n",
      "│   caller = top-level scope at In[12]:28\n",
      "└ @ Core ./In[12]:28\n",
      "┌ Warning: `getindex(df::DataFrame, col_ind::ColumnIndex)` is deprecated, use `df[!, col_ind]` instead.\n",
      "│   caller = top-level scope at In[12]:31\n",
      "└ @ Core ./In[12]:31\n",
      "┌ Warning: `getindex(df::DataFrame, col_ind::ColumnIndex)` is deprecated, use `df[!, col_ind]` instead.\n",
      "│   caller = top-level scope at In[12]:32\n",
      "└ @ Core ./In[12]:32\n",
      "┌ Warning: `getindex(df::DataFrame, col_ind::ColumnIndex)` is deprecated, use `df[!, col_ind]` instead.\n",
      "│   caller = top-level scope at In[12]:37\n",
      "└ @ Core ./In[12]:37\n",
      "┌ Warning: `getindex(df::DataFrame, col_ind::ColumnIndex)` is deprecated, use `df[!, col_ind]` instead.\n",
      "│   caller = top-level scope at In[12]:37\n",
      "└ @ Core ./In[12]:37\n",
      "┌ Warning: `getindex(df::DataFrame, col_ind::ColumnIndex)` is deprecated, use `df[!, col_ind]` instead.\n",
      "│   caller = top-level scope at In[12]:49\n",
      "└ @ Core ./In[12]:49\n",
      "┌ Warning: `getindex(df::DataFrame, col_ind::ColumnIndex)` is deprecated, use `df[!, col_ind]` instead.\n",
      "│   caller = top-level scope at In[12]:50\n",
      "└ @ Core ./In[12]:50\n",
      "┌ Warning: `getindex(df::DataFrame, col_ind::ColumnIndex)` is deprecated, use `df[!, col_ind]` instead.\n",
      "│   caller = top-level scope at In[12]:51\n",
      "└ @ Core ./In[12]:51\n",
      "┌ Warning: `getindex(df::DataFrame, col_ind::ColumnIndex)` is deprecated, use `df[!, col_ind]` instead.\n",
      "│   caller = top-level scope at In[12]:52\n",
      "└ @ Core ./In[12]:52\n",
      "┌ Warning: `getindex(df::DataFrame, col_ind::ColumnIndex)` is deprecated, use `df[!, col_ind]` instead.\n",
      "│   caller = top-level scope at In[12]:53\n",
      "└ @ Core ./In[12]:53\n",
      "┌ Warning: `getindex(df::DataFrame, col_ind::ColumnIndex)` is deprecated, use `df[!, col_ind]` instead.\n",
      "│   caller = top-level scope at In[12]:54\n",
      "└ @ Core ./In[12]:54\n",
      "┌ Warning: `getindex(df::DataFrame, col_ind::ColumnIndex)` is deprecated, use `df[!, col_ind]` instead.\n",
      "│   caller = top-level scope at In[12]:55\n",
      "└ @ Core ./In[12]:55\n",
      "┌ Warning: `getindex(df::DataFrame, col_ind::ColumnIndex)` is deprecated, use `df[!, col_ind]` instead.\n",
      "│   caller = top-level scope at In[12]:56\n",
      "└ @ Core ./In[12]:56\n",
      "┌ Warning: `getindex(df::DataFrame, col_ind::ColumnIndex)` is deprecated, use `df[!, col_ind]` instead.\n",
      "│   caller = top-level scope at In[12]:57\n",
      "└ @ Core ./In[12]:57\n",
      "┌ Warning: `getindex(df::DataFrame, col_ind::ColumnIndex)` is deprecated, use `df[!, col_ind]` instead.\n",
      "│   caller = top-level scope at In[12]:58\n",
      "└ @ Core ./In[12]:58\n",
      "┌ Warning: `getindex(df::DataFrame, col_ind::ColumnIndex)` is deprecated, use `df[!, col_ind]` instead.\n",
      "│   caller = top-level scope at In[12]:59\n",
      "└ @ Core ./In[12]:59\n",
      "┌ Warning: `getindex(df::DataFrame, col_ind::ColumnIndex)` is deprecated, use `df[!, col_ind]` instead.\n",
      "│   caller = top-level scope at In[12]:60\n",
      "└ @ Core ./In[12]:60\n"
     ]
    },
    {
     "ename": "InterruptException",
     "evalue": "InterruptException:",
     "output_type": "error",
     "traceback": [
      "InterruptException:",
      "",
      "Stacktrace:",
      " [1] lookup(::Ptr{Nothing}) at ./stacktraces.jl:108",
      " [2] firstcaller(::Array{Union{Ptr{Nothing}, InterpreterIP},1}, ::Tuple{Symbol}) at ./deprecated.jl:97",
      " [3] firstcaller at ./deprecated.jl:90 [inlined]",
      " [4] macro expansion at ./deprecated.jl:75 [inlined]",
      " [5] macro expansion at ./logging.jl:309 [inlined]",
      " [6] depwarn(::String, ::Symbol) at ./deprecated.jl:70",
      " [7] getindex(::DataFrame, ::Symbol) at ./deprecated.jl:56",
      " [8] top-level scope at ./In[12]:25"
     ]
    }
   ],
   "source": [
    "#deltaT=20.  #years\n",
    "dflen = size(pows8)[1]\n",
    "ndiff=0\n",
    "nmatch = 0\n",
    "fi=[]\n",
    "fj=[]\n",
    "pi=[]\n",
    "pj=[]\n",
    "obsi=[]\n",
    "obsj=[]\n",
    "srci=[]\n",
    "srcj=[]\n",
    "rai=[]\n",
    "raj=[]\n",
    "dci=[]\n",
    "dcj=[]\n",
    "#preallocating may be better\n",
    "\n",
    "\n",
    "for i = 1:dflen\n",
    "    for j = i:dflen\n",
    "        global ndiff #don't need to declare global? \n",
    "        global nmatch\n",
    "        if pows8[:obsid][i] != pows8[:obsid][j] #change to dot syntax?\n",
    "            rdist = DJM.gcdist(pows8[:ra][j],pows8[:dec][j],pows8[:ra][i],pows8[:dec][i])\n",
    "            fave = (pows8[:freq][i] + pows8[:freq][j])/2.0\n",
    "            Pdot = pdot(fave)\n",
    "            deltaT = abs(pows8[:startdate][i] - pows8[:startdate][j])/365.25\n",
    "            deltaf = fave*fave*Pdot*deltaT  #likely limit of frequency change\n",
    "\n",
    "            df1=1/pows8[:exptime][i]\n",
    "            df2=1/pows8[:exptime][j]\n",
    "            df = maximum([df1,df2])\n",
    "            #frange = df1+df2\n",
    "            numdf = ceil(deltaf/df) #how many of the largest frequency spaces could it have drifted?\n",
    "            \n",
    "            fdiff = abs(pows8[:freq][i] - pows8[:freq][j])\n",
    "            frange = df*numdf\n",
    "\n",
    "            if (rdist*60.0 > 3*0.01666)\n",
    "            #if (rdist*60.0 < 0.01666)\n",
    "                ndiff = ndiff + 1\n",
    "            end\n",
    "\n",
    "            if ((rdist*60.0 > 3*0.01666) && (fdiff < frange))\n",
    "            #if ((rdist*60.0 < 0.01666) && (fdiff < frange))\n",
    "                #println(pows7[:obsid][i],\" \",pows7[:srcnum][i],\" \",pows7[:freq][i],\" \",pows7[:power][i],\" \",pows7[:obsid][j],\" \",pows7[:srcnum][j],\" \",pows7[:freq][j],\" \",pows7[:power][j])\n",
    "                nmatch = nmatch + 1\n",
    "                push!(fi,pows8[:freq][i])\n",
    "                push!(fj,pows8[:freq][j])\n",
    "                push!(pi,pows8[:power][i])\n",
    "                push!(pj,pows8[:power][j])\n",
    "                push!(obsi,pows8[:obsid][i])\n",
    "                push!(obsj,pows8[:obsid][j])\n",
    "                push!(srci,pows8[:srcnum][i])\n",
    "                push!(srcj,pows8[:srcnum][j])\n",
    "                push!(rai,pows8[:ra][i])\n",
    "                push!(raj,pows8[:ra][j])\n",
    "                push!(dci,pows8[:dec][i])\n",
    "                push!(dcj,pows8[:dec][j])\n",
    "            end\n",
    "\n",
    "        end\n",
    "    end\n",
    "end\n",
    "notsame8=[obsi srci rai dci fi pi obsj srcj raj dcj fj pj]\n",
    "#return(notsame)\n",
    "t1=@timed fi\n",
    "t2=@timed ndiff\n",
    "t3=@timed nmatch"
   ]
  },
  {
   "cell_type": "code",
   "execution_count": 15,
   "metadata": {},
   "outputs": [
    {
     "name": "stdout",
     "output_type": "stream",
     "text": [
      "49033577 167449\n"
     ]
    }
   ],
   "source": [
    "println(ndiff,\" \",nmatch)"
   ]
  },
  {
   "cell_type": "code",
   "execution_count": 16,
   "metadata": {},
   "outputs": [
    {
     "data": {
      "text/html": [
       "<table class=\"data-frame\"><thead><tr><th></th><th>obsid</th><th>srcnum</th><th>startdate</th><th>exptime</th><th>ra</th><th>dec</th><th>freq</th><th>power</th></tr><tr><th></th><th>Int64</th><th>Int64</th><th>Float64</th><th>Float64</th><th>Float64</th><th>Float64</th><th>Float64</th><th>Float64</th></tr></thead><tbody><p>1,857 rows × 8 columns</p><tr><th>1</th><td>1026</td><td>26</td><td>51833.8</td><td>6458.48</td><td>19.9382</td><td>-73.4501</td><td>0.00123975</td><td>13.2664</td></tr><tr><th>2</th><td>1028</td><td>105</td><td>51856.5</td><td>6324.74</td><td>19.038</td><td>-73.414</td><td>0.000316292</td><td>13.824</td></tr><tr><th>3</th><td>1028</td><td>113</td><td>51856.5</td><td>6324.74</td><td>18.9547</td><td>-73.4035</td><td>0.00110873</td><td>31.303</td></tr><tr><th>4</th><td>1028</td><td>113</td><td>51856.5</td><td>6324.74</td><td>18.9547</td><td>-73.4035</td><td>0.00126712</td><td>12.1519</td></tr><tr><th>5</th><td>1028</td><td>38</td><td>51856.5</td><td>6324.74</td><td>19.8812</td><td>-73.5169</td><td>0.00110816</td><td>21.5887</td></tr><tr><th>6</th><td>1028</td><td>88</td><td>51856.5</td><td>6324.74</td><td>19.1853</td><td>-73.4323</td><td>0.000316454</td><td>12.6433</td></tr><tr><th>7</th><td>1029</td><td>13</td><td>52024.6</td><td>6120.26</td><td>19.6143</td><td>-73.4658</td><td>0.00115807</td><td>56.0898</td></tr><tr><th>8</th><td>1030</td><td>14</td><td>52025.6</td><td>6152.72</td><td>19.6181</td><td>-73.4675</td><td>0.00114639</td><td>74.6027</td></tr><tr><th>9</th><td>1030</td><td>14</td><td>52025.6</td><td>6152.72</td><td>19.6181</td><td>-73.4675</td><td>0.00212901</td><td>18.2923</td></tr><tr><th>10</th><td>10986</td><td>12</td><td>55293.9</td><td>34052.2</td><td>21.9418</td><td>-73.5491</td><td>0.000969984</td><td>17.8898</td></tr><tr><th>11</th><td>10986</td><td>12</td><td>55293.9</td><td>34052.2</td><td>21.9418</td><td>-73.5491</td><td>0.00191057</td><td>17.836</td></tr><tr><th>12</th><td>10986</td><td>5</td><td>55293.9</td><td>34052.2</td><td>22.3212</td><td>-73.5923</td><td>0.0120666</td><td>12.0076</td></tr><tr><th>13</th><td>11093</td><td>24</td><td>55259.6</td><td>20165.4</td><td>15.9216</td><td>-71.9815</td><td>0.000132252</td><td>17.8524</td></tr><tr><th>14</th><td>11095</td><td>1</td><td>55334.5</td><td>19052.2</td><td>12.4513</td><td>-73.3696</td><td>0.00145998</td><td>36.8394</td></tr><tr><th>15</th><td>11095</td><td>1</td><td>55334.5</td><td>19052.2</td><td>12.4513</td><td>-73.3696</td><td>0.00286589</td><td>14.6597</td></tr><tr><th>16</th><td>11096</td><td>11</td><td>55349.5</td><td>37051.3</td><td>12.6858</td><td>-73.2682</td><td>0.00318698</td><td>23.5695</td></tr><tr><th>17</th><td>11097</td><td>3</td><td>55301.0</td><td>29993.1</td><td>12.6746</td><td>-73.3607</td><td>0.00103729</td><td>12.9336</td></tr><tr><th>18</th><td>11821</td><td>40</td><td>55539.8</td><td>28549.2</td><td>15.8546</td><td>-72.6607</td><td>0.00104189</td><td>12.6223</td></tr><tr><th>19</th><td>11957</td><td>14</td><td>55195.3</td><td>19392.4</td><td>16.0354</td><td>-71.9839</td><td>0.00144686</td><td>14.2416</td></tr><tr><th>20</th><td>11979</td><td>13</td><td>55296.6</td><td>36049.1</td><td>21.9416</td><td>-73.5491</td><td>0.000971308</td><td>15.7763</td></tr><tr><th>21</th><td>11979</td><td>27</td><td>55296.6</td><td>36049.1</td><td>22.3161</td><td>-73.4153</td><td>0.000112535</td><td>12.4383</td></tr><tr><th>22</th><td>11981</td><td>10</td><td>55317.7</td><td>34048.5</td><td>12.6997</td><td>-73.3049</td><td>0.00344166</td><td>36.4478</td></tr><tr><th>23</th><td>11981</td><td>10</td><td>55317.7</td><td>34048.5</td><td>12.6997</td><td>-73.3049</td><td>0.01712</td><td>12.4862</td></tr><tr><th>24</th><td>11981</td><td>23</td><td>55317.7</td><td>34048.5</td><td>12.5985</td><td>-73.4043</td><td>0.00103777</td><td>12.2876</td></tr><tr><th>25</th><td>11981</td><td>29</td><td>55317.7</td><td>34048.5</td><td>12.9187</td><td>-73.3054</td><td>0.104513</td><td>12.6527</td></tr><tr><th>26</th><td>11982</td><td>5</td><td>55319.6</td><td>24894.2</td><td>12.6996</td><td>-73.3049</td><td>0.00345684</td><td>31.6955</td></tr><tr><th>27</th><td>11982</td><td>7</td><td>55319.6</td><td>24894.2</td><td>12.6864</td><td>-73.2683</td><td>0.00145026</td><td>38.4637</td></tr><tr><th>28</th><td>11983</td><td>10</td><td>55328.6</td><td>29733.2</td><td>12.686</td><td>-73.2681</td><td>0.00319751</td><td>17.6037</td></tr><tr><th>29</th><td>11983</td><td>12</td><td>55328.6</td><td>29733.2</td><td>12.9675</td><td>-73.1758</td><td>0.00145125</td><td>17.6336</td></tr><tr><th>30</th><td>11983</td><td>1</td><td>55328.6</td><td>29733.2</td><td>12.4509</td><td>-73.3699</td><td>0.0608208</td><td>12.762</td></tr><tr><th>&vellip;</th><td>&vellip;</td><td>&vellip;</td><td>&vellip;</td><td>&vellip;</td><td>&vellip;</td><td>&vellip;</td><td>&vellip;</td><td>&vellip;</td></tr></tbody></table>"
      ],
      "text/latex": [
       "\\begin{tabular}{r|cccccccc}\n",
       "\t& obsid & srcnum & startdate & exptime & ra & dec & freq & power\\\\\n",
       "\t\\hline\n",
       "\t& Int64 & Int64 & Float64 & Float64 & Float64 & Float64 & Float64 & Float64\\\\\n",
       "\t\\hline\n",
       "\t1 & 1026 & 26 & 51833.8 & 6458.48 & 19.9382 & -73.4501 & 0.00123975 & 13.2664 \\\\\n",
       "\t2 & 1028 & 105 & 51856.5 & 6324.74 & 19.038 & -73.414 & 0.000316292 & 13.824 \\\\\n",
       "\t3 & 1028 & 113 & 51856.5 & 6324.74 & 18.9547 & -73.4035 & 0.00110873 & 31.303 \\\\\n",
       "\t4 & 1028 & 113 & 51856.5 & 6324.74 & 18.9547 & -73.4035 & 0.00126712 & 12.1519 \\\\\n",
       "\t5 & 1028 & 38 & 51856.5 & 6324.74 & 19.8812 & -73.5169 & 0.00110816 & 21.5887 \\\\\n",
       "\t6 & 1028 & 88 & 51856.5 & 6324.74 & 19.1853 & -73.4323 & 0.000316454 & 12.6433 \\\\\n",
       "\t7 & 1029 & 13 & 52024.6 & 6120.26 & 19.6143 & -73.4658 & 0.00115807 & 56.0898 \\\\\n",
       "\t8 & 1030 & 14 & 52025.6 & 6152.72 & 19.6181 & -73.4675 & 0.00114639 & 74.6027 \\\\\n",
       "\t9 & 1030 & 14 & 52025.6 & 6152.72 & 19.6181 & -73.4675 & 0.00212901 & 18.2923 \\\\\n",
       "\t10 & 10986 & 12 & 55293.9 & 34052.2 & 21.9418 & -73.5491 & 0.000969984 & 17.8898 \\\\\n",
       "\t11 & 10986 & 12 & 55293.9 & 34052.2 & 21.9418 & -73.5491 & 0.00191057 & 17.836 \\\\\n",
       "\t12 & 10986 & 5 & 55293.9 & 34052.2 & 22.3212 & -73.5923 & 0.0120666 & 12.0076 \\\\\n",
       "\t13 & 11093 & 24 & 55259.6 & 20165.4 & 15.9216 & -71.9815 & 0.000132252 & 17.8524 \\\\\n",
       "\t14 & 11095 & 1 & 55334.5 & 19052.2 & 12.4513 & -73.3696 & 0.00145998 & 36.8394 \\\\\n",
       "\t15 & 11095 & 1 & 55334.5 & 19052.2 & 12.4513 & -73.3696 & 0.00286589 & 14.6597 \\\\\n",
       "\t16 & 11096 & 11 & 55349.5 & 37051.3 & 12.6858 & -73.2682 & 0.00318698 & 23.5695 \\\\\n",
       "\t17 & 11097 & 3 & 55301.0 & 29993.1 & 12.6746 & -73.3607 & 0.00103729 & 12.9336 \\\\\n",
       "\t18 & 11821 & 40 & 55539.8 & 28549.2 & 15.8546 & -72.6607 & 0.00104189 & 12.6223 \\\\\n",
       "\t19 & 11957 & 14 & 55195.3 & 19392.4 & 16.0354 & -71.9839 & 0.00144686 & 14.2416 \\\\\n",
       "\t20 & 11979 & 13 & 55296.6 & 36049.1 & 21.9416 & -73.5491 & 0.000971308 & 15.7763 \\\\\n",
       "\t21 & 11979 & 27 & 55296.6 & 36049.1 & 22.3161 & -73.4153 & 0.000112535 & 12.4383 \\\\\n",
       "\t22 & 11981 & 10 & 55317.7 & 34048.5 & 12.6997 & -73.3049 & 0.00344166 & 36.4478 \\\\\n",
       "\t23 & 11981 & 10 & 55317.7 & 34048.5 & 12.6997 & -73.3049 & 0.01712 & 12.4862 \\\\\n",
       "\t24 & 11981 & 23 & 55317.7 & 34048.5 & 12.5985 & -73.4043 & 0.00103777 & 12.2876 \\\\\n",
       "\t25 & 11981 & 29 & 55317.7 & 34048.5 & 12.9187 & -73.3054 & 0.104513 & 12.6527 \\\\\n",
       "\t26 & 11982 & 5 & 55319.6 & 24894.2 & 12.6996 & -73.3049 & 0.00345684 & 31.6955 \\\\\n",
       "\t27 & 11982 & 7 & 55319.6 & 24894.2 & 12.6864 & -73.2683 & 0.00145026 & 38.4637 \\\\\n",
       "\t28 & 11983 & 10 & 55328.6 & 29733.2 & 12.686 & -73.2681 & 0.00319751 & 17.6037 \\\\\n",
       "\t29 & 11983 & 12 & 55328.6 & 29733.2 & 12.9675 & -73.1758 & 0.00145125 & 17.6336 \\\\\n",
       "\t30 & 11983 & 1 & 55328.6 & 29733.2 & 12.4509 & -73.3699 & 0.0608208 & 12.762 \\\\\n",
       "\t$\\dots$ & $\\dots$ & $\\dots$ & $\\dots$ & $\\dots$ & $\\dots$ & $\\dots$ & $\\dots$ & $\\dots$ \\\\\n",
       "\\end{tabular}\n"
      ],
      "text/plain": [
       "1857×8 DataFrame. Omitted printing of 2 columns\n",
       "│ Row  │ obsid │ srcnum │ startdate │ exptime │ ra      │ dec      │\n",
       "│      │ \u001b[90mInt64\u001b[39m │ \u001b[90mInt64\u001b[39m  │ \u001b[90mFloat64\u001b[39m   │ \u001b[90mFloat64\u001b[39m │ \u001b[90mFloat64\u001b[39m │ \u001b[90mFloat64\u001b[39m  │\n",
       "├──────┼───────┼────────┼───────────┼─────────┼─────────┼──────────┤\n",
       "│ 1    │ 1026  │ 26     │ 51833.8   │ 6458.48 │ 19.9382 │ -73.4501 │\n",
       "│ 2    │ 1028  │ 105    │ 51856.5   │ 6324.74 │ 19.038  │ -73.414  │\n",
       "│ 3    │ 1028  │ 113    │ 51856.5   │ 6324.74 │ 18.9547 │ -73.4035 │\n",
       "│ 4    │ 1028  │ 113    │ 51856.5   │ 6324.74 │ 18.9547 │ -73.4035 │\n",
       "│ 5    │ 1028  │ 38     │ 51856.5   │ 6324.74 │ 19.8812 │ -73.5169 │\n",
       "│ 6    │ 1028  │ 88     │ 51856.5   │ 6324.74 │ 19.1853 │ -73.4323 │\n",
       "│ 7    │ 1029  │ 13     │ 52024.6   │ 6120.26 │ 19.6143 │ -73.4658 │\n",
       "│ 8    │ 1030  │ 14     │ 52025.6   │ 6152.72 │ 19.6181 │ -73.4675 │\n",
       "│ 9    │ 1030  │ 14     │ 52025.6   │ 6152.72 │ 19.6181 │ -73.4675 │\n",
       "│ 10   │ 10986 │ 12     │ 55293.9   │ 34052.2 │ 21.9418 │ -73.5491 │\n",
       "⋮\n",
       "│ 1847 │ 9696  │ 14     │ 54503.7   │ 7773.66 │ 16.181  │ -71.9873 │\n",
       "│ 1848 │ 9810  │ 10     │ 54495.4   │ 56530.7 │ 16.1531 │ -72.1079 │\n",
       "│ 1849 │ 9810  │ 20     │ 54495.4   │ 56530.7 │ 15.9077 │ -72.0255 │\n",
       "│ 1850 │ 9810  │ 22     │ 54495.4   │ 56530.7 │ 16.6862 │ -71.993  │\n",
       "│ 1851 │ 9810  │ 22     │ 54495.4   │ 56530.7 │ 16.6862 │ -71.993  │\n",
       "│ 1852 │ 9810  │ 28     │ 54495.4   │ 56530.7 │ 16.4156 │ -72.1811 │\n",
       "│ 1853 │ 9810  │ 42     │ 54495.4   │ 56530.7 │ 16.3599 │ -72.2602 │\n",
       "│ 1854 │ 9810  │ 42     │ 54495.4   │ 56530.7 │ 16.3599 │ -72.2602 │\n",
       "│ 1855 │ 9810  │ 59     │ 54495.4   │ 56530.7 │ 16.5897 │ -71.9864 │\n",
       "│ 1856 │ 9810  │ 8      │ 54495.4   │ 56530.7 │ 16.5087 │ -72.1176 │\n",
       "│ 1857 │ 9810  │ 8      │ 54495.4   │ 56530.7 │ 16.5087 │ -72.1176 │"
      ]
     },
     "execution_count": 16,
     "metadata": {},
     "output_type": "execute_result"
    }
   ],
   "source": [
    "#NEW TEST WITH SMALLER DATASET\n",
    "pows12=CSV.read(\"cxc.fftinfo.all12\")"
   ]
  },
  {
   "cell_type": "code",
   "execution_count": 28,
   "metadata": {},
   "outputs": [
    {
     "name": "stderr",
     "output_type": "stream",
     "text": [
      "┌ Warning: `getindex(df::DataFrame, col_ind::ColumnIndex)` is deprecated, use `df[!, col_ind]` instead.\n",
      "│   caller = toTime() at In[28]:26\n",
      "└ @ Main ./In[28]:26\n"
     ]
    },
    {
     "name": "stdout",
     "output_type": "stream",
     "text": [
      "10986 12 0.000969983511056299 17.889771451447622 11979 13 0.000971308040045705 15.77630904298836\n",
      "10986 12 0.001910573582383619 17.836005321642993 12207 8 0.001935509197858498 12.704835658434616\n",
      "11096 11 0.003186980615068331 23.569499285934306 11983 10 0.0031975105268172302 17.603659555134275\n",
      "11096 11 0.003186980615068331 23.569499285934306 12215 9 0.0032216985079436514 14.07220160557982\n",
      "11096 11 0.003186980615068331 23.569499285934306 12216 9 0.0032143489554904633 20.859993892956084\n",
      "11979 13 0.000971308040045705 15.77630904298836 12134 12 0.0009657055925980908 16.109106220010922\n",
      "11981 10 0.0034416554113552798 36.44784380057293 11982 5 0.0034568385315030927 31.69552645483778\n",
      "11981 10 0.0034416554113552798 36.44784380057293 12208 8 0.0034660791299428364 22.467132820283002\n",
      "11981 10 0.0034416554113552798 36.44784380057293 12211 9 0.0034433075643872098 36.77749893605026\n",
      "11981 10 0.017120029482126264 12.4862184973637 12210 8 0.017115360026786593 21.963275941484124\n",
      "11982 5 0.0034568385315030927 31.69552645483778 12208 8 0.0034660791299428364 22.467132820283002\n",
      "11982 5 0.0034568385315030927 31.69552645483778 12211 9 0.0034433075643872098 36.77749893605026\n",
      "11982 7 0.001450260572667873 38.463691035220414 12210 11 0.001432917389226007 34.956017000870474\n",
      "11982 7 0.001450260572667873 38.463691035220414 12210 11 0.0014687403239566574 15.027107063705142\n",
      "11982 7 0.001450260572667873 38.463691035220414 12211 11 0.0014488251338357046 46.852874406091914\n",
      "11983 10 0.0031975105268172302 17.603659555134275 12211 11 0.0032101419632046004 15.825381860790065\n",
      "11983 10 0.0031975105268172302 17.603659555134275 12215 9 0.0032216985079436514 14.07220160557982\n",
      "11983 10 0.0031975105268172302 17.603659555134275 12216 9 0.0032143489554904633 20.859993892956084\n",
      "12208 8 0.0034660791299428364 22.467132820283002 12211 9 0.0034433075643872098 36.77749893605026\n",
      "12210 11 0.001432917389226007 34.956017000870474 12211 11 0.0014488251338357046 46.852874406091914\n",
      "12210 11 0.0014687403239566574 15.027107063705142 12211 11 0.0014488251338357046 46.852874406091914\n",
      "12211 11 0.0032101419632046004 15.825381860790065 12215 9 0.0032216985079436514 14.07220160557982\n",
      "12215 9 0.0032216985079436514 14.07220160557982 12216 9 0.0032143489554904633 20.859993892956084\n",
      "1308 1 0.0030261669325877235 52.42965068141383 1311 2 0.0029792139157040595 23.72534394419214\n",
      "1314 3 0.0010745276407192188 29.964724459272613 1315 2 0.0010991351439417964 33.512783848277614\n",
      "1314 3 0.001228031589393393 22.490990122998625 1315 2 0.0010991351439417964 33.512783848277614\n",
      "1315 2 0.0031403861255479898 12.955535630309447 1543 2 0.0030774013647905762 12.57605883284341\n",
      "1315 2 0.0031403861255479898 12.955535630309447 5143 9 0.003130342985093546 12.751176428651378\n",
      "1317 6 0.0010957892226512583 31.824353256350758 6052 3 0.0010912217041028824 26.3417896240583\n",
      "13512 40 0.042726024883197426 28.100724293217123 15269 6 0.042726318922333126 13.166248651036087\n",
      "13513 13 0.0854382662665978 24.643364170253363 15494 46 0.08543967105991923 28.48950753813461\n",
      "14352 30 0.04274047781733356 23.82629507604646 14447 47 0.04276427126853683 22.90733482386263\n",
      "14352 30 0.042765370349550996 16.663200140119155 14447 47 0.04276427126853683 22.90733482386263\n",
      "14352 30 0.08548095563466712 21.56309030005596 14447 47 0.08547732784094368 28.41591752826624\n",
      "14352 30 0.12819654091978325 12.815588341717056 14447 47 0.12821599176141552 23.186418580910605\n",
      "14668 6 0.0014023768312743524 63.981298012545366 15501 5 0.0013991010739387918 41.53608859727264\n",
      "14669 8 0.00201852464240937 46.85686791891571 15502 10 0.002008293191885734 60.210002950203474\n",
      "14669 8 0.00201852464240937 46.85686791891571 15502 10 0.002029887742336118 20.462112506011326\n",
      "15269 6 0.042726318922333126 13.166248651036087 15270 35 0.04274459626181122 24.82025563781093\n",
      "1543 2 0.0030774013647905762 12.57605883284341 444 3 0.0030689044979771763 16.732283843390146\n",
      "1543 2 0.0030774013647905762 12.57605883284341 5143 9 0.003130342985093546 12.751176428651378\n",
      "15499 14 0.001027762731997524 26.91694271529043 16490 14 0.001040968072992881 31.824147957087504\n",
      "15747 5 0.00014508572824785282 19.746670692961924 16527 5 0.00015545962411614696 13.299012236819246\n",
      "15747 5 0.00014508572824785282 19.746670692961924 2738 30 0.00015890127371066012 39.55478876925437\n",
      "15747 5 0.00018135716030981603 19.58006637238657 16527 5 0.0001776681418470251 23.48635655584604\n",
      "15747 5 0.00018135716030981603 19.58006637238657 2738 30 0.00017334684404799285 36.68536832414867\n",
      "15747 5 0.00018135716030981603 19.58006637238657 2738 30 0.0001877924143853256 31.75247859137014\n",
      "15747 5 5.4407148092944804e-5 43.736792586289155 16527 5 4.441703546175628e-5 18.298357110951653\n",
      "15747 5 5.4407148092944804e-5 43.736792586289155 16527 5 6.662555319263442e-5 14.208587759932152\n",
      "15747 5 5.4407148092944804e-5 43.736792586289155 2738 30 4.333671101199821e-5 130.05178548051114\n",
      "15747 5 5.4407148092944804e-5 43.736792586289155 2738 30 5.7782281349330955e-5 131.8752201694596\n",
      "15747 5 5.4407148092944804e-5 43.736792586289155 2738 30 7.22278516866637e-5 84.68445550832118\n",
      "15747 5 7.254286412392641e-5 16.739404882213083 16527 5 6.662555319263442e-5 14.208587759932152\n",
      "15747 5 7.254286412392641e-5 16.739404882213083 16527 5 8.883407092351256e-5 54.567459549967374\n",
      "15747 5 7.254286412392641e-5 16.739404882213083 2738 30 5.7782281349330955e-5 131.8752201694596\n",
      "15747 5 7.254286412392641e-5 16.739404882213083 2738 30 7.22278516866637e-5 84.68445550832118\n",
      "15747 5 7.254286412392641e-5 16.739404882213083 2738 30 8.667342202399643e-5 84.58254421865149\n",
      "15747 5 9.067858015490802e-5 19.682240620904615 16527 5 0.00011104258865439069 17.687077528583607\n",
      "15747 5 9.067858015490802e-5 19.682240620904615 16527 5 8.883407092351256e-5 54.567459549967374\n",
      "15747 5 9.067858015490802e-5 19.682240620904615 2738 30 0.00010111899236132917 57.765676389654615\n",
      "15747 5 9.067858015490802e-5 19.682240620904615 2738 30 8.667342202399643e-5 84.58254421865149\n",
      "16527 5 0.00011104258865439069 17.687077528583607 2738 30 0.00010111899236132917 57.765676389654615\n",
      "16527 5 0.00011104258865439069 17.687077528583607 2738 30 0.00011556456269866191 47.23655483317995\n",
      "16527 5 0.00015545962411614696 13.299012236819246 2738 30 0.00015890127371066012 39.55478876925437\n",
      "16527 5 0.00015545962411614696 13.299012236819246 2738 30 0.00017334684404799285 36.68536832414867\n",
      "16527 5 0.0001776681418470251 23.48635655584604 2738 30 0.00015890127371066012 39.55478876925437\n",
      "16527 5 0.0001776681418470251 23.48635655584604 2738 30 0.00017334684404799285 36.68536832414867\n",
      "16527 5 0.0001776681418470251 23.48635655584604 2738 30 0.0001877924143853256 31.75247859137014\n",
      "16527 5 4.441703546175628e-5 18.298357110951653 2738 30 2.8891140674665478e-5 846.5884700996144\n",
      "16527 5 4.441703546175628e-5 18.298357110951653 2738 30 4.333671101199821e-5 130.05178548051114\n",
      "16527 5 4.441703546175628e-5 18.298357110951653 2738 30 5.7782281349330955e-5 131.8752201694596\n",
      "16527 5 6.662555319263442e-5 14.208587759932152 2738 30 5.7782281349330955e-5 131.8752201694596\n",
      "16527 5 6.662555319263442e-5 14.208587759932152 2738 30 7.22278516866637e-5 84.68445550832118\n",
      "16527 5 6.662555319263442e-5 14.208587759932152 2738 30 8.667342202399643e-5 84.58254421865149\n",
      "16527 5 8.883407092351256e-5 54.567459549967374 2738 30 0.00010111899236132917 57.765676389654615\n",
      "16527 5 8.883407092351256e-5 54.567459549967374 2738 30 7.22278516866637e-5 84.68445550832118\n",
      "16527 5 8.883407092351256e-5 54.567459549967374 2738 30 8.667342202399643e-5 84.58254421865149\n",
      "17381 10 0.0015204152603568825 140.05357540348146 2836 15 0.0015288163536873827 77.75377779618923\n",
      "17381 10 0.0015204152603568825 140.05357540348146 6050 14 0.0015371251382182926 17.366522775999286\n",
      "17444 43 0.0011897542551481618 38.45812113008501 17445 37 0.0011082720432294899 52.98310792323404\n",
      "17444 43 0.0011897542551481618 38.45812113008501 17445 37 0.0013299264518753877 25.59158870182432\n",
      "17444 51 0.0015571741585044196 24.077700657339804 17445 45 0.0015832863981274663 65.76752675807928\n",
      "18619 73 0.04276647343829151 38.31152891406925 18620 62 0.042767372033149204 41.143857021529556\n",
      "18619 73 0.04276647343829151 38.31152891406925 18621 44 0.042766492196270864 39.16992526887903\n",
      "18619 73 0.08550173047261346 19.100831216331585 18620 62 0.08550256395190176 14.948914147856282\n",
      "18619 73 0.08550173047261346 19.100831216331585 18621 44 0.08550208374789124 27.22181004778904\n"
     ]
    },
    {
     "name": "stdout",
     "output_type": "stream",
     "text": [
      "18619 73 0.12820577110296585 12.418063595319406 18620 62 0.12820557575625766 12.621632857855642\n",
      "18620 62 0.042767372033149204 41.143857021529556 18621 44 0.042766492196270864 39.16992526887903\n",
      "18620 62 0.08550256395190176 14.948914147856282 18621 44 0.08550208374789124 27.22181004778904\n",
      "18620 62 0.12820557575625766 12.621632857855642 18621 44 0.1282376752995116 12.7288405862414\n",
      "19786 25 0.07394865148289018 18.149725643496673 19787 32 0.07398631667464892 24.998769591673632\n",
      "19786 31 0.07392217861075298 22.998963244994787 19787 38 0.073973069232582 14.933593935545332\n",
      "19786 35 0.07394039344476047 23.513096605894276 19787 41 0.07395710956284465 14.690595626766449\n",
      "19786 77 0.07392044459990825 16.4245721058432 19787 81 0.07394391072427156 14.00614854332104\n",
      "19786 77 0.07396206647186765 12.656428154921592 19787 81 0.07394391072427156 14.00614854332104\n",
      "19786 87 0.07393041767662166 14.182651433361126 19787 89 0.073973069232582 12.041386802597394\n",
      "2735 31 0.00010607015803190403 34.69892118388302 953 27 9.497525246308946e-5 50.82094214783614\n",
      "2735 31 4.54586391565303e-5 12.935035934402512 953 27 6.331683497539297e-5 12.832213993516064\n",
      "2735 31 6.061151887537373e-5 32.184573880167605 953 27 6.331683497539297e-5 12.832213993516064\n",
      "2735 31 7.576439859421716e-5 203.98920348088788 953 27 6.331683497539297e-5 12.832213993516064\n",
      "2735 31 7.576439859421716e-5 203.98920348088788 953 27 9.497525246308946e-5 50.82094214783614\n",
      "2735 31 9.09172783130606e-5 27.92535352404871 953 27 6.331683497539297e-5 12.832213993516064\n",
      "2735 31 9.09172783130606e-5 27.92535352404871 953 27 9.497525246308946e-5 50.82094214783614\n",
      "2735 32 0.00015154368213904221 18.056459661012884 2738 30 0.00015890127371066012 39.55478876925437\n",
      "2735 32 3.0308736427808446e-5 231.51341254137463 2738 30 2.8891140674665478e-5 846.5884700996144\n",
      "2735 32 3.0308736427808446e-5 231.51341254137463 2738 30 4.333671101199821e-5 130.05178548051114\n",
      "2735 32 4.546310464171267e-5 324.8187211553068 2738 30 4.333671101199821e-5 130.05178548051114\n",
      "2735 32 4.546310464171267e-5 324.8187211553068 2738 30 5.7782281349330955e-5 131.8752201694596\n",
      "2735 32 9.092620928342534e-5 75.75729686388493 2738 30 0.00010111899236132917 57.765676389654615\n",
      "2735 32 9.092620928342534e-5 75.75729686388493 2738 30 8.667342202399643e-5 84.58254421865149\n",
      "2836 15 0.0015288163536873827 77.75377779618923 6050 14 0.0015371251382182926 17.366522775999286\n",
      "2837 4 0.0030509404760133575 15.75549670365994 5144 1 0.003043921349942592 16.369721374477926\n",
      "2837 4 0.0030509404760133575 15.75549670365994 6051 2 0.0029794918793088093 19.684979695128067\n",
      "3539 1 0.002999360755370697 15.25832966903034 6051 2 0.0029794918793088093 19.684979695128067\n",
      "444 3 0.0030689044979771763 16.732283843390146 5143 9 0.003130342985093546 12.751176428651378\n",
      "444 3 0.0030689044979771763 16.732283843390146 5144 1 0.003043921349942592 16.369721374477926\n",
      "5130 13 0.0008145004107179409 13.344257580673302 6060 15 0.0007977839349323594 14.222773959751917\n",
      "5130 13 0.0008145004107179409 13.344257580673302 6757 17 0.0008032357613669768 12.638152512469286\n",
      "6060 15 0.0007977839349323594 14.222773959751917 6757 17 0.0008032357613669768 12.638152512469286\n",
      "6060 15 0.0007977839349323594 14.222773959751917 6759 13 0.0008271928601476943 12.18842906753303\n",
      "7156 2 0.0013534825072222952 23.409671058233997 8479 2 0.0013610807983294206 28.284579462200675\n",
      "7156 2 0.0027069650144445905 21.02711112009119 8479 2 0.0026986946863428165 30.944792360463104\n",
      "7156 28 0.001151852676089186 19.79073153223601 8481 12 0.0011821568461114558 15.63396284419376\n",
      "8479 27 0.0011513672915177374 13.38752030607711 8481 12 0.0011821568461114558 15.63396284419376\n",
      "9100 22 0.0007976901827806545 16.508938622253392 9810 20 0.0007969024942649974 19.711629885678484\n",
      "953 26 6.240124114371321e-5 25.578586000162982 955 24 6.240124114371321e-5 24.98269389948731\n",
      "953 26 9.360186171556982e-5 44.08032093852998 955 24 9.360186171556982e-5 27.6324514797624\n",
      "953 27 6.331683497539297e-5 12.832213993516064 955 25 6.293583617237939e-5 31.82892922059267\n"
     ]
    },
    {
     "data": {
      "text/plain": [
       "(nothing, 213.227862069, 19162183898, 4.546284173, Base.GC_Diff(19162183898, 0, 0, 203140345, 1506319, 0, 4546284173, 835, 0))"
      ]
     },
     "execution_count": 28,
     "metadata": {},
     "output_type": "execute_result"
    }
   ],
   "source": [
    "dflen = size(pows12)[1]\n",
    "nsame=0\n",
    "nsmatch = 0\n",
    "fi=zeros(dflen)#Float64[]\n",
    "fj=zeros(dflen)#Float64[]\n",
    "poi=zeros(dflen)#Float64[]\n",
    "poj=zeros(dflen)#Float64[]\n",
    "obsi=zeros(dflen)#Int[]\n",
    "obsj=zeros(dflen)#Int[]\n",
    "srci=zeros(dflen)#Int[]\n",
    "srcj=zeros(dflen)#Int[]\n",
    "rai=zeros(dflen)#Float64[]\n",
    "raj=zeros(dflen)#Float64[]\n",
    "dci=zeros(dflen)#Float64[]\n",
    "dcj=zeros(dflen)#Float64[]\n",
    "\n",
    "function toTime()\n",
    "    for i = 1:dflen\n",
    "        for j = i:dflen\n",
    "            global nsame\n",
    "            global nsmatch\n",
    "            if pows12.obsid[i] != pows12.obsid[j]\n",
    "                rdist = DJM.gcdist(pows12.ra[j],pows12.dec[j],pows12.ra[i],pows12.dec[i])\n",
    "                fave = (pows12.freq[i] + pows12.freq[j])/2.0\n",
    "                Pdot = pdot(fave)\n",
    "                deltaT = abs(pows12.startdate[i] - pows12[:startdate][j])/365.25\n",
    "                deltaf = fave*fave*Pdot*deltaT  #likely limit of frequency change\n",
    "\n",
    "                df1=1/pows12.exptime[i]\n",
    "                df2=1/pows12.exptime[j]\n",
    "                df = maximum([df1,df2])\n",
    "                #frange = df1+df2\n",
    "                numdf = ceil(deltaf/df) #how many of the largest frequency spaces could it have drifted?\n",
    "\n",
    "                fdiff = abs(pows12.freq[i] - pows12.freq[j])\n",
    "                frange = df*numdf\n",
    "\n",
    "                if (rdist*60.0 < 0.01666)\n",
    "                #if (rdist*60.0 < 0.01666)\n",
    "                    nsame = nsame + 1\n",
    "                end\n",
    "\n",
    "                if ((rdist*60.0 < 0.01666) && (fdiff < frange))\n",
    "                #if ((rdist*60.0 < 0.01666) && (fdiff < frange))\n",
    "                    println(pows12.obsid[i],\" \",pows12.srcnum[i],\" \",pows12.freq[i],\" \",pows12.power[i],\" \",pows12.obsid[j],\" \",pows12.srcnum[j],\" \",pows12.freq[j],\" \",pows12.power[j])\n",
    "                    nsmatch = nsmatch + 1\n",
    "                    fi[i]=pows12.freq[i]#push!(fi,pows12.freq[i])\n",
    "                    fj[j]=pows12.power[j]#push!(fj,pows12.freq[j])\n",
    "                    poi[i]=pows12.power[i]#powspush!(poi,pows12.power[i])\n",
    "                    poj[j]=pows12.power[j]#push!(poj,pows12.power[j])\n",
    "                    obsi[i]=pows12.obsid[i]#push!(obsi,pows12.obsid[i])\n",
    "                    obsj[j]=pows12.obsid[j]#push!(obsj,pows12.obsid[j])\n",
    "                    srci[i]=pows12.srcnum[i]#push!(srci,pows12.srcnum[i])\n",
    "                    srcj[j]=pows12.srcnum[j]#push!(srcj,pows12.srcnum[j])\n",
    "                    rai[i]=pows12.ra[i]#push!(rai,pows12.ra[i])\n",
    "                    raj[j]=pows12.ra[j]#push!(raj,pows12.ra[j])\n",
    "                    dci[i]=pows12.dec[i]#push!(dci,pows12.dec[i])\n",
    "                    dcj[j]=pows12.dec[j]#push!(dcj,pows12.dec[j])\n",
    "                end\n",
    "\n",
    "            end\n",
    "        end\n",
    "    end\n",
    "end\n",
    "timeStats=@timed toTime()\n",
    "#t1=@timed fi\n",
    "#t2=@timed ndiff\n",
    "#t3=@timed nmatch"
   ]
  },
  {
   "cell_type": "code",
   "execution_count": 22,
   "metadata": {},
   "outputs": [
    {
     "name": "stdout",
     "output_type": "stream",
     "text": [
      "9.13e-7\n",
      "4.35e-7\n",
      "9.5e-7\n"
     ]
    }
   ],
   "source": [
    "println(t1[2])\n",
    "println(t2[2])\n",
    "println(t3[2])"
   ]
  },
  {
   "cell_type": "code",
   "execution_count": 29,
   "metadata": {},
   "outputs": [
    {
     "name": "stdout",
     "output_type": "stream",
     "text": [
      "10986 12 0.000969983511056299 17.889771451447622 11979 13 0.000971308040045705 15.77630904298836\n",
      "10986 12 0.001910573582383619 17.836005321642993 12207 8 0.001935509197858498 12.704835658434616\n",
      "11096 11 0.003186980615068331 23.569499285934306 11983 10 0.0031975105268172302 17.603659555134275\n",
      "11096 11 0.003186980615068331 23.569499285934306 12215 9 0.0032216985079436514 14.07220160557982\n",
      "11096 11 0.003186980615068331 23.569499285934306 12216 9 0.0032143489554904633 20.859993892956084\n",
      "11979 13 0.000971308040045705 15.77630904298836 12134 12 0.0009657055925980908 16.109106220010922\n",
      "11981 10 0.0034416554113552798 36.44784380057293 11982 5 0.0034568385315030927 31.69552645483778\n",
      "11981 10 0.0034416554113552798 36.44784380057293 12208 8 0.0034660791299428364 22.467132820283002\n",
      "11981 10 0.0034416554113552798 36.44784380057293 12211 9 0.0034433075643872098 36.77749893605026\n",
      "11981 10 0.017120029482126264 12.4862184973637 12210 8 0.017115360026786593 21.963275941484124\n",
      "11982 5 0.0034568385315030927 31.69552645483778 12208 8 0.0034660791299428364 22.467132820283002\n",
      "11982 5 0.0034568385315030927 31.69552645483778 12211 9 0.0034433075643872098 36.77749893605026\n",
      "11982 7 0.001450260572667873 38.463691035220414 12210 11 0.001432917389226007 34.956017000870474\n",
      "11982 7 0.001450260572667873 38.463691035220414 12210 11 0.0014687403239566574 15.027107063705142\n",
      "11982 7 0.001450260572667873 38.463691035220414 12211 11 0.0014488251338357046 46.852874406091914\n",
      "11983 10 0.0031975105268172302 17.603659555134275 12211 11 0.0032101419632046004 15.825381860790065\n",
      "11983 10 0.0031975105268172302 17.603659555134275 12215 9 0.0032216985079436514 14.07220160557982\n",
      "11983 10 0.0031975105268172302 17.603659555134275 12216 9 0.0032143489554904633 20.859993892956084\n",
      "12208 8 0.0034660791299428364 22.467132820283002 12211 9 0.0034433075643872098 36.77749893605026\n",
      "12210 11 0.001432917389226007 34.956017000870474 12211 11 0.0014488251338357046 46.852874406091914\n",
      "12210 11 0.0014687403239566574 15.027107063705142 12211 11 0.0014488251338357046 46.852874406091914\n",
      "12211 11 0.0032101419632046004 15.825381860790065 12215 9 0.0032216985079436514 14.07220160557982\n",
      "12215 9 0.0032216985079436514 14.07220160557982 12216 9 0.0032143489554904633 20.859993892956084\n",
      "1308 1 0.0030261669325877235 52.42965068141383 1311 2 0.0029792139157040595 23.72534394419214\n",
      "1314 3 0.0010745276407192188 29.964724459272613 1315 2 0.0010991351439417964 33.512783848277614\n",
      "1314 3 0.001228031589393393 22.490990122998625 1315 2 0.0010991351439417964 33.512783848277614\n",
      "1315 2 0.0031403861255479898 12.955535630309447 1543 2 0.0030774013647905762 12.57605883284341\n",
      "1315 2 0.0031403861255479898 12.955535630309447 5143 9 0.003130342985093546 12.751176428651378\n",
      "1317 6 0.0010957892226512583 31.824353256350758 6052 3 0.0010912217041028824 26.3417896240583\n",
      "13512 40 0.042726024883197426 28.100724293217123 15269 6 0.042726318922333126 13.166248651036087\n",
      "13513 13 0.0854382662665978 24.643364170253363 15494 46 0.08543967105991923 28.48950753813461\n",
      "14352 30 0.04274047781733356 23.82629507604646 14447 47 0.04276427126853683 22.90733482386263\n",
      "14352 30 0.042765370349550996 16.663200140119155 14447 47 0.04276427126853683 22.90733482386263\n",
      "14352 30 0.08548095563466712 21.56309030005596 14447 47 0.08547732784094368 28.41591752826624\n",
      "14352 30 0.12819654091978325 12.815588341717056 14447 47 0.12821599176141552 23.186418580910605\n",
      "14668 6 0.0014023768312743524 63.981298012545366 15501 5 0.0013991010739387918 41.53608859727264\n",
      "14669 8 0.00201852464240937 46.85686791891571 15502 10 0.002008293191885734 60.210002950203474\n",
      "14669 8 0.00201852464240937 46.85686791891571 15502 10 0.002029887742336118 20.462112506011326\n",
      "15269 6 0.042726318922333126 13.166248651036087 15270 35 0.04274459626181122 24.82025563781093\n",
      "1543 2 0.0030774013647905762 12.57605883284341 444 3 0.0030689044979771763 16.732283843390146\n",
      "1543 2 0.0030774013647905762 12.57605883284341 5143 9 0.003130342985093546 12.751176428651378\n",
      "15499 14 0.001027762731997524 26.91694271529043 16490 14 0.001040968072992881 31.824147957087504\n",
      "15747 5 0.00014508572824785282 19.746670692961924 16527 5 0.00015545962411614696 13.299012236819246\n",
      "15747 5 0.00014508572824785282 19.746670692961924 2738 30 0.00015890127371066012 39.55478876925437\n",
      "15747 5 0.00018135716030981603 19.58006637238657 16527 5 0.0001776681418470251 23.48635655584604\n",
      "15747 5 0.00018135716030981603 19.58006637238657 2738 30 0.00017334684404799285 36.68536832414867\n",
      "15747 5 0.00018135716030981603 19.58006637238657 2738 30 0.0001877924143853256 31.75247859137014\n",
      "15747 5 5.4407148092944804e-5 43.736792586289155 16527 5 4.441703546175628e-5 18.298357110951653\n",
      "15747 5 5.4407148092944804e-5 43.736792586289155 16527 5 6.662555319263442e-5 14.208587759932152\n",
      "15747 5 5.4407148092944804e-5 43.736792586289155 2738 30 4.333671101199821e-5 130.05178548051114\n",
      "15747 5 5.4407148092944804e-5 43.736792586289155 2738 30 5.7782281349330955e-5 131.8752201694596\n",
      "15747 5 5.4407148092944804e-5 43.736792586289155 2738 30 7.22278516866637e-5 84.68445550832118\n",
      "15747 5 7.254286412392641e-5 16.739404882213083 16527 5 6.662555319263442e-5 14.208587759932152\n",
      "15747 5 7.254286412392641e-5 16.739404882213083 16527 5 8.883407092351256e-5 54.567459549967374\n",
      "15747 5 7.254286412392641e-5 16.739404882213083 2738 30 5.7782281349330955e-5 131.8752201694596\n",
      "15747 5 7.254286412392641e-5 16.739404882213083 2738 30 7.22278516866637e-5 84.68445550832118\n",
      "15747 5 7.254286412392641e-5 16.739404882213083 2738 30 8.667342202399643e-5 84.58254421865149\n",
      "15747 5 9.067858015490802e-5 19.682240620904615 16527 5 0.00011104258865439069 17.687077528583607\n",
      "15747 5 9.067858015490802e-5 19.682240620904615 16527 5 8.883407092351256e-5 54.567459549967374\n",
      "15747 5 9.067858015490802e-5 19.682240620904615 2738 30 0.00010111899236132917 57.765676389654615\n",
      "15747 5 9.067858015490802e-5 19.682240620904615 2738 30 8.667342202399643e-5 84.58254421865149\n",
      "16527 5 0.00011104258865439069 17.687077528583607 2738 30 0.00010111899236132917 57.765676389654615\n",
      "16527 5 0.00011104258865439069 17.687077528583607 2738 30 0.00011556456269866191 47.23655483317995\n",
      "16527 5 0.00015545962411614696 13.299012236819246 2738 30 0.00015890127371066012 39.55478876925437\n",
      "16527 5 0.00015545962411614696 13.299012236819246 2738 30 0.00017334684404799285 36.68536832414867\n",
      "16527 5 0.0001776681418470251 23.48635655584604 2738 30 0.00015890127371066012 39.55478876925437\n",
      "16527 5 0.0001776681418470251 23.48635655584604 2738 30 0.00017334684404799285 36.68536832414867\n",
      "16527 5 0.0001776681418470251 23.48635655584604 2738 30 0.0001877924143853256 31.75247859137014\n",
      "16527 5 4.441703546175628e-5 18.298357110951653 2738 30 2.8891140674665478e-5 846.5884700996144\n",
      "16527 5 4.441703546175628e-5 18.298357110951653 2738 30 4.333671101199821e-5 130.05178548051114\n",
      "16527 5 4.441703546175628e-5 18.298357110951653 2738 30 5.7782281349330955e-5 131.8752201694596\n",
      "16527 5 6.662555319263442e-5 14.208587759932152 2738 30 5.7782281349330955e-5 131.8752201694596\n",
      "16527 5 6.662555319263442e-5 14.208587759932152 2738 30 7.22278516866637e-5 84.68445550832118\n",
      "16527 5 6.662555319263442e-5 14.208587759932152 2738 30 8.667342202399643e-5 84.58254421865149\n",
      "16527 5 8.883407092351256e-5 54.567459549967374 2738 30 0.00010111899236132917 57.765676389654615\n",
      "16527 5 8.883407092351256e-5 54.567459549967374 2738 30 7.22278516866637e-5 84.68445550832118\n",
      "16527 5 8.883407092351256e-5 54.567459549967374 2738 30 8.667342202399643e-5 84.58254421865149\n",
      "17381 10 0.0015204152603568825 140.05357540348146 2836 15 0.0015288163536873827 77.75377779618923\n",
      "17381 10 0.0015204152603568825 140.05357540348146 6050 14 0.0015371251382182926 17.366522775999286\n",
      "17444 43 0.0011897542551481618 38.45812113008501 17445 37 0.0011082720432294899 52.98310792323404\n",
      "17444 43 0.0011897542551481618 38.45812113008501 17445 37 0.0013299264518753877 25.59158870182432\n",
      "17444 51 0.0015571741585044196 24.077700657339804 17445 45 0.0015832863981274663 65.76752675807928\n",
      "18619 73 0.04276647343829151 38.31152891406925 18620 62 0.042767372033149204 41.143857021529556\n",
      "18619 73 0.04276647343829151 38.31152891406925 18621 44 0.042766492196270864 39.16992526887903\n",
      "18619 73 0.08550173047261346 19.100831216331585 18620 62 0.08550256395190176 14.948914147856282\n",
      "18619 73 0.08550173047261346 19.100831216331585 18621 44 0.08550208374789124 27.22181004778904\n",
      "18619 73 0.12820577110296585 12.418063595319406 18620 62 0.12820557575625766 12.621632857855642\n"
     ]
    },
    {
     "name": "stdout",
     "output_type": "stream",
     "text": [
      "18620 62 0.042767372033149204 41.143857021529556 18621 44 0.042766492196270864 39.16992526887903\n",
      "18620 62 0.08550256395190176 14.948914147856282 18621 44 0.08550208374789124 27.22181004778904\n",
      "18620 62 0.12820557575625766 12.621632857855642 18621 44 0.1282376752995116 12.7288405862414\n",
      "19786 25 0.07394865148289018 18.149725643496673 19787 32 0.07398631667464892 24.998769591673632\n",
      "19786 31 0.07392217861075298 22.998963244994787 19787 38 0.073973069232582 14.933593935545332\n",
      "19786 35 0.07394039344476047 23.513096605894276 19787 41 0.07395710956284465 14.690595626766449\n",
      "19786 77 0.07392044459990825 16.4245721058432 19787 81 0.07394391072427156 14.00614854332104\n",
      "19786 77 0.07396206647186765 12.656428154921592 19787 81 0.07394391072427156 14.00614854332104\n",
      "19786 87 0.07393041767662166 14.182651433361126 19787 89 0.073973069232582 12.041386802597394\n",
      "2735 31 0.00010607015803190403 34.69892118388302 953 27 9.497525246308946e-5 50.82094214783614\n",
      "2735 31 4.54586391565303e-5 12.935035934402512 953 27 6.331683497539297e-5 12.832213993516064\n",
      "2735 31 6.061151887537373e-5 32.184573880167605 953 27 6.331683497539297e-5 12.832213993516064\n",
      "2735 31 7.576439859421716e-5 203.98920348088788 953 27 6.331683497539297e-5 12.832213993516064\n",
      "2735 31 7.576439859421716e-5 203.98920348088788 953 27 9.497525246308946e-5 50.82094214783614\n",
      "2735 31 9.09172783130606e-5 27.92535352404871 953 27 6.331683497539297e-5 12.832213993516064\n",
      "2735 31 9.09172783130606e-5 27.92535352404871 953 27 9.497525246308946e-5 50.82094214783614\n",
      "2735 32 0.00015154368213904221 18.056459661012884 2738 30 0.00015890127371066012 39.55478876925437\n",
      "2735 32 3.0308736427808446e-5 231.51341254137463 2738 30 2.8891140674665478e-5 846.5884700996144\n",
      "2735 32 3.0308736427808446e-5 231.51341254137463 2738 30 4.333671101199821e-5 130.05178548051114\n",
      "2735 32 4.546310464171267e-5 324.8187211553068 2738 30 4.333671101199821e-5 130.05178548051114\n",
      "2735 32 4.546310464171267e-5 324.8187211553068 2738 30 5.7782281349330955e-5 131.8752201694596\n",
      "2735 32 9.092620928342534e-5 75.75729686388493 2738 30 0.00010111899236132917 57.765676389654615\n",
      "2735 32 9.092620928342534e-5 75.75729686388493 2738 30 8.667342202399643e-5 84.58254421865149\n",
      "2836 15 0.0015288163536873827 77.75377779618923 6050 14 0.0015371251382182926 17.366522775999286\n",
      "2837 4 0.0030509404760133575 15.75549670365994 5144 1 0.003043921349942592 16.369721374477926\n",
      "2837 4 0.0030509404760133575 15.75549670365994 6051 2 0.0029794918793088093 19.684979695128067\n",
      "3539 1 0.002999360755370697 15.25832966903034 6051 2 0.0029794918793088093 19.684979695128067\n",
      "444 3 0.0030689044979771763 16.732283843390146 5143 9 0.003130342985093546 12.751176428651378\n",
      "444 3 0.0030689044979771763 16.732283843390146 5144 1 0.003043921349942592 16.369721374477926\n",
      "5130 13 0.0008145004107179409 13.344257580673302 6060 15 0.0007977839349323594 14.222773959751917\n",
      "5130 13 0.0008145004107179409 13.344257580673302 6757 17 0.0008032357613669768 12.638152512469286\n",
      "6060 15 0.0007977839349323594 14.222773959751917 6757 17 0.0008032357613669768 12.638152512469286\n",
      "6060 15 0.0007977839349323594 14.222773959751917 6759 13 0.0008271928601476943 12.18842906753303\n",
      "7156 2 0.0013534825072222952 23.409671058233997 8479 2 0.0013610807983294206 28.284579462200675\n",
      "7156 2 0.0027069650144445905 21.02711112009119 8479 2 0.0026986946863428165 30.944792360463104\n",
      "7156 28 0.001151852676089186 19.79073153223601 8481 12 0.0011821568461114558 15.63396284419376\n",
      "8479 27 0.0011513672915177374 13.38752030607711 8481 12 0.0011821568461114558 15.63396284419376\n",
      "9100 22 0.0007976901827806545 16.508938622253392 9810 20 0.0007969024942649974 19.711629885678484\n",
      "953 26 6.240124114371321e-5 25.578586000162982 955 24 6.240124114371321e-5 24.98269389948731\n",
      "953 26 9.360186171556982e-5 44.08032093852998 955 24 9.360186171556982e-5 27.6324514797624\n",
      "953 27 6.331683497539297e-5 12.832213993516064 955 25 6.293583617237939e-5 31.82892922059267\n"
     ]
    },
    {
     "data": {
      "text/plain": [
       "([10986.0 12.0 … 0.000971308 15.7763; 10986.0 12.0 … 0.00193551 12.7048; … ; 953.0 26.0 … 9.36019e-5 27.6325; 953.0 27.0 … 6.29358e-5 31.8289], 3.694818527, 1144904938, 0.295453778, Base.GC_Diff(1144904938, 0, 0, 62978508, 105, 0, 295453778, 50, 0))"
      ]
     },
     "execution_count": 29,
     "metadata": {},
     "output_type": "execute_result"
    }
   ],
   "source": [
    "#TEST 2 WITH NEW CODE FROM DARYL\n",
    "\n",
    "function pmatch(pows12)\n",
    "    #deltaT=20.  #years\n",
    "    dflen = size(pows12)[1]\n",
    "    #println(dflen)\n",
    "    fi=zeros(Float64,dflen)\n",
    "    fj=zeros(Float64,dflen)\n",
    "    poi=zeros(Float64,dflen)\n",
    "    poj=zeros(Float64,dflen)\n",
    "    obsi=zeros(Int,dflen)\n",
    "    obsj=zeros(Int,dflen)\n",
    "    srci=zeros(Int,dflen)\n",
    "    srcj=zeros(Int,dflen)\n",
    "    rai=zeros(Float64,dflen)\n",
    "    raj=zeros(Float64,dflen)\n",
    "    dci=zeros(Float64,dflen)\n",
    "    dcj=zeros(Float64,dflen)\n",
    "    nsame = 0\n",
    "    #nsmatch = 0\n",
    "\n",
    "    for i = 1:dflen\n",
    "        for j = i+1:dflen\n",
    "            if pows12.obsid[i] != pows12.obsid[j]\n",
    "                rdist = DJM.gcdist(pows12.ra[j],pows12.dec[j],pows12.ra[i],pows12.dec[i])\n",
    "                fave = (pows12.freq[i] + pows12.freq[j])/2.0\n",
    "                Pdot = pdot(fave)\n",
    "                deltaT = abs(pows12.startdate[i] - pows12.startdate[j])/365.25\n",
    "                deltaf = fave*fave*Pdot*deltaT  #likely limit of frequency change\n",
    "\n",
    "                df1=1/pows12.exptime[i]\n",
    "                df2=1/pows12.exptime[j]\n",
    "                df = maximum([df1,df2])\n",
    "                #frange = df1+df2\n",
    "                numdf = ceil(deltaf/df) #how many of the largest frequency spaces could it have drifted?\n",
    "\n",
    "                fdiff = abs(pows12.freq[i] - pows12.freq[j])\n",
    "                frange = df*numdf\n",
    "\n",
    "                if ((rdist*60.0 < 0.01666) && (fdiff < frange))\n",
    "                #if ((rdist*60.0 < 0.01666) && (fdiff < frange))\n",
    "                    println(pows12.obsid[i],\" \",pows12.srcnum[i],\" \",pows12.freq[i],\" \",pows12.power[i],\" \",pows12.obsid[j],\" \",pows12.srcnum[j],\" \",pows12.freq[j],\" \",pows12.power[j])\n",
    "                    nsame += 1\n",
    "                    fi[nsame]=pows12.freq[i]\n",
    "                    fj[nsame]=pows12.freq[j]\n",
    "                    poi[nsame]=pows12.power[i]\n",
    "                    poj[nsame]=pows12.power[j]\n",
    "                    obsi[nsame]=pows12.obsid[i]\n",
    "                    obsj[nsame]=pows12.obsid[j]\n",
    "                    srci[nsame]=pows12.srcnum[i]\n",
    "                    srcj[nsame]=pows12.srcnum[j]\n",
    "                    rai[nsame]=pows12.ra[i]\n",
    "                    raj[nsame]=pows12.ra[j]\n",
    "                    dci[nsame]=pows12.dec[i]\n",
    "                    dcj[nsame]=pows12.dec[j]\n",
    "                end\n",
    "\n",
    "            end\n",
    "        end\n",
    "    end\n",
    "\n",
    "\n",
    "    same=[obsi[1:nsame] srci[1:nsame] rai[1:nsame] dci[1:nsame] fi[1:nsame] poi[1:nsame] obsj[1:nsame] srcj[1:nsame] raj[1:nsame] dcj[1:nsame] fj[1:nsame] poj[1:nsame]]\n",
    "    return same\n",
    "end\n",
    "\n",
    "x=@timed pmatch(pows12)\n",
    "#return(notsame)"
   ]
  },
  {
   "cell_type": "code",
   "execution_count": null,
   "metadata": {},
   "outputs": [],
   "source": [
    "size(notsame8) #number of diff source pairs at all frequencies"
   ]
  },
  {
   "cell_type": "code",
   "execution_count": null,
   "metadata": {},
   "outputs": [],
   "source": [
    "1.0/2/3.24104"
   ]
  },
  {
   "cell_type": "code",
   "execution_count": null,
   "metadata": {
    "scrolled": true
   },
   "outputs": [],
   "source": [
    "using StatsBase\n",
    "\n",
    "function fx2dist(pairs)\n",
    "    hist1 = fit(Histogram, pairs[1:end,5], 0:0.00001:0.15428)\n",
    "    hist2 = fit(Histogram, pairs[1:end,11], 0:0.00001:0.15428)\n",
    "    hist3 = merge(hist1,hist2)\n",
    "    return (hist3)\n",
    "end\n"
   ]
  },
  {
   "cell_type": "code",
   "execution_count": null,
   "metadata": {},
   "outputs": [],
   "source": [
    "notx2hist8 = fx2dist(notsame7) #number of pairs in each freq bin"
   ]
  },
  {
   "cell_type": "code",
   "execution_count": null,
   "metadata": {},
   "outputs": [],
   "source": [
    "plot(log10.(notx2hist8.weights.+1),ylabel=\"Log(number)\",xlabel=\"Frequency\")"
   ]
  },
  {
   "cell_type": "code",
   "execution_count": null,
   "metadata": {},
   "outputs": [],
   "source": [
    "log10(300)"
   ]
  },
  {
   "cell_type": "code",
   "execution_count": null,
   "metadata": {},
   "outputs": [],
   "source": [
    "#how many freq bins have fewer than 30 pairs?\n",
    "temparr=[notx2hist8.weights .< 20]\n",
    "counthist = fit(Histogram, notx2hist8.weights,0:200:3000)"
   ]
  },
  {
   "cell_type": "code",
   "execution_count": null,
   "metadata": {},
   "outputs": [],
   "source": [
    "fmask = [notx2hist8.weights .<= 200] #good freq bins"
   ]
  },
  {
   "cell_type": "code",
   "execution_count": null,
   "metadata": {},
   "outputs": [],
   "source": [
    "notx2hist8.weights[2]"
   ]
  },
  {
   "cell_type": "code",
   "execution_count": null,
   "metadata": {},
   "outputs": [],
   "source": [
    "fmask[1][1]"
   ]
  },
  {
   "cell_type": "code",
   "execution_count": null,
   "metadata": {},
   "outputs": [],
   "source": [
    "nonpairgood=0\n",
    "for i = 1:size(notx2hist8.weights)[1]\n",
    "    if fmask[1][i] == true\n",
    "        global nonpairgood = nonpairgood + notx2hist8.weights[i]\n",
    "    end\n",
    "end\n",
    "nonpairgood"
   ]
  },
  {
   "cell_type": "code",
   "execution_count": null,
   "metadata": {},
   "outputs": [],
   "source": [
    "goodprob=39119/62064876"
   ]
  },
  {
   "cell_type": "code",
   "execution_count": null,
   "metadata": {},
   "outputs": [],
   "source": [
    "1.0/goodprob"
   ]
  },
  {
   "cell_type": "code",
   "execution_count": null,
   "metadata": {},
   "outputs": [],
   "source": [
    "println(length(fmask[1],\" \",size(notx2hist8.weights[1])))"
   ]
  },
  {
   "cell_type": "code",
   "execution_count": null,
   "metadata": {},
   "outputs": [],
   "source": [
    "sum(counthist.weights)"
   ]
  },
  {
   "cell_type": "code",
   "execution_count": null,
   "metadata": {},
   "outputs": [],
   "source": [
    "using StatsBase\n",
    "Base.median(counthist.weights)"
   ]
  },
  {
   "cell_type": "code",
   "execution_count": null,
   "metadata": {},
   "outputs": [],
   "source": [
    "11997+1752+680+341+184+67+54"
   ]
  },
  {
   "cell_type": "code",
   "execution_count": null,
   "metadata": {},
   "outputs": [],
   "source": [
    "plot(counthist)"
   ]
  },
  {
   "cell_type": "code",
   "execution_count": null,
   "metadata": {},
   "outputs": [],
   "source": [
    "typeof(fmask[1])"
   ]
  },
  {
   "cell_type": "code",
   "execution_count": null,
   "metadata": {},
   "outputs": [
    {
     "name": "stderr",
     "output_type": "stream",
     "text": [
      "┌ Warning: `getindex(df::DataFrame, col_ind::ColumnIndex)` is deprecated, use `df[!, col_ind]` instead.\n",
      "│   caller = top-level scope at In[6]:26\n",
      "└ @ Core ./In[6]:26\n",
      "┌ Warning: `getindex(df::DataFrame, col_ind::ColumnIndex)` is deprecated, use `df[!, col_ind]` instead.\n",
      "│   caller = top-level scope at In[6]:45\n",
      "└ @ Core ./In[6]:45\n"
     ]
    },
    {
     "name": "stdout",
     "output_type": "stream",
     "text": [
      "10986 12 0.0001469671986448938 11.11373124114541 12131 10 0.00011988457589758708 8.7756692427781\n"
     ]
    },
    {
     "name": "stderr",
     "output_type": "stream",
     "text": [
      "┌ Warning: `getindex(df::DataFrame, col_ind::ColumnIndex)` is deprecated, use `df[!, col_ind]` instead.\n",
      "│   caller = top-level scope at In[6]:45\n",
      "└ @ Core ./In[6]:45\n",
      "┌ Warning: `getindex(df::DataFrame, col_ind::ColumnIndex)` is deprecated, use `df[!, col_ind]` instead.\n",
      "│   caller = top-level scope at In[6]:45\n",
      "└ @ Core ./In[6]:45\n",
      "┌ Warning: `getindex(df::DataFrame, col_ind::ColumnIndex)` is deprecated, use `df[!, col_ind]` instead.\n",
      "│   caller = top-level scope at In[6]:45\n",
      "└ @ Core ./In[6]:45\n",
      "┌ Warning: `getindex(df::DataFrame, col_ind::ColumnIndex)` is deprecated, use `df[!, col_ind]` instead.\n",
      "│   caller = top-level scope at In[6]:45\n",
      "└ @ Core ./In[6]:45\n",
      "┌ Warning: `getindex(df::DataFrame, col_ind::ColumnIndex)` is deprecated, use `df[!, col_ind]` instead.\n",
      "│   caller = top-level scope at In[6]:45\n",
      "└ @ Core ./In[6]:45\n",
      "┌ Warning: `getindex(df::DataFrame, col_ind::ColumnIndex)` is deprecated, use `df[!, col_ind]` instead.\n",
      "│   caller = top-level scope at In[6]:45\n",
      "└ @ Core ./In[6]:45\n",
      "┌ Warning: `getindex(df::DataFrame, col_ind::ColumnIndex)` is deprecated, use `df[!, col_ind]` instead.\n",
      "│   caller = top-level scope at In[6]:45\n",
      "└ @ Core ./In[6]:45\n",
      "┌ Warning: `getindex(df::DataFrame, col_ind::ColumnIndex)` is deprecated, use `df[!, col_ind]` instead.\n",
      "│   caller = top-level scope at In[6]:47\n",
      "└ @ Core ./In[6]:47\n",
      "┌ Warning: `getindex(df::DataFrame, col_ind::ColumnIndex)` is deprecated, use `df[!, col_ind]` instead.\n",
      "│   caller = top-level scope at In[6]:48\n",
      "└ @ Core ./In[6]:48\n",
      "┌ Warning: `getindex(df::DataFrame, col_ind::ColumnIndex)` is deprecated, use `df[!, col_ind]` instead.\n",
      "│   caller = top-level scope at In[6]:49\n",
      "└ @ Core ./In[6]:49\n",
      "┌ Warning: `getindex(df::DataFrame, col_ind::ColumnIndex)` is deprecated, use `df[!, col_ind]` instead.\n",
      "│   caller = top-level scope at In[6]:50\n",
      "└ @ Core ./In[6]:50\n",
      "┌ Warning: `getindex(df::DataFrame, col_ind::ColumnIndex)` is deprecated, use `df[!, col_ind]` instead.\n",
      "│   caller = top-level scope at In[6]:51\n",
      "└ @ Core ./In[6]:51\n",
      "┌ Warning: `getindex(df::DataFrame, col_ind::ColumnIndex)` is deprecated, use `df[!, col_ind]` instead.\n",
      "│   caller = top-level scope at In[6]:52\n",
      "└ @ Core ./In[6]:52\n",
      "┌ Warning: `getindex(df::DataFrame, col_ind::ColumnIndex)` is deprecated, use `df[!, col_ind]` instead.\n",
      "│   caller = top-level scope at In[6]:53\n",
      "└ @ Core ./In[6]:53\n",
      "┌ Warning: `getindex(df::DataFrame, col_ind::ColumnIndex)` is deprecated, use `df[!, col_ind]` instead.\n",
      "│   caller = top-level scope at In[6]:54\n",
      "└ @ Core ./In[6]:54\n",
      "┌ Warning: `getindex(df::DataFrame, col_ind::ColumnIndex)` is deprecated, use `df[!, col_ind]` instead.\n",
      "│   caller = top-level scope at In[6]:55\n",
      "└ @ Core ./In[6]:55\n",
      "┌ Warning: `getindex(df::DataFrame, col_ind::ColumnIndex)` is deprecated, use `df[!, col_ind]` instead.\n",
      "│   caller = top-level scope at In[6]:56\n",
      "└ @ Core ./In[6]:56\n",
      "┌ Warning: `getindex(df::DataFrame, col_ind::ColumnIndex)` is deprecated, use `df[!, col_ind]` instead.\n",
      "│   caller = top-level scope at In[6]:57\n",
      "└ @ Core ./In[6]:57\n",
      "┌ Warning: `getindex(df::DataFrame, col_ind::ColumnIndex)` is deprecated, use `df[!, col_ind]` instead.\n",
      "│   caller = top-level scope at In[6]:58\n",
      "└ @ Core ./In[6]:58\n"
     ]
    },
    {
     "name": "stdout",
     "output_type": "stream",
     "text": [
      "10986 12 0.0001469671986448938 11.11373124114541 12207 8 0.0001707802233404557 7.263636450133366\n",
      "10986 12 0.000969983511056299 17.889771451447622 11978 11 0.000964780214029432 10.340382375283099\n",
      "10986 12 0.000969983511056299 17.889771451447622 11979 13 0.000971308040045705 15.77630904298836\n",
      "10986 12 0.000969983511056299 17.889771451447622 12130 12 0.0009741820435561062 9.804292682221948\n",
      "10986 12 0.001910573582383619 17.836005321642993 11989 11 0.0019175609794938064 7.983653838284736\n",
      "10986 12 0.001910573582383619 17.836005321642993 12207 8 0.001935509197858498 12.704835658434616\n",
      "11095 7 0.0032561126951107366 8.462366868050706 11096 11 0.003213988925365521 7.6905207964883004\n",
      "11095 7 0.0032561126951107366 8.462366868050706 11984 10 0.00324272576752173 9.3471792365868\n",
      "11095 7 0.0032561126951107366 8.462366868050706 12216 9 0.0032143489554904633 20.859993892956084\n",
      "11096 11 0.003186980615068331 23.569499285934306 11983 10 0.0031975105268172302 17.603659555134275\n",
      "11096 11 0.003186980615068331 23.569499285934306 11985 7 0.003233305548587782 10.038953966733255\n",
      "11096 11 0.003186980615068331 23.569499285934306 12215 9 0.0032216985079436514 14.07220160557982\n",
      "11096 11 0.003186980615068331 23.569499285934306 12216 9 0.0032143489554904633 20.859993892956084\n",
      "11096 11 0.003213988925365521 7.6905207964883004 11983 10 0.0031975105268172302 17.603659555134275\n",
      "11096 11 0.003213988925365521 7.6905207964883004 11984 10 0.00324272576752173 9.3471792365868\n",
      "11096 11 0.003213988925365521 7.6905207964883004 11985 7 0.003233305548587782 10.038953966733255\n",
      "11096 11 0.003213988925365521 7.6905207964883004 12215 9 0.0032216985079436514 14.07220160557982\n",
      "11096 11 0.003213988925365521 7.6905207964883004 12216 9 0.0032143489554904633 20.859993892956084\n",
      "11097 16 0.07853880949537642 7.290297274455316 11983 13 0.07854003679384444 7.162396811158589\n",
      "11957 2 0.04517526536311864 7.9476337489891495 9694 1 0.04518888042293272 9.714860949327006\n",
      "11978 11 0.000964780214029432 10.340382375283099 11979 13 0.000971308040045705 15.77630904298836\n",
      "11978 11 0.000964780214029432 10.340382375283099 11988 13 0.0009840453189869497 9.611074664335696\n",
      "11978 11 0.000964780214029432 10.340382375283099 12130 12 0.0009741820435561062 9.804292682221948\n",
      "11978 11 0.000964780214029432 10.340382375283099 12134 12 0.0009657055925980908 16.109106220010922\n",
      "11979 13 0.000971308040045705 15.77630904298836 11988 13 0.0009840453189869497 9.611074664335696\n",
      "11979 13 0.000971308040045705 15.77630904298836 12130 12 0.0009741820435561062 9.804292682221948\n",
      "11979 13 0.000971308040045705 15.77630904298836 12134 12 0.0009657055925980908 16.109106220010922\n",
      "11981 10 0.0034416554113552798 36.44784380057293 11982 5 0.0034568385315030927 31.69552645483778\n",
      "11981 10 0.0034416554113552798 36.44784380057293 12208 8 0.0034660791299428364 22.467132820283002\n",
      "11981 10 0.0034416554113552798 36.44784380057293 12211 9 0.0034433075643872098 36.77749893605026\n",
      "11981 10 0.017120029482126264 12.4862184973637 11982 5 0.01712340947000369 10.353184371090295\n",
      "11981 10 0.017120029482126264 12.4862184973637 11983 7 0.017115018487460682 10.475418627620986\n",
      "11981 10 0.017120029482126264 12.4862184973637 12208 8 0.01714471283918153 9.086548324834109\n",
      "11981 10 0.017120029482126264 12.4862184973637 12210 8 0.017115360026786593 21.963275941484124\n",
      "11981 10 0.017120029482126264 12.4862184973637 12211 9 0.01710364249195614 10.62938179677711\n",
      "11981 10 0.019649793288763477 8.05720220059367 12208 8 0.019682377916461106 7.340239020187308\n",
      "11982 2 0.04663454806939205 8.691528579042668 12215 2 0.046665591323813135 9.445759631696633\n",
      "11982 5 0.0034568385315030927 31.69552645483778 12208 8 0.0034660791299428364 22.467132820283002\n",
      "11982 5 0.0034568385315030927 31.69552645483778 12211 9 0.0034433075643872098 36.77749893605026\n",
      "11982 5 0.01712340947000369 10.353184371090295 11983 7 0.017115018487460682 10.475418627620986\n",
      "11982 5 0.01712340947000369 10.353184371090295 12208 8 0.01714471283918153 9.086548324834109\n",
      "11982 5 0.01712340947000369 10.353184371090295 12210 8 0.017115360026786593 21.963275941484124\n",
      "11982 5 0.01712340947000369 10.353184371090295 12211 9 0.01710364249195614 10.62938179677711\n",
      "11982 7 0.001450260572667873 38.463691035220414 12210 11 0.001432917389226007 34.956017000870474\n",
      "11982 7 0.001450260572667873 38.463691035220414 12210 11 0.0014687403239566574 15.027107063705142\n",
      "11982 7 0.001450260572667873 38.463691035220414 12211 11 0.0014204167978781417 10.812399003627636\n",
      "11982 7 0.001450260572667873 38.463691035220414 12211 11 0.0014488251338357046 46.852874406091914\n",
      "11982 7 0.0028602361294283053 7.495851331177079 12210 11 0.002865834778452014 9.755375094625048\n",
      "11982 7 0.0028602361294283053 7.495851331177079 12211 11 0.0028692419317138465 11.499093909320255\n",
      "11982 8 0.005908782141057611 7.054523963928563 12200 13 0.005881588173693719 7.529351317902016\n",
      "11982 8 0.005908782141057611 7.054523963928563 12200 13 0.005918579294282987 11.119973757872806\n",
      "11983 10 0.0031975105268172302 17.603659555134275 11985 7 0.003233305548587782 10.038953966733255\n",
      "11983 10 0.0031975105268172302 17.603659555134275 12211 11 0.0032101419632046004 15.825381860790065\n",
      "11983 10 0.0031975105268172302 17.603659555134275 12215 9 0.0032216985079436514 14.07220160557982\n",
      "11983 10 0.0031975105268172302 17.603659555134275 12216 9 0.0032143489554904633 20.859993892956084\n",
      "11983 7 0.017115018487460682 10.475418627620986 12208 8 0.01714471283918153 9.086548324834109\n",
      "11983 7 0.017115018487460682 10.475418627620986 12210 8 0.017115360026786593 21.963275941484124\n",
      "11983 7 0.017115018487460682 10.475418627620986 12211 9 0.01710364249195614 10.62938179677711\n",
      "11983 7 0.06873013341315572 9.244624750330471 12211 9 0.06872503212526931 7.429193734402126\n",
      "11984 10 0.00324272576752173 9.3471792365868 12216 9 0.0032143489554904633 20.859993892956084\n",
      "11985 7 0.003233305548587782 10.038953966733255 12211 11 0.0032101419632046004 15.825381860790065\n",
      "11985 7 0.003233305548587782 10.038953966733255 12215 9 0.0032216985079436514 14.07220160557982\n",
      "11985 7 0.003233305548587782 10.038953966733255 12216 9 0.0032143489554904633 20.859993892956084\n",
      "11988 13 0.0001490977756040833 10.490040779469197 12131 10 0.00011988457589758708 8.7756692427781\n",
      "11988 13 0.0009840453189869497 9.611074664335696 12130 12 0.0009741820435561062 9.804292682221948\n",
      "11988 13 0.0009840453189869497 9.611074664335696 12134 12 0.0009657055925980908 16.109106220010922\n",
      "11989 11 0.0019175609794938064 7.983653838284736 12134 12 0.0019012328854274912 9.593711145137895\n",
      "11989 11 0.0019175609794938064 7.983653838284736 12136 9 0.0019295993548160725 7.287679292887542\n",
      "11989 5 0.14087003028737413 7.371559444111429 12130 6 0.14090875288552393 7.084168898868791\n",
      "12130 12 0.0009741820435561062 9.804292682221948 12134 12 0.0009657055925980908 16.109106220010922\n",
      "12131 10 0.00011988457589758708 8.7756692427781 12134 12 9.053489930607102e-5 7.662410950109265\n",
      "12131 10 0.00011988457589758708 8.7756692427781 12207 8 0.0001707802233404557 7.263636450133366\n"
     ]
    }
   ],
   "source": [
    "#deltaT=20.  #years\n",
    "dflen = size(pows8)[1]\n",
    "nsame=0\n",
    "nsmatch = 0\n",
    "fi=[]\n",
    "fj=[]\n",
    "pi=[]\n",
    "pj=[]\n",
    "obsi=[]\n",
    "obsj=[]\n",
    "srci=[]\n",
    "srcj=[]\n",
    "rai=[]\n",
    "raj=[]\n",
    "dci=[]\n",
    "dcj=[]\n",
    "\n",
    "for i = 1:dflen\n",
    "    for j = i:dflen\n",
    "        global nsame\n",
    "        global nsmatch\n",
    "        if pows8.obsid[i] != pows8.obsid[j]\n",
    "            rdist = DJM.gcdist(pows8.ra[j],pows8.dec[j],pows8.ra[i],pows8.dec[i])\n",
    "            fave = (pows8.freq[i] + pows8.freq[j])/2.0\n",
    "            Pdot = pdot(fave)\n",
    "            deltaT = abs(pows8.startdate[i] - pows8[:startdate][j])/365.25\n",
    "            deltaf = fave*fave*Pdot*deltaT  #likely limit of frequency change\n",
    "\n",
    "            df1=1/pows8.exptime[i]\n",
    "            df2=1/pows8.exptime[j]\n",
    "            df = maximum([df1,df2])\n",
    "            #frange = df1+df2\n",
    "            numdf = ceil(deltaf/df) #how many of the largest frequency spaces could it have drifted?\n",
    "\n",
    "            fdiff = abs(pows8.freq[i] - pows8.freq[j])\n",
    "            frange = df*numdf\n",
    "\n",
    "            if (rdist*60.0 < 0.01666)\n",
    "            #if (rdist*60.0 < 0.01666)\n",
    "                nsame = nsame + 1\n",
    "            end\n",
    "\n",
    "            if ((rdist*60.0 < 0.01666) && (fdiff < frange))\n",
    "            #if ((rdist*60.0 < 0.01666) && (fdiff < frange))\n",
    "                println(pows8.obsid[i],\" \",pows8,srcnum[i],\" \",pows8.freq[i],\" \",pows8.power[i],\" \",pows8.obsid[j],\" \",pows8.srcnum[j],\" \",pows8.freq[j],\" \",pows8.power[j])\n",
    "                nsmatch = nsmatch + 1\n",
    "                push!(fi,pows8.freq[i])\n",
    "                push!(fj,pows8.freq[j])\n",
    "                push!(pi,pows8.power[i])\n",
    "                push!(pj,pows8.power[j])\n",
    "                push!(obsi,pows8.obsid[i])\n",
    "                push!(obsj,pows8.obsid[j])\n",
    "                push!(srci,pows8.srcnum[i])\n",
    "                push!(srcj,pows8.srcnum[j])\n",
    "                push!(rai,pows8.ra[i])\n",
    "                push!(raj,pows8.ra[j])\n",
    "                push!(dci,pows8.dec[i])\n",
    "                push!(dcj,pows8.dec[j])\n",
    "            end\n",
    "\n",
    "        end\n",
    "    end\n",
    "end\n",
    "same=[obsi srci rai dci fi pi obsj srcj raj dcj fj pj]\n",
    "#return(notsame)\n",
    "t4=@timed dcj\n",
    "t5=@timed nsame\n",
    "t6=@timed nsmatch"
   ]
  },
  {
   "cell_type": "code",
   "execution_count": 32,
   "metadata": {},
   "outputs": [
    {
     "name": "stdout",
     "output_type": "stream",
     "text": [
      "3.694818527 seconds\n",
      "1.144904938 GB used\n"
     ]
    }
   ],
   "source": [
    "gb=x[3]/10^9\n",
    "t=x[2]\n",
    "println(t,\" seconds\\n\",gb,\" GB used\")"
   ]
  },
  {
   "cell_type": "code",
   "execution_count": null,
   "metadata": {},
   "outputs": [],
   "source": [
    "println(nsame,\" \",nsmatch)"
   ]
  },
  {
   "cell_type": "code",
   "execution_count": null,
   "metadata": {},
   "outputs": [],
   "source": [
    "fmask[1][2000] == true\n",
    "size(notsame8)[1]"
   ]
  },
  {
   "cell_type": "code",
   "execution_count": null,
   "metadata": {},
   "outputs": [],
   "source": [
    "nsrc=size(notsame8)[1]\n",
    "notmasked = 0\n",
    "for i in 1:nsrc\n",
    "    global f1 = notsame8[i,5]\n",
    "    global f2 = notsame8[i,11]\n",
    "    global n1 = Int(ceil(notsame8[i,5]*100000))\n",
    "    global n2 = Int(ceil(notsame8[i,11]*100000))\n",
    "    if (fmask[1][n1] == true) && (fmask[1][n2] == true)\n",
    "    #if  (fmask[1][n2] == false)\n",
    "        global notmasked\n",
    "        notmasked = notmasked +1\n",
    "        #println(notsame[i,1:end])\n",
    "    end\n",
    "end\n",
    "notmasked"
   ]
  },
  {
   "cell_type": "code",
   "execution_count": null,
   "metadata": {},
   "outputs": [],
   "source": [
    "nsrc=size(same)[1]\n",
    "for i in 1:nsrc\n",
    "    global f1 = same[i,5]\n",
    "    global f2 = same[i,11]\n",
    "    global n1 = Int(ceil(same[i,5]*100000))\n",
    "    global n2 = Int(ceil(same[i,11]*100000))\n",
    "    if (fmask[1][n1] == true) && (fmask[1][n2] == true)\n",
    "    #if  (fmask[1][n2] == false)\n",
    "        println(same[i,1:end])\n",
    "    end\n",
    "end"
   ]
  },
  {
   "cell_type": "code",
   "execution_count": null,
   "metadata": {},
   "outputs": [],
   "source": [
    "pairs good 20 pairs total 300; nopair good 14954 nopair total 15307 "
   ]
  },
  {
   "cell_type": "code",
   "execution_count": null,
   "metadata": {},
   "outputs": [],
   "source": [
    "300*(1-15075/15307)"
   ]
  },
  {
   "cell_type": "code",
   "execution_count": null,
   "metadata": {},
   "outputs": [],
   "source": []
  },
  {
   "cell_type": "code",
   "execution_count": null,
   "metadata": {},
   "outputs": [],
   "source": [
    "same"
   ]
  },
  {
   "cell_type": "code",
   "execution_count": null,
   "metadata": {
    "scrolled": true
   },
   "outputs": [],
   "source": [
    "#pows=CSV.read(\"cxc.fftinfo.all13\")\n",
    "#pows=CSV.read(\"cxc.fftinfo.all5\",types=[Int64,Int64,Float64,Float64,Float64,Float64,Float64,Float64])"
   ]
  },
  {
   "cell_type": "code",
   "execution_count": null,
   "metadata": {},
   "outputs": [],
   "source": [
    "#include(\"/home/djm/Programming/Julia/DJM.jl\")\n",
    "#p5hist = DJM.myhist(pows5[:freq],0.0,0.16,16000)"
   ]
  },
  {
   "cell_type": "code",
   "execution_count": null,
   "metadata": {},
   "outputs": [],
   "source": [
    "#plot(p5hist[2][10000:15000],p5hist[1][10000:15000])"
   ]
  },
  {
   "cell_type": "code",
   "execution_count": null,
   "metadata": {},
   "outputs": [],
   "source": [
    "#function cleancxc()\n",
    "    \n",
    "#end"
   ]
  },
  {
   "cell_type": "markdown",
   "metadata": {},
   "source": [
    "dflen = size(pows)[1]\n",
    "for i = 1:dflen\n",
    "    for j = i:dflen\n",
    "        if pows[:obsid][i] != pows[:obsid][j]\n",
    "            rdist = gcdist(pows[:ra][j],pows[:dec][j],pows[:ra][i],pows[:dec][i])\n",
    "            if rdist < 0.0003\n",
    "                println(pows[:obsid][i],\" \",pows[:srcnum][i],\" \",pows[:freq][i],\" \",pows[:power][i],\":\",pows[:obsid][j],\" \",pows[:srcnum][j],\" \",pows[:freq][j],\" \",pows[:power][j])\n",
    "            end\n",
    "        end\n",
    "    end\n",
    "end"
   ]
  },
  {
   "cell_type": "code",
   "execution_count": null,
   "metadata": {},
   "outputs": [],
   "source": [
    "MathConstants.e^-8"
   ]
  },
  {
   "cell_type": "code",
   "execution_count": null,
   "metadata": {},
   "outputs": [],
   "source": [
    "function pdot(f)\n",
    "    Pdot2 = log10(0.01)  #seconds/year\n",
    "    Pdot1 = log10(0.00001)\n",
    "    P1 = log10(1.0)\n",
    "    P2 = log10(1000.0)\n",
    "    plog=log10(1/f) \n",
    "    \n",
    "    dpdot = (Pdot2 - Pdot1)/(P2-P1)\n",
    "    logpdot = Pdot1 + (plog-P1)*dpdot\n",
    "    return(10^logpdot)\n",
    "end"
   ]
  },
  {
   "cell_type": "code",
   "execution_count": null,
   "metadata": {},
   "outputs": [],
   "source": [
    "pdot(0.1)*20*0.1*0.1"
   ]
  },
  {
   "cell_type": "code",
   "execution_count": null,
   "metadata": {},
   "outputs": [],
   "source": [
    "1/10000"
   ]
  },
  {
   "cell_type": "markdown",
   "metadata": {
    "scrolled": true
   },
   "source": [
    "#deltaT=20.  #years\n",
    "dflen = size(pows)[1]\n",
    "nsame=0\n",
    "nmatch = 0\n",
    "\n",
    "for i = 1:dflen\n",
    "    for j = i:dflen\n",
    "        if pows[:obsid][i] != pows[:obsid][j]\n",
    "            rdist = gcdist(pows[:ra][j],pows[:dec][j],pows[:ra][i],pows[:dec][i])\n",
    "            fave = (pows[:freq][i] + pows[:freq][j])/2.0\n",
    "            Pdot = pdot(fave)\n",
    "            deltaT = abs(pows[:startdate][i] - pows[:startdate][j])/365.25\n",
    "            deltaf = fave*fave*Pdot*deltaT  #likely limit of frequency change\n",
    "\n",
    "            df1=1/pows[:exptime][i]\n",
    "            df2=1/pows[:exptime][j]\n",
    "            df = maximum([df1,df2])\n",
    "            numdf = ceil(deltaf/df) #how many of the largest frequency spaces could it have drifted?\n",
    "            \n",
    "            fdiff = abs(pows[:freq][i] - pows[:freq][j])\n",
    "            frange = df*numdf\n",
    "            \n",
    "            if (rdist*60.0 > 3*0.01666) \n",
    "            #if (rdist*60.0 < 0.01666) \n",
    "                nsame = nsame + 1\n",
    "            end\n",
    "            \n",
    "            if ((rdist*60.0 > 3*0.01666) && (fdiff < frange))\n",
    "            #if ((rdist*60.0 < 0.01666) && (fdiff < frange))\n",
    "                println(pows[:obsid][i],\" \",pows[:srcnum][i],\" \",pows[:freq][i],\" \",pows[:power][i],\" \",pows[:obsid][j],\" \",pows[:srcnum][j],\" \",pows[:freq][j],\" \",pows[:power][j])\n",
    "                nmatch = nmatch + 1\n",
    "            end\n",
    "\n",
    "        end\n",
    "    end\n",
    "end\n"
   ]
  },
  {
   "cell_type": "markdown",
   "metadata": {},
   "source": [
    "###Pre-variable Pdot stuff\n",
    "deltaT=20.  #years\n",
    "dflen = size(pows)[1]\n",
    "nsame=0\n",
    "ntrials = 0\n",
    "\n",
    "for i = 1:dflen\n",
    "    for j = i:dflen\n",
    "        if pows[:obsid][i] != pows[:obsid][j]\n",
    "            rdist = gcdist(pows[:ra][j],pows[:dec][j],pows[:ra][i],pows[:dec][i])\n",
    "            fave = (pows[:freq][i] + pows[:freq][j])/2.0\n",
    "            #Pdot = pdot(fave)\n",
    "            frange = fave*fave*Pdot*deltaT  #likely limit of frequency change\n",
    "            deltaf = abs(pows[:freq][i] - pows[:freq][j])\n",
    "            if (rdist*60.0 < 0.01666) \n",
    "                nsame = nsame + 1\n",
    "            end\n",
    "            if ((rdist*60.0 < 0.01666) && (deltaf < frange))\n",
    "                println(pows[:obsid][i],\" \",pows[:srcnum][i],\" \",pows[:freq][i],\" \",pows[:power][i],\":\",pows[:obsid][j],\" \",pows[:srcnum][j],\" \",pows[:freq][j],\" \",pows[:power][j])\n",
    "            end\n",
    "\n",
    "        end\n",
    "    end\n",
    "end\n",
    "println(nsame)"
   ]
  },
  {
   "cell_type": "markdown",
   "metadata": {},
   "source": [
    "Pdot = 0.01  #seconds/year\n",
    "deltaT=20.  #years\n",
    "frange = 0.3*0.3*Pdot*deltaT  #likely limit of frequency change\n",
    "frange/0.00001"
   ]
  },
  {
   "cell_type": "code",
   "execution_count": null,
   "metadata": {},
   "outputs": [],
   "source": [
    "nsame #for not same source"
   ]
  },
  {
   "cell_type": "code",
   "execution_count": null,
   "metadata": {},
   "outputs": [],
   "source": [
    "nmatch #for not same source"
   ]
  },
  {
   "cell_type": "code",
   "execution_count": null,
   "metadata": {},
   "outputs": [],
   "source": [
    "108374/1123685"
   ]
  },
  {
   "cell_type": "code",
   "execution_count": null,
   "metadata": {},
   "outputs": [],
   "source": [
    "nsame"
   ]
  },
  {
   "cell_type": "code",
   "execution_count": null,
   "metadata": {},
   "outputs": [],
   "source": [
    "nmatch"
   ]
  },
  {
   "cell_type": "code",
   "execution_count": null,
   "metadata": {},
   "outputs": [],
   "source": [
    "108/390"
   ]
  },
  {
   "cell_type": "markdown",
   "metadata": {},
   "source": [
    "Here is some data on success rates vs plimit.\n",
    "\n",
    "plimit     ndiff    diffmatch   diffpct   nsame   samematch  samepct\n",
    "10         4598114  174041      0.037     799     198        0.248\n",
    "11         2269245  146494      0.0645    552     149        0.2536\n",
    "12         1504970  124849      0.0829    472     128        0.2712\n",
    "\n",
    "weird . . . too many spurious frequencies?\n"
   ]
  }
 ],
 "metadata": {
  "kernelspec": {
   "display_name": "Julia 1.1.1",
   "language": "julia",
   "name": "julia-1.1"
  },
  "language_info": {
   "file_extension": ".jl",
   "mimetype": "application/julia",
   "name": "julia",
   "version": "1.1.1"
  }
 },
 "nbformat": 4,
 "nbformat_minor": 2
}
