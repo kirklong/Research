{
 "cells": [
  {
   "cell_type": "markdown",
   "metadata": {},
   "source": [
    "# Notes for later reflection\n",
    "\n",
    "This is an analysis of the gcdist function Daryl wrote in the Utility.jl file. I have modified it based on this analysis to fix the problem we were seeing, which was that occasionally it did not work. Although the error was a small percentage (***very small*** for large n) it was still a curiosity worth investigating. The error was sourced in the acos argument as occasionally that argument would be slightly more than one. This analysis confirms the value is **very** close to 1, and is probably just an overflow error. Based on this I changed the gcdist function by inserting a try statement and returning zero if it makes it to the catch statement, so running this code now will not reproduce the results below as the function is \"fixed\" now."
   ]
  },
  {
   "cell_type": "code",
   "execution_count": 29,
   "metadata": {},
   "outputs": [
    {
     "name": "stderr",
     "output_type": "stream",
     "text": [
      "WARNING: replacing module DJM.\n"
     ]
    },
    {
     "data": {
      "text/plain": [
       "Main.DJM"
      ]
     },
     "execution_count": 29,
     "metadata": {},
     "output_type": "execute_result"
    }
   ],
   "source": [
    "using DataFrames, CSV, DelimitedFiles, Plots, FFTW\n",
    "include(\"/home/kirk/Documents/research/CHANDRATest/DJM.jl\")"
   ]
  },
  {
   "cell_type": "code",
   "execution_count": 30,
   "metadata": {},
   "outputs": [
    {
     "data": {
      "text/plain": [
       "testGCDist (generic function with 1 method)"
      ]
     },
     "execution_count": 30,
     "metadata": {},
     "output_type": "execute_result"
    }
   ],
   "source": [
    "using Formatting\n",
    "function testGCDist(powList)\n",
    "    justPow=powList.power[:]\n",
    "    rdistError=[]\n",
    "    for i in 1:length(justPow)\n",
    "        print(format(i/length(justPow)*100,precision=2),\"% complete\\r\") #output % tracker\n",
    "        for j in (i+1):length(justPow) #i+1 accounts for indistinguishability\n",
    "            push!(rdistError, DJM.gcdist(powList.ra[j],powList.dec[j],powList.ra[i],powList.dec[i]))\n",
    "        end\n",
    "    end\n",
    "    return rdistError\n",
    "end"
   ]
  },
  {
   "cell_type": "code",
   "execution_count": 24,
   "metadata": {},
   "outputs": [
    {
     "data": {
      "text/html": [
       "<table class=\"data-frame\"><thead><tr><th></th><th>obsid</th><th>srcnum</th><th>startdate</th><th>exptime</th><th>ra</th><th>dec</th><th>freq</th><th>power</th></tr><tr><th></th><th>Int64</th><th>Int64</th><th>Float64</th><th>Float64</th><th>Float64</th><th>Float64</th><th>Float64</th><th>Float64</th></tr></thead><tbody><p>11,255 rows × 8 columns</p><tr><th>1</th><td>1026</td><td>26</td><td>51833.8</td><td>6458.48</td><td>19.9382</td><td>-73.4501</td><td>0.00123975</td><td>13.2664</td></tr><tr><th>2</th><td>1026</td><td>8</td><td>51833.8</td><td>6458.48</td><td>19.5522</td><td>-73.6193</td><td>0.154427</td><td>9.16655</td></tr><tr><th>3</th><td>1027</td><td>107</td><td>51855.0</td><td>6133.27</td><td>18.8667</td><td>-73.3961</td><td>0.0185454</td><td>9.14431</td></tr><tr><th>4</th><td>1027</td><td>107</td><td>51855.0</td><td>6133.27</td><td>18.8667</td><td>-73.3961</td><td>0.144096</td><td>8.02378</td></tr><tr><th>5</th><td>1027</td><td>36</td><td>51855.0</td><td>6133.27</td><td>19.782</td><td>-73.5006</td><td>0.0813522</td><td>8.00401</td></tr><tr><th>6</th><td>1027</td><td>40</td><td>51855.0</td><td>6133.27</td><td>19.7033</td><td>-73.4917</td><td>0.0417401</td><td>8.04439</td></tr><tr><th>7</th><td>1027</td><td>54</td><td>51855.0</td><td>6133.27</td><td>19.5056</td><td>-73.4696</td><td>0.14484</td><td>8.14304</td></tr><tr><th>8</th><td>1027</td><td>58</td><td>51855.0</td><td>6133.27</td><td>19.4489</td><td>-73.4632</td><td>0.0598763</td><td>8.05626</td></tr><tr><th>9</th><td>1027</td><td>91</td><td>51855.0</td><td>6133.27</td><td>19.0827</td><td>-73.4213</td><td>0.0622972</td><td>8.75528</td></tr><tr><th>10</th><td>1028</td><td>100</td><td>51856.5</td><td>6324.74</td><td>19.0782</td><td>-73.419</td><td>0.00079317</td><td>9.37595</td></tr><tr><th>11</th><td>1028</td><td>103</td><td>51856.5</td><td>6324.74</td><td>19.0553</td><td>-73.416</td><td>0.000954257</td><td>8.29069</td></tr><tr><th>12</th><td>1028</td><td>104</td><td>51856.5</td><td>6324.74</td><td>19.0476</td><td>-73.4151</td><td>0.00079073</td><td>8.29263</td></tr><tr><th>13</th><td>1028</td><td>105</td><td>51856.5</td><td>6324.74</td><td>19.038</td><td>-73.414</td><td>0.000316292</td><td>13.824</td></tr><tr><th>14</th><td>1028</td><td>105</td><td>51856.5</td><td>6324.74</td><td>19.038</td><td>-73.414</td><td>0.00079073</td><td>8.05898</td></tr><tr><th>15</th><td>1028</td><td>108</td><td>51856.5</td><td>6324.74</td><td>18.9999</td><td>-73.4091</td><td>0.000316617</td><td>8.18139</td></tr><tr><th>16</th><td>1028</td><td>108</td><td>51856.5</td><td>6324.74</td><td>18.9999</td><td>-73.4091</td><td>0.000791542</td><td>10.9301</td></tr><tr><th>17</th><td>1028</td><td>109</td><td>51856.5</td><td>6324.74</td><td>18.9904</td><td>-73.4081</td><td>0.00094985</td><td>9.10865</td></tr><tr><th>18</th><td>1028</td><td>113</td><td>51856.5</td><td>6324.74</td><td>18.9547</td><td>-73.4035</td><td>0.00110873</td><td>31.303</td></tr><tr><th>19</th><td>1028</td><td>113</td><td>51856.5</td><td>6324.74</td><td>18.9547</td><td>-73.4035</td><td>0.00126712</td><td>12.1519</td></tr><tr><th>20</th><td>1028</td><td>124</td><td>51856.5</td><td>6324.74</td><td>18.6383</td><td>-73.3635</td><td>0.0284955</td><td>8.70218</td></tr><tr><th>21</th><td>1028</td><td>28</td><td>51856.5</td><td>6324.74</td><td>20.0354</td><td>-73.5351</td><td>0.000316454</td><td>8.19973</td></tr><tr><th>22</th><td>1028</td><td>29</td><td>51856.5</td><td>6324.74</td><td>20.0237</td><td>-73.5337</td><td>0.000317105</td><td>9.72711</td></tr><tr><th>23</th><td>1028</td><td>38</td><td>51856.5</td><td>6324.74</td><td>19.8812</td><td>-73.5169</td><td>0.00110816</td><td>21.5887</td></tr><tr><th>24</th><td>1028</td><td>38</td><td>51856.5</td><td>6324.74</td><td>19.8812</td><td>-73.5169</td><td>0.00126647</td><td>9.20985</td></tr><tr><th>25</th><td>1028</td><td>51</td><td>51856.5</td><td>6324.74</td><td>19.605</td><td>-73.4836</td><td>0.00142624</td><td>8.19243</td></tr><tr><th>26</th><td>1028</td><td>60</td><td>51856.5</td><td>6324.74</td><td>19.5003</td><td>-73.4708</td><td>0.0455461</td><td>8.09873</td></tr><tr><th>27</th><td>1028</td><td>69</td><td>51856.5</td><td>6324.74</td><td>19.3793</td><td>-73.4562</td><td>0.000475169</td><td>8.50385</td></tr><tr><th>28</th><td>1028</td><td>72</td><td>51856.5</td><td>6324.74</td><td>19.3407</td><td>-73.4515</td><td>0.000316779</td><td>8.79257</td></tr><tr><th>29</th><td>1028</td><td>72</td><td>51856.5</td><td>6324.74</td><td>19.3407</td><td>-73.4515</td><td>0.000791948</td><td>9.73286</td></tr><tr><th>30</th><td>1028</td><td>73</td><td>51856.5</td><td>6324.74</td><td>19.331</td><td>-73.4502</td><td>0.00079073</td><td>8.24599</td></tr><tr><th>&vellip;</th><td>&vellip;</td><td>&vellip;</td><td>&vellip;</td><td>&vellip;</td><td>&vellip;</td><td>&vellip;</td><td>&vellip;</td><td>&vellip;</td></tr></tbody></table>"
      ],
      "text/latex": [
       "\\begin{tabular}{r|cccccccc}\n",
       "\t& obsid & srcnum & startdate & exptime & ra & dec & freq & power\\\\\n",
       "\t\\hline\n",
       "\t& Int64 & Int64 & Float64 & Float64 & Float64 & Float64 & Float64 & Float64\\\\\n",
       "\t\\hline\n",
       "\t1 & 1026 & 26 & 51833.8 & 6458.48 & 19.9382 & -73.4501 & 0.00123975 & 13.2664 \\\\\n",
       "\t2 & 1026 & 8 & 51833.8 & 6458.48 & 19.5522 & -73.6193 & 0.154427 & 9.16655 \\\\\n",
       "\t3 & 1027 & 107 & 51855.0 & 6133.27 & 18.8667 & -73.3961 & 0.0185454 & 9.14431 \\\\\n",
       "\t4 & 1027 & 107 & 51855.0 & 6133.27 & 18.8667 & -73.3961 & 0.144096 & 8.02378 \\\\\n",
       "\t5 & 1027 & 36 & 51855.0 & 6133.27 & 19.782 & -73.5006 & 0.0813522 & 8.00401 \\\\\n",
       "\t6 & 1027 & 40 & 51855.0 & 6133.27 & 19.7033 & -73.4917 & 0.0417401 & 8.04439 \\\\\n",
       "\t7 & 1027 & 54 & 51855.0 & 6133.27 & 19.5056 & -73.4696 & 0.14484 & 8.14304 \\\\\n",
       "\t8 & 1027 & 58 & 51855.0 & 6133.27 & 19.4489 & -73.4632 & 0.0598763 & 8.05626 \\\\\n",
       "\t9 & 1027 & 91 & 51855.0 & 6133.27 & 19.0827 & -73.4213 & 0.0622972 & 8.75528 \\\\\n",
       "\t10 & 1028 & 100 & 51856.5 & 6324.74 & 19.0782 & -73.419 & 0.00079317 & 9.37595 \\\\\n",
       "\t11 & 1028 & 103 & 51856.5 & 6324.74 & 19.0553 & -73.416 & 0.000954257 & 8.29069 \\\\\n",
       "\t12 & 1028 & 104 & 51856.5 & 6324.74 & 19.0476 & -73.4151 & 0.00079073 & 8.29263 \\\\\n",
       "\t13 & 1028 & 105 & 51856.5 & 6324.74 & 19.038 & -73.414 & 0.000316292 & 13.824 \\\\\n",
       "\t14 & 1028 & 105 & 51856.5 & 6324.74 & 19.038 & -73.414 & 0.00079073 & 8.05898 \\\\\n",
       "\t15 & 1028 & 108 & 51856.5 & 6324.74 & 18.9999 & -73.4091 & 0.000316617 & 8.18139 \\\\\n",
       "\t16 & 1028 & 108 & 51856.5 & 6324.74 & 18.9999 & -73.4091 & 0.000791542 & 10.9301 \\\\\n",
       "\t17 & 1028 & 109 & 51856.5 & 6324.74 & 18.9904 & -73.4081 & 0.00094985 & 9.10865 \\\\\n",
       "\t18 & 1028 & 113 & 51856.5 & 6324.74 & 18.9547 & -73.4035 & 0.00110873 & 31.303 \\\\\n",
       "\t19 & 1028 & 113 & 51856.5 & 6324.74 & 18.9547 & -73.4035 & 0.00126712 & 12.1519 \\\\\n",
       "\t20 & 1028 & 124 & 51856.5 & 6324.74 & 18.6383 & -73.3635 & 0.0284955 & 8.70218 \\\\\n",
       "\t21 & 1028 & 28 & 51856.5 & 6324.74 & 20.0354 & -73.5351 & 0.000316454 & 8.19973 \\\\\n",
       "\t22 & 1028 & 29 & 51856.5 & 6324.74 & 20.0237 & -73.5337 & 0.000317105 & 9.72711 \\\\\n",
       "\t23 & 1028 & 38 & 51856.5 & 6324.74 & 19.8812 & -73.5169 & 0.00110816 & 21.5887 \\\\\n",
       "\t24 & 1028 & 38 & 51856.5 & 6324.74 & 19.8812 & -73.5169 & 0.00126647 & 9.20985 \\\\\n",
       "\t25 & 1028 & 51 & 51856.5 & 6324.74 & 19.605 & -73.4836 & 0.00142624 & 8.19243 \\\\\n",
       "\t26 & 1028 & 60 & 51856.5 & 6324.74 & 19.5003 & -73.4708 & 0.0455461 & 8.09873 \\\\\n",
       "\t27 & 1028 & 69 & 51856.5 & 6324.74 & 19.3793 & -73.4562 & 0.000475169 & 8.50385 \\\\\n",
       "\t28 & 1028 & 72 & 51856.5 & 6324.74 & 19.3407 & -73.4515 & 0.000316779 & 8.79257 \\\\\n",
       "\t29 & 1028 & 72 & 51856.5 & 6324.74 & 19.3407 & -73.4515 & 0.000791948 & 9.73286 \\\\\n",
       "\t30 & 1028 & 73 & 51856.5 & 6324.74 & 19.331 & -73.4502 & 0.00079073 & 8.24599 \\\\\n",
       "\t$\\dots$ & $\\dots$ & $\\dots$ & $\\dots$ & $\\dots$ & $\\dots$ & $\\dots$ & $\\dots$ & $\\dots$ \\\\\n",
       "\\end{tabular}\n"
      ],
      "text/plain": [
       "11255×8 DataFrame. Omitted printing of 2 columns\n",
       "│ Row   │ obsid │ srcnum │ startdate │ exptime │ ra      │ dec      │\n",
       "│       │ \u001b[90mInt64\u001b[39m │ \u001b[90mInt64\u001b[39m  │ \u001b[90mFloat64\u001b[39m   │ \u001b[90mFloat64\u001b[39m │ \u001b[90mFloat64\u001b[39m │ \u001b[90mFloat64\u001b[39m  │\n",
       "├───────┼───────┼────────┼───────────┼─────────┼─────────┼──────────┤\n",
       "│ 1     │ 1026  │ 26     │ 51833.8   │ 6458.48 │ 19.9382 │ -73.4501 │\n",
       "│ 2     │ 1026  │ 8      │ 51833.8   │ 6458.48 │ 19.5522 │ -73.6193 │\n",
       "│ 3     │ 1027  │ 107    │ 51855.0   │ 6133.27 │ 18.8667 │ -73.3961 │\n",
       "│ 4     │ 1027  │ 107    │ 51855.0   │ 6133.27 │ 18.8667 │ -73.3961 │\n",
       "│ 5     │ 1027  │ 36     │ 51855.0   │ 6133.27 │ 19.782  │ -73.5006 │\n",
       "│ 6     │ 1027  │ 40     │ 51855.0   │ 6133.27 │ 19.7033 │ -73.4917 │\n",
       "│ 7     │ 1027  │ 54     │ 51855.0   │ 6133.27 │ 19.5056 │ -73.4696 │\n",
       "│ 8     │ 1027  │ 58     │ 51855.0   │ 6133.27 │ 19.4489 │ -73.4632 │\n",
       "│ 9     │ 1027  │ 91     │ 51855.0   │ 6133.27 │ 19.0827 │ -73.4213 │\n",
       "│ 10    │ 1028  │ 100    │ 51856.5   │ 6324.74 │ 19.0782 │ -73.419  │\n",
       "⋮\n",
       "│ 11245 │ 9810  │ 8      │ 54495.4   │ 56530.7 │ 16.5087 │ -72.1176 │\n",
       "│ 11246 │ 9810  │ 8      │ 54495.4   │ 56530.7 │ 16.5087 │ -72.1176 │\n",
       "│ 11247 │ 9810  │ 8      │ 54495.4   │ 56530.7 │ 16.5087 │ -72.1176 │\n",
       "│ 11248 │ 9810  │ 8      │ 54495.4   │ 56530.7 │ 16.5087 │ -72.1176 │\n",
       "│ 11249 │ 9810  │ 8      │ 54495.4   │ 56530.7 │ 16.5087 │ -72.1176 │\n",
       "│ 11250 │ 9810  │ 8      │ 54495.4   │ 56530.7 │ 16.5087 │ -72.1176 │\n",
       "│ 11251 │ 9810  │ 8      │ 54495.4   │ 56530.7 │ 16.5087 │ -72.1176 │\n",
       "│ 11252 │ 9810  │ 8      │ 54495.4   │ 56530.7 │ 16.5087 │ -72.1176 │\n",
       "│ 11253 │ 9810  │ 9      │ 54495.4   │ 56530.7 │ 16.4584 │ -72.1089 │\n",
       "│ 11254 │ 9810  │ 9      │ 54495.4   │ 56530.7 │ 16.4584 │ -72.1089 │\n",
       "│ 11255 │ 9810  │ 9      │ 54495.4   │ 56530.7 │ 16.4584 │ -72.1089 │"
      ]
     },
     "execution_count": 24,
     "metadata": {},
     "output_type": "execute_result"
    }
   ],
   "source": [
    "pows12=CSV.read(\"cxc.fftinfo.all12\")\n",
    "pows8=CSV.read(\"cxc.fftinfo.all8\")"
   ]
  },
  {
   "cell_type": "code",
   "execution_count": 31,
   "metadata": {},
   "outputs": [
    {
     "name": "stdout",
     "output_type": "stream",
     "text": [
      "100.00% complete\r"
     ]
    },
    {
     "data": {
      "text/plain": [
       "63331885-element Array{Any,1}:\n",
       " 0\n",
       " 0\n",
       " 0\n",
       " 0\n",
       " 0\n",
       " 0\n",
       " 0\n",
       " 0\n",
       " 0\n",
       " 0\n",
       " 0\n",
       " 0\n",
       " 0\n",
       " ⋮\n",
       " 0\n",
       " 0\n",
       " 0\n",
       " 0\n",
       " 0\n",
       " 0\n",
       " 0\n",
       " 0\n",
       " 0\n",
       " 0\n",
       " 0\n",
       " 0"
      ]
     },
     "execution_count": 31,
     "metadata": {},
     "output_type": "execute_result"
    }
   ],
   "source": [
    "rdist12error=testGCDist(pows12)\n",
    "rdist8error=testGCDist(pows8)"
   ]
  },
  {
   "cell_type": "code",
   "execution_count": 34,
   "metadata": {},
   "outputs": [],
   "source": [
    "rdist12errorVals=[]\n",
    "for i in 1:length(rdist12error)\n",
    "    if rdist12error[i]!=0\n",
    "        push!(rdist12errorVals,rdist12error[i])\n",
    "    end\n",
    "end"
   ]
  },
  {
   "cell_type": "code",
   "execution_count": 43,
   "metadata": {},
   "outputs": [
    {
     "name": "stdout",
     "output_type": "stream",
     "text": [
      "1.0000000000000002 mean of 12 list error\n",
      "0.0 std of 12 list error\n"
     ]
    }
   ],
   "source": [
    "println(mean(rdist12errorVals),\" mean of 12 list error\")\n",
    "println(std(rdist12errorVals),\" std of 12 list error\")"
   ]
  },
  {
   "cell_type": "code",
   "execution_count": 44,
   "metadata": {},
   "outputs": [],
   "source": [
    "rdist8errorVals=[]\n",
    "for i in 1:length(rdist8error)\n",
    "    if rdist8error[i]!=0\n",
    "        push!(rdist8errorVals,rdist8error[i])\n",
    "    end\n",
    "end"
   ]
  },
  {
   "cell_type": "code",
   "execution_count": 45,
   "metadata": {},
   "outputs": [
    {
     "name": "stdout",
     "output_type": "stream",
     "text": [
      "1.0000000000000002 mean of 8 list error\n",
      "0.0 std of 8 list error\n"
     ]
    }
   ],
   "source": [
    "println(mean(rdist8errorVals),\" mean of 8 list error\")\n",
    "println(std(rdist8errorVals),\" std of 8 list error\")"
   ]
  },
  {
   "cell_type": "code",
   "execution_count": null,
   "metadata": {},
   "outputs": [],
   "source": []
  }
 ],
 "metadata": {
  "kernelspec": {
   "display_name": "Julia 1.1.1",
   "language": "julia",
   "name": "julia-1.1"
  },
  "language_info": {
   "file_extension": ".jl",
   "mimetype": "application/julia",
   "name": "julia",
   "version": "1.1.1"
  }
 },
 "nbformat": 4,
 "nbformat_minor": 2
}
