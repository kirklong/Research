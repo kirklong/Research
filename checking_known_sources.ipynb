{
 "cells": [
  {
   "cell_type": "code",
   "execution_count": 95,
   "metadata": {},
   "outputs": [
    {
     "name": "stderr",
     "output_type": "stream",
     "text": [
      "WARNING: replacing module DJM.\n"
     ]
    },
    {
     "data": {
      "text/plain": [
       "Main.DJM"
      ]
     },
     "execution_count": 95,
     "metadata": {},
     "output_type": "execute_result"
    }
   ],
   "source": [
    "using DataFrames, CSV, DelimitedFiles, Plots, FFTW\n",
    "include(\"/home/kirk/Documents/research/CHANDRATest/DJM.jl\")"
   ]
  },
  {
   "cell_type": "code",
   "execution_count": 2,
   "metadata": {},
   "outputs": [
    {
     "data": {
      "text/plain": [
       "genFRange (generic function with 1 method)"
      ]
     },
     "execution_count": 2,
     "metadata": {},
     "output_type": "execute_result"
    }
   ],
   "source": [
    "function genFreqSums(powMatrix)\n",
    "    sums=zeros(length(powMatrix[1,1,2:end]))\n",
    "    for i in 1:length(powMatrix[1,1,2:end])\n",
    "        sums[i]+=sum(powMatrix[:,:,i+1]) #i+1 becaus normal matrix is in 1st slice\n",
    "    end\n",
    "    return sums\n",
    "end\n",
    "function sumsLog(sums)\n",
    "    sums4log=zeros(length(sums))\n",
    "    for i in 1:length(sums4log)\n",
    "        if sums[i]==0\n",
    "            sums4log[i]=1\n",
    "        else\n",
    "            sums4log[i]=sums[i]\n",
    "        end\n",
    "    end\n",
    "    return sums4log\n",
    "end\n",
    "function genFRange(df,powList)\n",
    "    fbins=ceil(maximum(powList.freq[:])/df)\n",
    "    frange=zeros(Int(fbins))\n",
    "    for i in 1:length(frange)\n",
    "        frange[i]=i*df\n",
    "    end\n",
    "    return frange\n",
    "end"
   ]
  },
  {
   "cell_type": "code",
   "execution_count": 96,
   "metadata": {},
   "outputs": [
    {
     "name": "stdout",
     "output_type": "stream",
     "text": [
      "1255743 potential matches had the same obsid and were excluded.\n"
     ]
    },
    {
     "data": {
      "text/plain": [
       "([0.0 0.0 … 0.0 0.0; 0.0 0.0 … 0.0 0.0; … ; 0.0 0.0 … 0.0 0.0; 0.0 0.0 … 0.0 6.0]\n",
       "\n",
       "[0.0 0.0 … 0.0 0.0; 0.0 0.0 … 0.0 0.0; … ; 0.0 0.0 … 0.0 0.0; 0.0 0.0 … 0.0 0.0]\n",
       "\n",
       "[0.0 0.0 … 0.0 0.0; 0.0 0.0 … 0.0 0.0; … ; 0.0 0.0 … 0.0 0.0; 0.0 0.0 … 0.0 0.0]\n",
       "\n",
       "...\n",
       "\n",
       "[0.0 0.0 … 0.0 0.0; 0.0 0.0 … 0.0 0.0; … ; 0.0 0.0 … 0.0 0.0; 0.0 0.0 … 0.0 0.0]\n",
       "\n",
       "[0.0 0.0 … 0.0 0.0; 0.0 0.0 … 0.0 0.0; … ; 0.0 0.0 … 0.0 0.0; 0.0 0.0 … 0.0 0.0]\n",
       "\n",
       "[0.0 0.0 … 0.0 0.0; 0.0 0.0 … 0.0 0.0; … ; 0.0 0.0 … 0.0 0.0; 0.0 0.0 … 0.0 0.0], Any[Tuple{Int64,Int64}[(65, 508)], Tuple{Int64,Int64}[(65, 509)], Tuple{Int64,Int64}[(65, 510)], Tuple{Int64,Int64}[(66, 511)], Tuple{Int64,Int64}[(66, 512)], Tuple{Int64,Int64}[(124, 1339)], Tuple{Int64,Int64}[(124, 1340)], Tuple{Int64,Int64}[(124, 1341)], Tuple{Int64,Int64}[(125, 1339)], Tuple{Int64,Int64}[(125, 1340)]  …  Tuple{Int64,Int64}[(10985, 11045)], Tuple{Int64,Int64}[(10985, 11046)], Tuple{Int64,Int64}[(10986, 11043)], Tuple{Int64,Int64}[(10986, 11044)], Tuple{Int64,Int64}[(10986, 11045)], Tuple{Int64,Int64}[(10986, 11046)], Tuple{Int64,Int64}[(10987, 11048)], Tuple{Int64,Int64}[(10988, 11048)], Tuple{Int64,Int64}[(10989, 11048)], Tuple{Int64,Int64}[(11010, 11077)]])"
      ]
     },
     "execution_count": 96,
     "metadata": {},
     "output_type": "execute_result"
    }
   ],
   "source": [
    "pows8=CSV.read(\"cxc.fftinfo.all8\")\n",
    "pows8MatrixOVERLAP,pows8src=DJM.createPowMatrix(pows8,1)"
   ]
  },
  {
   "cell_type": "code",
   "execution_count": 97,
   "metadata": {},
   "outputs": [
    {
     "data": {
      "text/plain": [
       "250-element Array{Any,1}:\n",
       " Tuple{Int64,Int64}[(65, 508)]     \n",
       " Tuple{Int64,Int64}[(65, 509)]     \n",
       " Tuple{Int64,Int64}[(65, 510)]     \n",
       " Tuple{Int64,Int64}[(66, 511)]     \n",
       " Tuple{Int64,Int64}[(66, 512)]     \n",
       " Tuple{Int64,Int64}[(124, 1339)]   \n",
       " Tuple{Int64,Int64}[(124, 1340)]   \n",
       " Tuple{Int64,Int64}[(124, 1341)]   \n",
       " Tuple{Int64,Int64}[(125, 1339)]   \n",
       " Tuple{Int64,Int64}[(125, 1340)]   \n",
       " Tuple{Int64,Int64}[(125, 1341)]   \n",
       " Tuple{Int64,Int64}[(325, 1250)]   \n",
       " Tuple{Int64,Int64}[(325, 1251)]   \n",
       " ⋮                                 \n",
       " Tuple{Int64,Int64}[(10985, 11043)]\n",
       " Tuple{Int64,Int64}[(10985, 11044)]\n",
       " Tuple{Int64,Int64}[(10985, 11045)]\n",
       " Tuple{Int64,Int64}[(10985, 11046)]\n",
       " Tuple{Int64,Int64}[(10986, 11043)]\n",
       " Tuple{Int64,Int64}[(10986, 11044)]\n",
       " Tuple{Int64,Int64}[(10986, 11045)]\n",
       " Tuple{Int64,Int64}[(10986, 11046)]\n",
       " Tuple{Int64,Int64}[(10987, 11048)]\n",
       " Tuple{Int64,Int64}[(10988, 11048)]\n",
       " Tuple{Int64,Int64}[(10989, 11048)]\n",
       " Tuple{Int64,Int64}[(11010, 11077)]"
      ]
     },
     "execution_count": 97,
     "metadata": {},
     "output_type": "execute_result"
    }
   ],
   "source": [
    "pows8src"
   ]
  },
  {
   "cell_type": "code",
   "execution_count": 4,
   "metadata": {},
   "outputs": [
    {
     "data": {
      "text/html": [
       "<table class=\"data-frame\"><thead><tr><th></th><th>name</th><th>ra</th><th>dec</th><th>porb</th><th>fx_limit</th><th>fx</th><th>fx_max</th></tr><tr><th></th><th>String</th><th>Float64⍰</th><th>Float64⍰</th><th>Float64⍰</th><th>String⍰</th><th>Float64⍰</th><th>Float64⍰</th></tr></thead><tbody><p>53 rows × 8 columns (omitted printing of 1 columns)</p><tr><th>1</th><td>XTE SMC144s</td><td>missing</td><td>missing</td><td>61.2</td><td>missing</td><td>missing</td><td>missing</td></tr><tr><th>2</th><td>H 0053-739</td><td>13.6508</td><td>-73.6764</td><td>missing</td><td>&lt;</td><td>1.0</td><td>50.0</td></tr><tr><th>3</th><td>RX J0117.6-7330</td><td>19.4225</td><td>-73.5136</td><td>missing</td><td>missing</td><td>10.0</td><td>missing</td></tr><tr><th>4</th><td>2U 0115-737</td><td>19.2729</td><td>-73.4422</td><td>3.89</td><td>missing</td><td>0.5</td><td>57.0</td></tr><tr><th>5</th><td>AX J0057.4-7325</td><td>14.3617</td><td>-73.4172</td><td>missing</td><td>missing</td><td>0.01</td><td>0.11</td></tr><tr><th>6</th><td>RX J0049.7-7323</td><td>12.425</td><td>-73.3875</td><td>394.0</td><td>missing</td><td>0.001</td><td>2.0</td></tr><tr><th>7</th><td>RX J0052.1-7319</td><td>13.0579</td><td>-73.3203</td><td>missing</td><td>missing</td><td>0.024</td><td>4.7</td></tr><tr><th>8</th><td>XTE SMC46</td><td>12.75</td><td>-73.3</td><td>missing</td><td>~</td><td>0.36</td><td>missing</td></tr><tr><th>9</th><td>XTE J0111.2-7317</td><td>17.785</td><td>-73.2794</td><td>missing</td><td>missing</td><td>95.7</td><td>missing</td></tr><tr><th>10</th><td>RX J0050.7-7316</td><td>12.6862</td><td>-73.2681</td><td>1.416</td><td>missing</td><td>0.16</td><td>missing</td></tr><tr><th>11</th><td>XTE J0050-732#1</td><td>12.5</td><td>-73.2667</td><td>189.0</td><td>missing</td><td>0.04</td><td>missing</td></tr><tr><th>12</th><td>XTE J0050-732#2</td><td>12.5</td><td>-73.2667</td><td>missing</td><td>missing</td><td>0.3</td><td>missing</td></tr><tr><th>13</th><td>RX J0047.3-7312</td><td>11.8476</td><td>-73.2076</td><td>48.8</td><td>missing</td><td>0.02</td><td>0.2</td></tr><tr><th>14</th><td>XTE J0119-731</td><td>19.9625</td><td>-73.1967</td><td>missing</td><td>missing</td><td>0.63</td><td>missing</td></tr><tr><th>15</th><td>RX J0049.2-7311</td><td>12.3077</td><td>-73.1935</td><td>missing</td><td>missing</td><td>0.04</td><td>missing</td></tr><tr><th>16</th><td>RX J0051.9-7311</td><td>12.9679</td><td>-73.1759</td><td>67.0</td><td>missing</td><td>1.2</td><td>missing</td></tr><tr><th>17</th><td>AX J0049-729</td><td>12.2604</td><td>-72.8478</td><td>642.0</td><td>missing</td><td>0.5</td><td>9.0</td></tr><tr><th>18</th><td>XTE SMC95</td><td>13.35</td><td>-72.8217</td><td>280.0</td><td>missing</td><td>2.1</td><td>missing</td></tr><tr><th>19</th><td>AX J0054.8-7244</td><td>13.7328</td><td>-72.7529</td><td>261.0</td><td>missing</td><td>0.066</td><td>missing</td></tr><tr><th>20</th><td>XTE J0051-727</td><td>12.925</td><td>-72.75</td><td>missing</td><td>missing</td><td>1.8</td><td>missing</td></tr><tr><th>21</th><td>XTE J0103-728</td><td>15.85</td><td>-72.7167</td><td>missing</td><td>missing</td><td>4.0</td><td>missing</td></tr><tr><th>22</th><td>XTE J0055-727</td><td>13.85</td><td>-72.7</td><td>34.8</td><td>missing</td><td>2.8</td><td>missing</td></tr><tr><th>23</th><td>XMMU J005517.9-723853</td><td>13.8268</td><td>-72.6477</td><td>missing</td><td>missing</td><td>11.7</td><td>missing</td></tr><tr><th>24</th><td>XTE J0052-725</td><td>13.0379</td><td>-72.6342</td><td>missing</td><td>missing</td><td>0.36</td><td>missing</td></tr><tr><th>25</th><td>RX J0051.8-7231</td><td>12.9708</td><td>-72.5292</td><td>28.0</td><td>missing</td><td>0.01</td><td>9.0</td></tr><tr><th>26</th><td>CXOU J005323.8-722715</td><td>13.3492</td><td>-72.4542</td><td>125.0</td><td>missing</td><td>0.01</td><td>missing</td></tr><tr><th>27</th><td>1WGA J0053.8-7226</td><td>13.4792</td><td>-72.4464</td><td>139.0</td><td>missing</td><td>1.4</td><td>missing</td></tr><tr><th>28</th><td>XTE Position A</td><td>13.475</td><td>-72.445</td><td>missing</td><td>missing</td><td>missing</td><td>missing</td></tr><tr><th>29</th><td>XTE J0055-724</td><td>13.734</td><td>-72.441</td><td>123.0</td><td>missing</td><td>1.0</td><td>missing</td></tr><tr><th>30</th><td>2S 0050-727</td><td>13.0321</td><td>-72.4306</td><td>45.1</td><td>&lt;</td><td>1.0</td><td>5.0</td></tr><tr><th>&vellip;</th><td>&vellip;</td><td>&vellip;</td><td>&vellip;</td><td>&vellip;</td><td>&vellip;</td><td>&vellip;</td><td>&vellip;</td></tr></tbody></table>"
      ],
      "text/latex": [
       "\\begin{tabular}{r|cccccccc}\n",
       "\t& name & ra & dec & porb & fx\\_limit & fx & fx\\_max & \\\\\n",
       "\t\\hline\n",
       "\t& String & Float64⍰ & Float64⍰ & Float64⍰ & String⍰ & Float64⍰ & Float64⍰ & \\\\\n",
       "\t\\hline\n",
       "\t1 & XTE SMC144s &  &  & 61.2 &  &  &  & $\\dots$ \\\\\n",
       "\t2 & H 0053-739 & 13.6508 & -73.6764 &  & < & 1.0 & 50.0 & $\\dots$ \\\\\n",
       "\t3 & RX J0117.6-7330 & 19.4225 & -73.5136 &  &  & 10.0 &  & $\\dots$ \\\\\n",
       "\t4 & 2U 0115-737 & 19.2729 & -73.4422 & 3.89 &  & 0.5 & 57.0 & $\\dots$ \\\\\n",
       "\t5 & AX J0057.4-7325 & 14.3617 & -73.4172 &  &  & 0.01 & 0.11 & $\\dots$ \\\\\n",
       "\t6 & RX J0049.7-7323 & 12.425 & -73.3875 & 394.0 &  & 0.001 & 2.0 & $\\dots$ \\\\\n",
       "\t7 & RX J0052.1-7319 & 13.0579 & -73.3203 &  &  & 0.024 & 4.7 & $\\dots$ \\\\\n",
       "\t8 & XTE SMC46 & 12.75 & -73.3 &  & \\textasciitilde{} & 0.36 &  & $\\dots$ \\\\\n",
       "\t9 & XTE J0111.2-7317 & 17.785 & -73.2794 &  &  & 95.7 &  & $\\dots$ \\\\\n",
       "\t10 & RX J0050.7-7316 & 12.6862 & -73.2681 & 1.416 &  & 0.16 &  & $\\dots$ \\\\\n",
       "\t11 & XTE J0050-732\\#1 & 12.5 & -73.2667 & 189.0 &  & 0.04 &  & $\\dots$ \\\\\n",
       "\t12 & XTE J0050-732\\#2 & 12.5 & -73.2667 &  &  & 0.3 &  & $\\dots$ \\\\\n",
       "\t13 & RX J0047.3-7312 & 11.8476 & -73.2076 & 48.8 &  & 0.02 & 0.2 & $\\dots$ \\\\\n",
       "\t14 & XTE J0119-731 & 19.9625 & -73.1967 &  &  & 0.63 &  & $\\dots$ \\\\\n",
       "\t15 & RX J0049.2-7311 & 12.3077 & -73.1935 &  &  & 0.04 &  & $\\dots$ \\\\\n",
       "\t16 & RX J0051.9-7311 & 12.9679 & -73.1759 & 67.0 &  & 1.2 &  & $\\dots$ \\\\\n",
       "\t17 & AX J0049-729 & 12.2604 & -72.8478 & 642.0 &  & 0.5 & 9.0 & $\\dots$ \\\\\n",
       "\t18 & XTE SMC95 & 13.35 & -72.8217 & 280.0 &  & 2.1 &  & $\\dots$ \\\\\n",
       "\t19 & AX J0054.8-7244 & 13.7328 & -72.7529 & 261.0 &  & 0.066 &  & $\\dots$ \\\\\n",
       "\t20 & XTE J0051-727 & 12.925 & -72.75 &  &  & 1.8 &  & $\\dots$ \\\\\n",
       "\t21 & XTE J0103-728 & 15.85 & -72.7167 &  &  & 4.0 &  & $\\dots$ \\\\\n",
       "\t22 & XTE J0055-727 & 13.85 & -72.7 & 34.8 &  & 2.8 &  & $\\dots$ \\\\\n",
       "\t23 & XMMU J005517.9-723853 & 13.8268 & -72.6477 &  &  & 11.7 &  & $\\dots$ \\\\\n",
       "\t24 & XTE J0052-725 & 13.0379 & -72.6342 &  &  & 0.36 &  & $\\dots$ \\\\\n",
       "\t25 & RX J0051.8-7231 & 12.9708 & -72.5292 & 28.0 &  & 0.01 & 9.0 & $\\dots$ \\\\\n",
       "\t26 & CXOU J005323.8-722715 & 13.3492 & -72.4542 & 125.0 &  & 0.01 &  & $\\dots$ \\\\\n",
       "\t27 & 1WGA J0053.8-7226 & 13.4792 & -72.4464 & 139.0 &  & 1.4 &  & $\\dots$ \\\\\n",
       "\t28 & XTE Position A & 13.475 & -72.445 &  &  &  &  & $\\dots$ \\\\\n",
       "\t29 & XTE J0055-724 & 13.734 & -72.441 & 123.0 &  & 1.0 &  & $\\dots$ \\\\\n",
       "\t30 & 2S 0050-727 & 13.0321 & -72.4306 & 45.1 & < & 1.0 & 5.0 & $\\dots$ \\\\\n",
       "\t$\\dots$ & $\\dots$ & $\\dots$ & $\\dots$ & $\\dots$ & $\\dots$ & $\\dots$ & $\\dots$ &  \\\\\n",
       "\\end{tabular}\n"
      ],
      "text/plain": [
       "53×8 DataFrame. Omitted printing of 3 columns\n",
       "│ Row │ name                  │ ra       │ dec      │ porb     │ fx_limit │\n",
       "│     │ \u001b[90mString\u001b[39m                │ \u001b[90mFloat64⍰\u001b[39m │ \u001b[90mFloat64⍰\u001b[39m │ \u001b[90mFloat64⍰\u001b[39m │ \u001b[90mString⍰\u001b[39m  │\n",
       "├─────┼───────────────────────┼──────────┼──────────┼──────────┼──────────┤\n",
       "│ 1   │ XTE SMC144s           │ \u001b[90mmissing\u001b[39m  │ \u001b[90mmissing\u001b[39m  │ 61.2     │ \u001b[90mmissing\u001b[39m  │\n",
       "│ 2   │ H 0053-739            │ 13.6508  │ -73.6764 │ \u001b[90mmissing\u001b[39m  │ <        │\n",
       "│ 3   │ RX J0117.6-7330       │ 19.4225  │ -73.5136 │ \u001b[90mmissing\u001b[39m  │ \u001b[90mmissing\u001b[39m  │\n",
       "│ 4   │ 2U 0115-737           │ 19.2729  │ -73.4422 │ 3.89     │ \u001b[90mmissing\u001b[39m  │\n",
       "│ 5   │ AX J0057.4-7325       │ 14.3617  │ -73.4172 │ \u001b[90mmissing\u001b[39m  │ \u001b[90mmissing\u001b[39m  │\n",
       "│ 6   │ RX J0049.7-7323       │ 12.425   │ -73.3875 │ 394.0    │ \u001b[90mmissing\u001b[39m  │\n",
       "│ 7   │ RX J0052.1-7319       │ 13.0579  │ -73.3203 │ \u001b[90mmissing\u001b[39m  │ \u001b[90mmissing\u001b[39m  │\n",
       "│ 8   │ XTE SMC46             │ 12.75    │ -73.3    │ \u001b[90mmissing\u001b[39m  │ ~        │\n",
       "│ 9   │ XTE J0111.2-7317      │ 17.785   │ -73.2794 │ \u001b[90mmissing\u001b[39m  │ \u001b[90mmissing\u001b[39m  │\n",
       "│ 10  │ RX J0050.7-7316       │ 12.6862  │ -73.2681 │ 1.416    │ \u001b[90mmissing\u001b[39m  │\n",
       "⋮\n",
       "│ 43  │ RX J0057.8-7202       │ 14.4517  │ -72.045  │ \u001b[90mmissing\u001b[39m  │ \u001b[90mmissing\u001b[39m  │\n",
       "│ 44  │ RX J0103.6-7201       │ 15.9065  │ -72.0259 │ \u001b[90mmissing\u001b[39m  │ \u001b[90mmissing\u001b[39m  │\n",
       "│ 45  │ RX J0052.9-7158       │ 13.2467  │ -71.9661 │ 200.0    │ \u001b[90mmissing\u001b[39m  │\n",
       "│ 46  │ RX J0059.2-7138       │ 14.7971  │ -71.6458 │ \u001b[90mmissing\u001b[39m  │ \u001b[90mmissing\u001b[39m  │\n",
       "│ 47  │ 1SAX J0544.1-7100     │ 86.0263  │ -71.0139 │ 286.0    │ \u001b[90mmissing\u001b[39m  │\n",
       "│ 48  │ 1A 0535-668           │ 83.9217  │ -66.8644 │ 16.7     │ \u001b[90mmissing\u001b[39m  │\n",
       "│ 49  │ RX J0502.9-6626       │ 75.715   │ -66.4403 │ \u001b[90mmissing\u001b[39m  │ \u001b[90mmissing\u001b[39m  │\n",
       "│ 50  │ 2A 0532-664           │ 83.1921  │ -66.3675 │ 1.4      │ <        │\n",
       "│ 51  │ RX J0531.2-6607       │ 82.8075  │ -66.1175 │ 25.4     │ \u001b[90mmissing\u001b[39m  │\n",
       "│ 52  │ RX J0529.8-6556       │ 82.4517  │ -65.9475 │ \u001b[90mmissing\u001b[39m  │ \u001b[90mmissing\u001b[39m  │\n",
       "│ 53  │ XMMU J053011.2-655122 │ 82.5442  │ -65.8575 │ \u001b[90mmissing\u001b[39m  │ \u001b[90mmissing\u001b[39m  │"
      ]
     },
     "execution_count": 4,
     "metadata": {},
     "output_type": "execute_result"
    }
   ],
   "source": [
    "MCList=CSV.read(\"MCTestList.csv\")\n",
    "noMissing=dropmissing(MCList,:pulse_period,disallowmissing=true)"
   ]
  },
  {
   "cell_type": "code",
   "execution_count": 5,
   "metadata": {},
   "outputs": [
    {
     "data": {
      "text/plain": [
       "findFreqMatches (generic function with 1 method)"
      ]
     },
     "execution_count": 5,
     "metadata": {},
     "output_type": "execute_result"
    }
   ],
   "source": [
    "justFreq8=pows8.freq[:]\n",
    "knownFreq=noMissing.pulse_period[:].^-1\n",
    "using Formatting  \n",
    "function findFreqMatches(knownList,freqList,srcIndList)\n",
    "    confirmedFreqInd=[] #keep track of places where frequencies potentially match to known pulsars\n",
    "    unconfirmedFreqInd=[]\n",
    "    \n",
    "    for i in 1:length(srcIndList)\n",
    "        print(format(i/length(srcIndList)*100,precision=2),\"% complete\\r\") #output % tracker\n",
    "        freq1Ind=first.(srcIndList[i])[1] #first element from tuple at index i, contains index where freq is\n",
    "        freq2Ind=last.(srcIndList[i])[1] #1 needed because technically last.(A) returns [A] not just A\n",
    "        freq1=freqList[freq1Ind]\n",
    "        freq2=freqList[freq2Ind]\n",
    "        if freq1>freq2 #check which one is bigger for range argument later\n",
    "            freqMax=freq1\n",
    "            freqMin=freq2\n",
    "        else\n",
    "            freqMax=freq2\n",
    "            freqMin=freq1\n",
    "        end\n",
    "        \n",
    "        for knownFreq in knownList\n",
    "            if freqMax>knownFreq && freqMin<knownFreq\n",
    "                push!(confirmedFreqInd,srcIndList[i]) #push the tuple of indices to confirmed list\n",
    "            end\n",
    "        end\n",
    "    end\n",
    "    \n",
    "    #for ind in srcIndList\n",
    "    #    if ind in confirmedFreqInd\n",
    "    #        continue\n",
    "    #    else\n",
    "    #        push!(unconfirmedFreqInd, ind) #if we didn't already put tuple in confirmed list put it in this one\n",
    "    #    end\n",
    "    #end\n",
    "    \n",
    "    return confirmedFreqInd,unconfirmedFreqInd\n",
    "end\n",
    "                \n",
    "    "
   ]
  },
  {
   "cell_type": "code",
   "execution_count": 6,
   "metadata": {},
   "outputs": [
    {
     "name": "stdout",
     "output_type": "stream",
     "text": [
      "23.51% complete\r"
     ]
    },
    {
     "name": "stderr",
     "output_type": "stream",
     "text": [
      "Excessive output truncated after 524289 bytes."
     ]
    },
    {
     "name": "stdout",
     "output_type": "stream",
     "text": [
      "23.51% complete\r",
      "23.51% complete\r",
      "23.51% complete\r",
      "23.51% complete\r",
      "23.51% complete\r",
      "23.51% complete\r",
      "23.52% complete\r",
      "23.52% complete\r",
      "23.52% complete\r",
      "23.52% complete\r",
      "23.52% complete\r",
      "23.52% complete\r",
      "23.52% complete\r",
      "23.52% complete\r",
      "23.52% complete\r"
     ]
    },
    {
     "data": {
      "text/plain": [
       "(Any[Tuple{Int64,Int64}[(3, 4)], Tuple{Int64,Int64}[(3, 4)], Tuple{Int64,Int64}[(3, 4)], Tuple{Int64,Int64}[(3, 4)], Tuple{Int64,Int64}[(3, 4)], Tuple{Int64,Int64}[(3, 4)], Tuple{Int64,Int64}[(3, 4)], Tuple{Int64,Int64}[(3, 4)], Tuple{Int64,Int64}[(3, 4)], Tuple{Int64,Int64}[(3, 4)]  …  Tuple{Int64,Int64}[(11253, 11255)], Tuple{Int64,Int64}[(11253, 11255)], Tuple{Int64,Int64}[(11253, 11255)], Tuple{Int64,Int64}[(11253, 11255)], Tuple{Int64,Int64}[(11253, 11255)], Tuple{Int64,Int64}[(11253, 11255)], Tuple{Int64,Int64}[(11254, 11255)], Tuple{Int64,Int64}[(11254, 11255)], Tuple{Int64,Int64}[(11254, 11255)], Tuple{Int64,Int64}[(11254, 11255)]], Any[])"
      ]
     },
     "execution_count": 6,
     "metadata": {},
     "output_type": "execute_result"
    }
   ],
   "source": [
    "confirmedTest,unconfirmedTest=findFreqMatches(knownFreq,justFreq8,pows8src)"
   ]
  },
  {
   "cell_type": "code",
   "execution_count": 7,
   "metadata": {},
   "outputs": [
    {
     "data": {
      "text/plain": [
       "986681-element Array{Any,1}:\n",
       " Tuple{Int64,Int64}[(3, 4)]        \n",
       " Tuple{Int64,Int64}[(3, 4)]        \n",
       " Tuple{Int64,Int64}[(3, 4)]        \n",
       " Tuple{Int64,Int64}[(3, 4)]        \n",
       " Tuple{Int64,Int64}[(3, 4)]        \n",
       " Tuple{Int64,Int64}[(3, 4)]        \n",
       " Tuple{Int64,Int64}[(3, 4)]        \n",
       " Tuple{Int64,Int64}[(3, 4)]        \n",
       " Tuple{Int64,Int64}[(3, 4)]        \n",
       " Tuple{Int64,Int64}[(3, 4)]        \n",
       " Tuple{Int64,Int64}[(3, 4)]        \n",
       " Tuple{Int64,Int64}[(3, 4)]        \n",
       " Tuple{Int64,Int64}[(3, 4)]        \n",
       " ⋮                                 \n",
       " Tuple{Int64,Int64}[(11253, 11254)]\n",
       " Tuple{Int64,Int64}[(11253, 11254)]\n",
       " Tuple{Int64,Int64}[(11253, 11255)]\n",
       " Tuple{Int64,Int64}[(11253, 11255)]\n",
       " Tuple{Int64,Int64}[(11253, 11255)]\n",
       " Tuple{Int64,Int64}[(11253, 11255)]\n",
       " Tuple{Int64,Int64}[(11253, 11255)]\n",
       " Tuple{Int64,Int64}[(11253, 11255)]\n",
       " Tuple{Int64,Int64}[(11254, 11255)]\n",
       " Tuple{Int64,Int64}[(11254, 11255)]\n",
       " Tuple{Int64,Int64}[(11254, 11255)]\n",
       " Tuple{Int64,Int64}[(11254, 11255)]"
      ]
     },
     "execution_count": 7,
     "metadata": {},
     "output_type": "execute_result"
    }
   ],
   "source": [
    "confirmedTest"
   ]
  },
  {
   "cell_type": "code",
   "execution_count": 9,
   "metadata": {},
   "outputs": [
    {
     "data": {
      "text/plain": [
       "4"
      ]
     },
     "execution_count": 9,
     "metadata": {},
     "output_type": "execute_result"
    }
   ],
   "source": [
    "test1=first.(pows8src[1])[1]\n",
    "test2=last.(pows8src[1])[1]"
   ]
  },
  {
   "cell_type": "code",
   "execution_count": 12,
   "metadata": {},
   "outputs": [
    {
     "data": {
      "text/plain": [
       "0.01854539992678998"
      ]
     },
     "execution_count": 12,
     "metadata": {},
     "output_type": "execute_result"
    }
   ],
   "source": [
    "freq1=justFreq8[test1]"
   ]
  },
  {
   "cell_type": "code",
   "execution_count": 13,
   "metadata": {},
   "outputs": [
    {
     "data": {
      "text/plain": [
       "0.14409611624532392"
      ]
     },
     "execution_count": 13,
     "metadata": {},
     "output_type": "execute_result"
    }
   ],
   "source": [
    "freq2=justFreq8[test2]"
   ]
  },
  {
   "cell_type": "code",
   "execution_count": 14,
   "metadata": {},
   "outputs": [
    {
     "data": {
      "text/plain": [
       "0.12555071631853396"
      ]
     },
     "execution_count": 14,
     "metadata": {},
     "output_type": "execute_result"
    }
   ],
   "source": [
    "delta=abs(freq2-freq1)"
   ]
  },
  {
   "cell_type": "code",
   "execution_count": 16,
   "metadata": {},
   "outputs": [
    {
     "data": {
      "text/plain": [
       "-73.39613260135003"
      ]
     },
     "execution_count": 16,
     "metadata": {},
     "output_type": "execute_result"
    }
   ],
   "source": [
    "raTest1=pows8.ra[test1]\n",
    "raTest2=pows8.ra[test2]\n",
    "decTest1=pows8.dec[test1]\n",
    "decTest2=pows8.dec[test2]"
   ]
  },
  {
   "cell_type": "code",
   "execution_count": 17,
   "metadata": {},
   "outputs": [
    {
     "data": {
      "text/plain": [
       "0.0"
      ]
     },
     "execution_count": 17,
     "metadata": {},
     "output_type": "execute_result"
    }
   ],
   "source": [
    "raDel=abs(raTest2-raTest1)"
   ]
  },
  {
   "cell_type": "code",
   "execution_count": 18,
   "metadata": {},
   "outputs": [
    {
     "data": {
      "text/plain": [
       "0.0"
      ]
     },
     "execution_count": 18,
     "metadata": {},
     "output_type": "execute_result"
    }
   ],
   "source": [
    "decDel=abs(decTest2-decTest1)"
   ]
  },
  {
   "cell_type": "code",
   "execution_count": 23,
   "metadata": {},
   "outputs": [],
   "source": [
    "#from other notebook, just eyeballing decided to test around f=0.107\n",
    "df=0.003 #roughly maximum range surrounding spike without any other spikes\n",
    "freq=0.107\n",
    "matchIndList=[]\n",
    "for i=1:length(knownFreq)\n",
    "    freqCheck=knownFreq[i]\n",
    "    freqMin=freq-df\n",
    "    freqMax=freq+df\n",
    "    if freqCheck>freqMin && freqCheck<freqMax\n",
    "        push!(matchIndList,i) #appends index match found at\n",
    "    end\n",
    "end"
   ]
  },
  {
   "cell_type": "code",
   "execution_count": 24,
   "metadata": {},
   "outputs": [
    {
     "data": {
      "text/plain": [
       "1-element Array{Any,1}:\n",
       " 15"
      ]
     },
     "execution_count": 24,
     "metadata": {},
     "output_type": "execute_result"
    }
   ],
   "source": [
    "matchIndList"
   ]
  },
  {
   "cell_type": "code",
   "execution_count": 25,
   "metadata": {},
   "outputs": [
    {
     "data": {
      "text/html": [
       "<p>DataFrameRow (8 columns)</p><table class=\"data-frame\"><thead><tr><th></th><th>name</th><th>ra</th><th>dec</th><th>porb</th><th>fx_limit</th><th>fx</th><th>fx_max</th><th>pulse_period</th></tr><tr><th></th><th>String</th><th>Float64⍰</th><th>Float64⍰</th><th>Float64⍰</th><th>String⍰</th><th>Float64⍰</th><th>Float64⍰</th><th>Float64</th></tr></thead><tbody><tr><th>15</th><td>RX J0049.2-7311</td><td>12.3077</td><td>-73.1935</td><td>missing</td><td>missing</td><td>0.04</td><td>missing</td><td>9.1321</td></tr></tbody></table>"
      ],
      "text/latex": [
       "\\begin{tabular}{r|cccccccc}\n",
       "\t& name & ra & dec & porb & fx\\_limit & fx & fx\\_max & pulse\\_period\\\\\n",
       "\t\\hline\n",
       "\t& String & Float64⍰ & Float64⍰ & Float64⍰ & String⍰ & Float64⍰ & Float64⍰ & Float64\\\\\n",
       "\t\\hline\n",
       "\t15 & RX J0049.2-7311 & 12.3077 & -73.1935 &  &  & 0.04 &  & 9.1321 \\\\\n",
       "\\end{tabular}\n"
      ],
      "text/plain": [
       "DataFrameRow. Omitted printing of 2 columns\n",
       "│ Row │ name            │ ra       │ dec      │ porb     │ fx_limit │ fx       │\n",
       "│     │ \u001b[90mString\u001b[39m          │ \u001b[90mFloat64⍰\u001b[39m │ \u001b[90mFloat64⍰\u001b[39m │ \u001b[90mFloat64⍰\u001b[39m │ \u001b[90mString⍰\u001b[39m  │ \u001b[90mFloat64⍰\u001b[39m │\n",
       "├─────┼─────────────────┼──────────┼──────────┼──────────┼──────────┼──────────┤\n",
       "│ 15  │ RX J0049.2-7311 │ 12.3077  │ -73.1935 │ \u001b[90mmissing\u001b[39m  │ \u001b[90mmissing\u001b[39m  │ 0.04     │"
      ]
     },
     "execution_count": 25,
     "metadata": {},
     "output_type": "execute_result"
    }
   ],
   "source": [
    "noMissing[15,:]"
   ]
  },
  {
   "cell_type": "code",
   "execution_count": 26,
   "metadata": {},
   "outputs": [
    {
     "data": {
      "text/plain": [
       "0.10950383810952574"
      ]
     },
     "execution_count": 26,
     "metadata": {},
     "output_type": "execute_result"
    }
   ],
   "source": [
    "noMissing.pulse_period[15]^-1"
   ]
  },
  {
   "cell_type": "code",
   "execution_count": 27,
   "metadata": {},
   "outputs": [
    {
     "data": {
      "text/plain": [
       "(12.30767, -73.19353)"
      ]
     },
     "execution_count": 27,
     "metadata": {},
     "output_type": "execute_result"
    }
   ],
   "source": [
    "matchRA,matchDEC=noMissing.ra[15],noMissing.dec[15]"
   ]
  },
  {
   "cell_type": "code",
   "execution_count": 70,
   "metadata": {},
   "outputs": [],
   "source": [
    "fDel=[]\n",
    "for i=2:2:length(pows8src)\n",
    "    push!(fDel,pows8src[i])\n",
    "end"
   ]
  },
  {
   "cell_type": "code",
   "execution_count": 71,
   "metadata": {},
   "outputs": [
    {
     "data": {
      "text/plain": [
       "122761-element Array{Any,1}:\n",
       " 0.0\n",
       " 0.0\n",
       " 0.0\n",
       " 0.0\n",
       " 0.0\n",
       " 0.0\n",
       " 0.0\n",
       " 0.0\n",
       " 0.0\n",
       " 0.0\n",
       " 0.0\n",
       " 0.0\n",
       " 0.0\n",
       " ⋮  \n",
       " 0.0\n",
       " 0.0\n",
       " 0.0\n",
       " 0.0\n",
       " 0.0\n",
       " 0.0\n",
       " 0.0\n",
       " 0.0\n",
       " 0.0\n",
       " 0.0\n",
       " 0.0\n",
       " 0.0"
      ]
     },
     "execution_count": 71,
     "metadata": {},
     "output_type": "execute_result"
    }
   ],
   "source": [
    "fDel"
   ]
  },
  {
   "cell_type": "code",
   "execution_count": 66,
   "metadata": {},
   "outputs": [],
   "source": [
    "fAvgList=[]\n",
    "for i=2:2:length(pows8src)\n",
    "    push!(fAvgList,pows8src[i])\n",
    "end"
   ]
  },
  {
   "cell_type": "code",
   "execution_count": 67,
   "metadata": {},
   "outputs": [
    {
     "data": {
      "text/plain": [
       "122761-element Array{Any,1}:\n",
       " 0.08132075808605695  \n",
       " 0.000553511162953775 \n",
       " 0.0005540791579901564\n",
       " 0.0011879219847346894\n",
       " 0.001187312481407478 \n",
       " 0.0005543635928761885\n",
       " 0.0007120221619271306\n",
       " 0.0007911357354745896\n",
       " 0.0005540791579901564\n",
       " 0.0016377013632435772\n",
       " 0.0011385348222697047\n",
       " 0.0018216557156315275\n",
       " 0.002618630091220321 \n",
       " ⋮                    \n",
       " 0.07068182345318846  \n",
       " 0.05814382771557591  \n",
       " 0.07836698343048767  \n",
       " 0.06501717501921675  \n",
       " 0.06528777924376955  \n",
       " 0.08551093495868131  \n",
       " 0.06772321726474465  \n",
       " 0.0879463729796564   \n",
       " 0.0882169772042092   \n",
       " 0.07591420884170297  \n",
       " 0.11299109645393082  \n",
       " 0.116907163071889    "
      ]
     },
     "execution_count": 67,
     "metadata": {},
     "output_type": "execute_result"
    }
   ],
   "source": [
    "fAvgList"
   ]
  },
  {
   "cell_type": "code",
   "execution_count": 62,
   "metadata": {
    "scrolled": true
   },
   "outputs": [
    {
     "data": {
      "text/html": [
       "<table class=\"data-frame\"><thead><tr><th></th><th>obsid</th><th>srcnum</th><th>startdate</th><th>exptime</th><th>ra</th><th>dec</th><th>freq</th><th>power</th></tr><tr><th></th><th>Int64</th><th>Int64</th><th>Float64</th><th>Float64</th><th>Float64</th><th>Float64</th><th>Float64</th><th>Float64</th></tr></thead><tbody><p>11,255 rows × 8 columns</p><tr><th>1</th><td>1026</td><td>26</td><td>51833.8</td><td>6458.48</td><td>19.9382</td><td>-73.4501</td><td>0.00123975</td><td>13.2664</td></tr><tr><th>2</th><td>1026</td><td>8</td><td>51833.8</td><td>6458.48</td><td>19.5522</td><td>-73.6193</td><td>0.154427</td><td>9.16655</td></tr><tr><th>3</th><td>1027</td><td>107</td><td>51855.0</td><td>6133.27</td><td>18.8667</td><td>-73.3961</td><td>0.0185454</td><td>9.14431</td></tr><tr><th>4</th><td>1027</td><td>107</td><td>51855.0</td><td>6133.27</td><td>18.8667</td><td>-73.3961</td><td>0.144096</td><td>8.02378</td></tr><tr><th>5</th><td>1027</td><td>36</td><td>51855.0</td><td>6133.27</td><td>19.782</td><td>-73.5006</td><td>0.0813522</td><td>8.00401</td></tr><tr><th>6</th><td>1027</td><td>40</td><td>51855.0</td><td>6133.27</td><td>19.7033</td><td>-73.4917</td><td>0.0417401</td><td>8.04439</td></tr><tr><th>7</th><td>1027</td><td>54</td><td>51855.0</td><td>6133.27</td><td>19.5056</td><td>-73.4696</td><td>0.14484</td><td>8.14304</td></tr><tr><th>8</th><td>1027</td><td>58</td><td>51855.0</td><td>6133.27</td><td>19.4489</td><td>-73.4632</td><td>0.0598763</td><td>8.05626</td></tr><tr><th>9</th><td>1027</td><td>91</td><td>51855.0</td><td>6133.27</td><td>19.0827</td><td>-73.4213</td><td>0.0622972</td><td>8.75528</td></tr><tr><th>10</th><td>1028</td><td>100</td><td>51856.5</td><td>6324.74</td><td>19.0782</td><td>-73.419</td><td>0.00079317</td><td>9.37595</td></tr><tr><th>11</th><td>1028</td><td>103</td><td>51856.5</td><td>6324.74</td><td>19.0553</td><td>-73.416</td><td>0.000954257</td><td>8.29069</td></tr><tr><th>12</th><td>1028</td><td>104</td><td>51856.5</td><td>6324.74</td><td>19.0476</td><td>-73.4151</td><td>0.00079073</td><td>8.29263</td></tr><tr><th>13</th><td>1028</td><td>105</td><td>51856.5</td><td>6324.74</td><td>19.038</td><td>-73.414</td><td>0.000316292</td><td>13.824</td></tr><tr><th>14</th><td>1028</td><td>105</td><td>51856.5</td><td>6324.74</td><td>19.038</td><td>-73.414</td><td>0.00079073</td><td>8.05898</td></tr><tr><th>15</th><td>1028</td><td>108</td><td>51856.5</td><td>6324.74</td><td>18.9999</td><td>-73.4091</td><td>0.000316617</td><td>8.18139</td></tr><tr><th>16</th><td>1028</td><td>108</td><td>51856.5</td><td>6324.74</td><td>18.9999</td><td>-73.4091</td><td>0.000791542</td><td>10.9301</td></tr><tr><th>17</th><td>1028</td><td>109</td><td>51856.5</td><td>6324.74</td><td>18.9904</td><td>-73.4081</td><td>0.00094985</td><td>9.10865</td></tr><tr><th>18</th><td>1028</td><td>113</td><td>51856.5</td><td>6324.74</td><td>18.9547</td><td>-73.4035</td><td>0.00110873</td><td>31.303</td></tr><tr><th>19</th><td>1028</td><td>113</td><td>51856.5</td><td>6324.74</td><td>18.9547</td><td>-73.4035</td><td>0.00126712</td><td>12.1519</td></tr><tr><th>20</th><td>1028</td><td>124</td><td>51856.5</td><td>6324.74</td><td>18.6383</td><td>-73.3635</td><td>0.0284955</td><td>8.70218</td></tr><tr><th>21</th><td>1028</td><td>28</td><td>51856.5</td><td>6324.74</td><td>20.0354</td><td>-73.5351</td><td>0.000316454</td><td>8.19973</td></tr><tr><th>22</th><td>1028</td><td>29</td><td>51856.5</td><td>6324.74</td><td>20.0237</td><td>-73.5337</td><td>0.000317105</td><td>9.72711</td></tr><tr><th>23</th><td>1028</td><td>38</td><td>51856.5</td><td>6324.74</td><td>19.8812</td><td>-73.5169</td><td>0.00110816</td><td>21.5887</td></tr><tr><th>24</th><td>1028</td><td>38</td><td>51856.5</td><td>6324.74</td><td>19.8812</td><td>-73.5169</td><td>0.00126647</td><td>9.20985</td></tr><tr><th>25</th><td>1028</td><td>51</td><td>51856.5</td><td>6324.74</td><td>19.605</td><td>-73.4836</td><td>0.00142624</td><td>8.19243</td></tr><tr><th>26</th><td>1028</td><td>60</td><td>51856.5</td><td>6324.74</td><td>19.5003</td><td>-73.4708</td><td>0.0455461</td><td>8.09873</td></tr><tr><th>27</th><td>1028</td><td>69</td><td>51856.5</td><td>6324.74</td><td>19.3793</td><td>-73.4562</td><td>0.000475169</td><td>8.50385</td></tr><tr><th>28</th><td>1028</td><td>72</td><td>51856.5</td><td>6324.74</td><td>19.3407</td><td>-73.4515</td><td>0.000316779</td><td>8.79257</td></tr><tr><th>29</th><td>1028</td><td>72</td><td>51856.5</td><td>6324.74</td><td>19.3407</td><td>-73.4515</td><td>0.000791948</td><td>9.73286</td></tr><tr><th>30</th><td>1028</td><td>73</td><td>51856.5</td><td>6324.74</td><td>19.331</td><td>-73.4502</td><td>0.00079073</td><td>8.24599</td></tr><tr><th>&vellip;</th><td>&vellip;</td><td>&vellip;</td><td>&vellip;</td><td>&vellip;</td><td>&vellip;</td><td>&vellip;</td><td>&vellip;</td><td>&vellip;</td></tr></tbody></table>"
      ],
      "text/latex": [
       "\\begin{tabular}{r|cccccccc}\n",
       "\t& obsid & srcnum & startdate & exptime & ra & dec & freq & power\\\\\n",
       "\t\\hline\n",
       "\t& Int64 & Int64 & Float64 & Float64 & Float64 & Float64 & Float64 & Float64\\\\\n",
       "\t\\hline\n",
       "\t1 & 1026 & 26 & 51833.8 & 6458.48 & 19.9382 & -73.4501 & 0.00123975 & 13.2664 \\\\\n",
       "\t2 & 1026 & 8 & 51833.8 & 6458.48 & 19.5522 & -73.6193 & 0.154427 & 9.16655 \\\\\n",
       "\t3 & 1027 & 107 & 51855.0 & 6133.27 & 18.8667 & -73.3961 & 0.0185454 & 9.14431 \\\\\n",
       "\t4 & 1027 & 107 & 51855.0 & 6133.27 & 18.8667 & -73.3961 & 0.144096 & 8.02378 \\\\\n",
       "\t5 & 1027 & 36 & 51855.0 & 6133.27 & 19.782 & -73.5006 & 0.0813522 & 8.00401 \\\\\n",
       "\t6 & 1027 & 40 & 51855.0 & 6133.27 & 19.7033 & -73.4917 & 0.0417401 & 8.04439 \\\\\n",
       "\t7 & 1027 & 54 & 51855.0 & 6133.27 & 19.5056 & -73.4696 & 0.14484 & 8.14304 \\\\\n",
       "\t8 & 1027 & 58 & 51855.0 & 6133.27 & 19.4489 & -73.4632 & 0.0598763 & 8.05626 \\\\\n",
       "\t9 & 1027 & 91 & 51855.0 & 6133.27 & 19.0827 & -73.4213 & 0.0622972 & 8.75528 \\\\\n",
       "\t10 & 1028 & 100 & 51856.5 & 6324.74 & 19.0782 & -73.419 & 0.00079317 & 9.37595 \\\\\n",
       "\t11 & 1028 & 103 & 51856.5 & 6324.74 & 19.0553 & -73.416 & 0.000954257 & 8.29069 \\\\\n",
       "\t12 & 1028 & 104 & 51856.5 & 6324.74 & 19.0476 & -73.4151 & 0.00079073 & 8.29263 \\\\\n",
       "\t13 & 1028 & 105 & 51856.5 & 6324.74 & 19.038 & -73.414 & 0.000316292 & 13.824 \\\\\n",
       "\t14 & 1028 & 105 & 51856.5 & 6324.74 & 19.038 & -73.414 & 0.00079073 & 8.05898 \\\\\n",
       "\t15 & 1028 & 108 & 51856.5 & 6324.74 & 18.9999 & -73.4091 & 0.000316617 & 8.18139 \\\\\n",
       "\t16 & 1028 & 108 & 51856.5 & 6324.74 & 18.9999 & -73.4091 & 0.000791542 & 10.9301 \\\\\n",
       "\t17 & 1028 & 109 & 51856.5 & 6324.74 & 18.9904 & -73.4081 & 0.00094985 & 9.10865 \\\\\n",
       "\t18 & 1028 & 113 & 51856.5 & 6324.74 & 18.9547 & -73.4035 & 0.00110873 & 31.303 \\\\\n",
       "\t19 & 1028 & 113 & 51856.5 & 6324.74 & 18.9547 & -73.4035 & 0.00126712 & 12.1519 \\\\\n",
       "\t20 & 1028 & 124 & 51856.5 & 6324.74 & 18.6383 & -73.3635 & 0.0284955 & 8.70218 \\\\\n",
       "\t21 & 1028 & 28 & 51856.5 & 6324.74 & 20.0354 & -73.5351 & 0.000316454 & 8.19973 \\\\\n",
       "\t22 & 1028 & 29 & 51856.5 & 6324.74 & 20.0237 & -73.5337 & 0.000317105 & 9.72711 \\\\\n",
       "\t23 & 1028 & 38 & 51856.5 & 6324.74 & 19.8812 & -73.5169 & 0.00110816 & 21.5887 \\\\\n",
       "\t24 & 1028 & 38 & 51856.5 & 6324.74 & 19.8812 & -73.5169 & 0.00126647 & 9.20985 \\\\\n",
       "\t25 & 1028 & 51 & 51856.5 & 6324.74 & 19.605 & -73.4836 & 0.00142624 & 8.19243 \\\\\n",
       "\t26 & 1028 & 60 & 51856.5 & 6324.74 & 19.5003 & -73.4708 & 0.0455461 & 8.09873 \\\\\n",
       "\t27 & 1028 & 69 & 51856.5 & 6324.74 & 19.3793 & -73.4562 & 0.000475169 & 8.50385 \\\\\n",
       "\t28 & 1028 & 72 & 51856.5 & 6324.74 & 19.3407 & -73.4515 & 0.000316779 & 8.79257 \\\\\n",
       "\t29 & 1028 & 72 & 51856.5 & 6324.74 & 19.3407 & -73.4515 & 0.000791948 & 9.73286 \\\\\n",
       "\t30 & 1028 & 73 & 51856.5 & 6324.74 & 19.331 & -73.4502 & 0.00079073 & 8.24599 \\\\\n",
       "\t$\\dots$ & $\\dots$ & $\\dots$ & $\\dots$ & $\\dots$ & $\\dots$ & $\\dots$ & $\\dots$ & $\\dots$ \\\\\n",
       "\\end{tabular}\n"
      ],
      "text/plain": [
       "11255×8 DataFrame. Omitted printing of 2 columns\n",
       "│ Row   │ obsid │ srcnum │ startdate │ exptime │ ra      │ dec      │\n",
       "│       │ \u001b[90mInt64\u001b[39m │ \u001b[90mInt64\u001b[39m  │ \u001b[90mFloat64\u001b[39m   │ \u001b[90mFloat64\u001b[39m │ \u001b[90mFloat64\u001b[39m │ \u001b[90mFloat64\u001b[39m  │\n",
       "├───────┼───────┼────────┼───────────┼─────────┼─────────┼──────────┤\n",
       "│ 1     │ 1026  │ 26     │ 51833.8   │ 6458.48 │ 19.9382 │ -73.4501 │\n",
       "│ 2     │ 1026  │ 8      │ 51833.8   │ 6458.48 │ 19.5522 │ -73.6193 │\n",
       "│ 3     │ 1027  │ 107    │ 51855.0   │ 6133.27 │ 18.8667 │ -73.3961 │\n",
       "│ 4     │ 1027  │ 107    │ 51855.0   │ 6133.27 │ 18.8667 │ -73.3961 │\n",
       "│ 5     │ 1027  │ 36     │ 51855.0   │ 6133.27 │ 19.782  │ -73.5006 │\n",
       "│ 6     │ 1027  │ 40     │ 51855.0   │ 6133.27 │ 19.7033 │ -73.4917 │\n",
       "│ 7     │ 1027  │ 54     │ 51855.0   │ 6133.27 │ 19.5056 │ -73.4696 │\n",
       "│ 8     │ 1027  │ 58     │ 51855.0   │ 6133.27 │ 19.4489 │ -73.4632 │\n",
       "│ 9     │ 1027  │ 91     │ 51855.0   │ 6133.27 │ 19.0827 │ -73.4213 │\n",
       "│ 10    │ 1028  │ 100    │ 51856.5   │ 6324.74 │ 19.0782 │ -73.419  │\n",
       "⋮\n",
       "│ 11245 │ 9810  │ 8      │ 54495.4   │ 56530.7 │ 16.5087 │ -72.1176 │\n",
       "│ 11246 │ 9810  │ 8      │ 54495.4   │ 56530.7 │ 16.5087 │ -72.1176 │\n",
       "│ 11247 │ 9810  │ 8      │ 54495.4   │ 56530.7 │ 16.5087 │ -72.1176 │\n",
       "│ 11248 │ 9810  │ 8      │ 54495.4   │ 56530.7 │ 16.5087 │ -72.1176 │\n",
       "│ 11249 │ 9810  │ 8      │ 54495.4   │ 56530.7 │ 16.5087 │ -72.1176 │\n",
       "│ 11250 │ 9810  │ 8      │ 54495.4   │ 56530.7 │ 16.5087 │ -72.1176 │\n",
       "│ 11251 │ 9810  │ 8      │ 54495.4   │ 56530.7 │ 16.5087 │ -72.1176 │\n",
       "│ 11252 │ 9810  │ 8      │ 54495.4   │ 56530.7 │ 16.5087 │ -72.1176 │\n",
       "│ 11253 │ 9810  │ 9      │ 54495.4   │ 56530.7 │ 16.4584 │ -72.1089 │\n",
       "│ 11254 │ 9810  │ 9      │ 54495.4   │ 56530.7 │ 16.4584 │ -72.1089 │\n",
       "│ 11255 │ 9810  │ 9      │ 54495.4   │ 56530.7 │ 16.4584 │ -72.1089 │"
      ]
     },
     "execution_count": 62,
     "metadata": {},
     "output_type": "execute_result"
    }
   ],
   "source": [
    "pows8"
   ]
  },
  {
   "cell_type": "code",
   "execution_count": 65,
   "metadata": {},
   "outputs": [
    {
     "data": {
      "text/plain": [
       "245522-element Array{Any,1}:\n",
       "  Tuple{Int64,Int64}[(3, 4)]        \n",
       " 0.08132075808605695                \n",
       "  Tuple{Int64,Int64}[(13, 14)]      \n",
       " 0.000553511162953775               \n",
       "  Tuple{Int64,Int64}[(15, 16)]      \n",
       " 0.0005540791579901564              \n",
       "  Tuple{Int64,Int64}[(18, 19)]      \n",
       " 0.0011879219847346894              \n",
       "  Tuple{Int64,Int64}[(23, 24)]      \n",
       " 0.001187312481407478               \n",
       "  Tuple{Int64,Int64}[(28, 29)]      \n",
       " 0.0005543635928761885              \n",
       "  Tuple{Int64,Int64}[(32, 34)]      \n",
       " ⋮                                  \n",
       "  Tuple{Int64,Int64}[(11250, 11251)]\n",
       " 0.06772321726474465                \n",
       "  Tuple{Int64,Int64}[(11250, 11252)]\n",
       " 0.0879463729796564                 \n",
       "  Tuple{Int64,Int64}[(11251, 11252)]\n",
       " 0.0882169772042092                 \n",
       "  Tuple{Int64,Int64}[(11253, 11254)]\n",
       " 0.07591420884170297                \n",
       "  Tuple{Int64,Int64}[(11253, 11255)]\n",
       " 0.11299109645393082                \n",
       "  Tuple{Int64,Int64}[(11254, 11255)]\n",
       " 0.116907163071889                  "
      ]
     },
     "execution_count": 65,
     "metadata": {},
     "output_type": "execute_result"
    }
   ],
   "source": [
    "pows8src"
   ]
  },
  {
   "cell_type": "markdown",
   "metadata": {},
   "source": [
    "# TEST FOR ONE PAIR BELOW"
   ]
  },
  {
   "cell_type": "code",
   "execution_count": 73,
   "metadata": {},
   "outputs": [
    {
     "data": {
      "text/plain": [
       "0.0"
      ]
     },
     "execution_count": 73,
     "metadata": {},
     "output_type": "execute_result"
    }
   ],
   "source": [
    "identifiedPair=[3,4]\n",
    "rdist=DJM.gcdist(pows8.ra[3],pows8.dec[3],pows8.ra[4],pows8.dec[4])"
   ]
  },
  {
   "cell_type": "code",
   "execution_count": 75,
   "metadata": {},
   "outputs": [
    {
     "name": "stdout",
     "output_type": "stream",
     "text": [
      "avg pow: 0.08132075808605695\n",
      "pow 1: 0.01854539992678998\n",
      "pow 2: 0.14409611624532392\n"
     ]
    }
   ],
   "source": [
    "fAvg=(pows8.freq[3]+pows8.freq[4])/2\n",
    "println(\"avg pow: \",fAvg)\n",
    "println(\"pow 1: \",pows8.freq[3])\n",
    "println(\"pow 2: \",pows8.freq[4])"
   ]
  },
  {
   "cell_type": "code",
   "execution_count": 76,
   "metadata": {},
   "outputs": [
    {
     "data": {
      "text/plain": [
       "0.0"
      ]
     },
     "execution_count": 76,
     "metadata": {},
     "output_type": "execute_result"
    }
   ],
   "source": [
    "dt=(pows8.startdate[3]-pows8.startdate[4])*24*3600"
   ]
  },
  {
   "cell_type": "code",
   "execution_count": 87,
   "metadata": {},
   "outputs": [],
   "source": [
    "#CHECKING IF ALL DT = 0\n",
    "dtList=[]\n",
    "for i=1:2:(length(pows8src)-1)\n",
    "    pair=pows8src[i]\n",
    "    ind1=first.(pair)[1]\n",
    "    ind2=last.(pair)[1]\n",
    "    dt=abs((pows8.startdate[ind1]-pows8.startdate[ind2])*24*3600)\n",
    "    push!(dtList,dt)\n",
    "end\n",
    "    "
   ]
  },
  {
   "cell_type": "code",
   "execution_count": 88,
   "metadata": {},
   "outputs": [
    {
     "data": {
      "text/plain": [
       "122761-element Array{Any,1}:\n",
       " 0.0\n",
       " 0.0\n",
       " 0.0\n",
       " 0.0\n",
       " 0.0\n",
       " 0.0\n",
       " 0.0\n",
       " 0.0\n",
       " 0.0\n",
       " 0.0\n",
       " 0.0\n",
       " 0.0\n",
       " 0.0\n",
       " ⋮  \n",
       " 0.0\n",
       " 0.0\n",
       " 0.0\n",
       " 0.0\n",
       " 0.0\n",
       " 0.0\n",
       " 0.0\n",
       " 0.0\n",
       " 0.0\n",
       " 0.0\n",
       " 0.0\n",
       " 0.0"
      ]
     },
     "execution_count": 88,
     "metadata": {},
     "output_type": "execute_result"
    }
   ],
   "source": [
    "dtList"
   ]
  },
  {
   "cell_type": "code",
   "execution_count": 89,
   "metadata": {},
   "outputs": [
    {
     "name": "stdout",
     "output_type": "stream",
     "text": [
      "std: 3221.977621410686\n",
      "mean: 137.86952760681908\n",
      "min: 0.0\n",
      "max: 99683.71945037507\n"
     ]
    }
   ],
   "source": [
    "using Statistics\n",
    "println(\"std: \",std(dtList))\n",
    "println(\"mean: \",mean(dtList))\n",
    "println(\"min: \",minimum(dtList))\n",
    "println(\"max: \",maximum(dtList))"
   ]
  },
  {
   "cell_type": "code",
   "execution_count": 92,
   "metadata": {},
   "outputs": [
    {
     "name": "stdout",
     "output_type": "stream",
     "text": [
      "number of zeros in dt: 122511\n",
      "% zeroes: 99.79635226171179 %\n",
      "non-zero values: 250\n"
     ]
    }
   ],
   "source": [
    "zeroCount=0\n",
    "for time in dtList\n",
    "    if time==0.0\n",
    "        zeroCount+=1\n",
    "    end\n",
    "end\n",
    "println(\"number of zeros in dt: \",zeroCount)\n",
    "println(\"% zeroes: \",zeroCount/length(dtList)*100,\" %\")\n",
    "println(\"non-zero values: \",length(dtList)-zeroCount)"
   ]
  },
  {
   "cell_type": "code",
   "execution_count": null,
   "metadata": {},
   "outputs": [],
   "source": []
  }
 ],
 "metadata": {
  "kernelspec": {
   "display_name": "Julia 1.1.1",
   "language": "julia",
   "name": "julia-1.1"
  },
  "language_info": {
   "file_extension": ".jl",
   "mimetype": "application/julia",
   "name": "julia",
   "version": "1.1.1"
  }
 },
 "nbformat": 4,
 "nbformat_minor": 2
}
